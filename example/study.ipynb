{
 "cells": [
  {
   "cell_type": "code",
   "execution_count": 3,
   "id": "a439ad30-cd80-4434-b735-18a14dcf6eda",
   "metadata": {},
   "outputs": [
    {
     "data": {
      "text/plain": [
       "0.1260860443133044"
      ]
     },
     "execution_count": 3,
     "metadata": {},
     "output_type": "execute_result"
    }
   ],
   "source": [
    "import random as r\n",
    "r.random() # f;pat x, 0.0 <= x < 1.0"
   ]
  },
  {
   "cell_type": "code",
   "execution_count": 5,
   "id": "3314d712-26d0-462b-ae6a-794b499261b0",
   "metadata": {},
   "outputs": [
    {
     "data": {
      "text/plain": [
       "0.6863262322743864"
      ]
     },
     "execution_count": 5,
     "metadata": {},
     "output_type": "execute_result"
    }
   ],
   "source": [
    "from random import random # 가급적이면 import random as r 을 쓰는게 더 좋은듯 하다나 뭐라나...\n",
    "random()"
   ]
  },
  {
   "cell_type": "code",
   "execution_count": 10,
   "id": "3fe6148c-3ae6-4028-9113-14624b7d66a2",
   "metadata": {},
   "outputs": [
    {
     "data": {
      "text/plain": [
       "1.9632602930878118"
      ]
     },
     "execution_count": 10,
     "metadata": {},
     "output_type": "execute_result"
    }
   ],
   "source": [
    "r.uniform(1,45) # float x, 0.0 <= x < 45.0"
   ]
  },
  {
   "cell_type": "code",
   "execution_count": 12,
   "id": "a42974d6-33a5-4929-b726-73f203de675e",
   "metadata": {},
   "outputs": [
    {
     "data": {
      "text/plain": [
       "21"
      ]
     },
     "execution_count": 12,
     "metadata": {},
     "output_type": "execute_result"
    }
   ],
   "source": [
    "r.randint(1,45) # 정수 x , 0.0 <= x <= 45.0 , endpoints included"
   ]
  },
  {
   "cell_type": "code",
   "execution_count": 19,
   "id": "506d2cb6-2013-46fa-bdfa-e0eda65a803d",
   "metadata": {},
   "outputs": [
    {
     "data": {
      "text/plain": [
       "32"
      ]
     },
     "execution_count": 19,
     "metadata": {},
     "output_type": "execute_result"
    }
   ],
   "source": [
    "# 함수로 만들어지는 정수중에 하나를 랜덤하게 리턴\n",
    "r.randrange(0,101,2)"
   ]
  },
  {
   "cell_type": "code",
   "execution_count": 23,
   "id": "63be7ce5-a3b2-4ed8-ad11-13b90a229bd0",
   "metadata": {},
   "outputs": [
    {
     "data": {
      "text/plain": [
       "'l'"
      ]
     },
     "execution_count": 23,
     "metadata": {},
     "output_type": "execute_result"
    }
   ],
   "source": [
    "# 랜덤하게 하나의 원소를 선택\n",
    "r.choice('apple is good') # Choose a random element"
   ]
  },
  {
   "cell_type": "code",
   "execution_count": 32,
   "id": "bea2cb7f-958a-4f54-8e41-11785565af8e",
   "metadata": {},
   "outputs": [
    {
     "data": {
      "text/plain": [
       "[6, 5, 7, 8]"
      ]
     },
     "execution_count": 32,
     "metadata": {},
     "output_type": "execute_result"
    }
   ],
   "source": [
    "# 랜덤하게 여려개의 원소를 선택\n",
    "r.sample([1,2,3,4,5,6,7,8],4) # choice a elements"
   ]
  },
  {
   "cell_type": "code",
   "execution_count": 27,
   "id": "6d910530-3a00-4bae-851b-98ed623de444",
   "metadata": {},
   "outputs": [
    {
     "name": "stdout",
     "output_type": "stream",
     "text": [
      "[1, 2, 3, 4, 5, 6, 7, 8]\n",
      "[7, 8, 2, 3, 6, 1, 5, 4]\n"
     ]
    }
   ],
   "source": [
    "# 요소를 랜덤하게 섞기\n",
    "a = [1,2,3,4,5,6,7,8]\n",
    "print(a)\n",
    "r.shuffle(a)\n",
    "print(a)"
   ]
  },
  {
   "cell_type": "code",
   "execution_count": 1,
   "id": "24c8bed7-3fd1-4cc3-861f-04784f35a9e6",
   "metadata": {},
   "outputs": [
    {
     "name": "stdout",
     "output_type": "stream",
     "text": [
      "[4, 7, 21, 41, 42, 44]\n"
     ]
    }
   ],
   "source": [
    "def lotto():\n",
    "    from random import randint\n",
    "    lotto=[]\n",
    "    while (len(lotto)<6):\n",
    "        pick = randint(1,45)\n",
    "        if pick not in lotto:lotto.append(pick)\n",
    "    lotto.sort()\n",
    "    return lotto\n",
    "print(lotto())"
   ]
  },
  {
   "cell_type": "code",
   "execution_count": 2,
   "id": "abecf6ff-7792-4aad-80e3-6f2150833649",
   "metadata": {},
   "outputs": [],
   "source": [
    "# 로또 번호를 추출하라(1 ~ 45)(임의의 6자리 번호를 생성하도록\n",
    "def ck():\n",
    "    for k in range(1000):\n",
    "        out = lotto()\n",
    "        ck = len(set(out))\n",
    "        if ck != 6:\n",
    "            print(k+1, '번째 중복 발생', out)\n",
    "            break\n",
    "        if ck == 0 and (k+1) == 1000:\n",
    "            print(k+1, '이상없이 체크완료')\n"
   ]
  },
  {
   "cell_type": "code",
   "execution_count": 8,
   "id": "7d06e63c-a9c3-44be-a45b-0b10a0113589",
   "metadata": {},
   "outputs": [],
   "source": [
    "ck()"
   ]
  },
  {
   "cell_type": "code",
   "execution_count": 6,
   "id": "5674c673-fc75-4e86-8cbb-b0c99609135a",
   "metadata": {},
   "outputs": [
    {
     "name": "stdout",
     "output_type": "stream",
     "text": [
      "100% + ....................................................................................................\r"
     ]
    }
   ],
   "source": [
    "import time as t\n",
    "str = '.'\n",
    "for i in range(101):\n",
    "    print(f'{i}% + {str * i}', end=\"\\r\")\n",
    "    str\n",
    "    t.sleep(0.1)"
   ]
  },
  {
   "cell_type": "code",
   "execution_count": null,
   "id": "501b1d55-9e14-4ee2-a848-1e0cdd2e9588",
   "metadata": {},
   "outputs": [],
   "source": []
  },
  {
   "cell_type": "code",
   "execution_count": null,
   "id": "3e2fcb6e-0e76-4665-8ca0-08ac68e2ce51",
   "metadata": {},
   "outputs": [],
   "source": []
  }
 ],
 "metadata": {
  "kernelspec": {
   "display_name": "Python 3 (ipykernel)",
   "language": "python",
   "name": "python3"
  },
  "language_info": {
   "codemirror_mode": {
    "name": "ipython",
    "version": 3
   },
   "file_extension": ".py",
   "mimetype": "text/x-python",
   "name": "python",
   "nbconvert_exporter": "python",
   "pygments_lexer": "ipython3",
   "version": "3.11.2"
  }
 },
 "nbformat": 4,
 "nbformat_minor": 5
}
