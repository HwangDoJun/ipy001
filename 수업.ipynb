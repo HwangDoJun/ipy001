{
 "cells": [
  {
   "cell_type": "markdown",
   "id": "bdc3ece6-412d-4587-8a53-bdff3d1f4def",
   "metadata": {},
   "source": [
    "0.0. ML문법\n",
    "<hr/>\n",
    "\n",
    "[문자열 자료형](\"https://wikidocs.net/13\")\n",
    "\n",
    "<span style = \"color:red\">강조문자"
   ]
  },
  {
   "cell_type": "markdown",
   "id": "5506b0f9-a2aa-459b-9180-b91c0d4c6914",
   "metadata": {},
   "source": [
    "# [주피터랩 단축키]\n",
    "\n",
    "A : 위 셀 추가\n",
    "B : 아래 셀 추가\n",
    "Ctrl + shift + 위 : 셀 위로 이동\n",
    "Ctrl + shift + 아래 : 셀 아래로 이동\n",
    "Shift + enter : 셀 실행\n",
    "D + D( = D 2번 클릭) : 셀 삭제\n",
    "X : 셀 잘라내기\n",
    "C : 셀 복사\n",
    "V : 셀 붙여넣기\n",
    "Z : undo\n",
    "Shift + X : redo\n",
    "M : ML\n",
    "Y : Code"
   ]
  },
  {
   "cell_type": "code",
   "execution_count": 59,
   "id": "0109b0ca-b7dc-4b4b-87f5-b7ac09b843b5",
   "metadata": {},
   "outputs": [
    {
     "data": {
      "text/plain": [
       "2"
      ]
     },
     "execution_count": 59,
     "metadata": {},
     "output_type": "execute_result"
    }
   ],
   "source": [
    "1+1"
   ]
  },
  {
   "cell_type": "code",
   "execution_count": 60,
   "id": "0828f2e8-944d-44b4-b78c-5f0241581de8",
   "metadata": {},
   "outputs": [
    {
     "name": "stdout",
     "output_type": "stream",
     "text": [
      "안녕하세요\n"
     ]
    }
   ],
   "source": [
    "print('안녕하세요')"
   ]
  },
  {
   "cell_type": "code",
   "execution_count": 61,
   "id": "04bd77b6-7241-4583-97f9-21fdfc01642e",
   "metadata": {},
   "outputs": [],
   "source": [
    "a='안녕'\n",
    "b='하세요'"
   ]
  },
  {
   "cell_type": "code",
   "execution_count": 62,
   "id": "5282ef90-f337-4ffc-9fe3-875f08d2ae4f",
   "metadata": {},
   "outputs": [
    {
     "name": "stdout",
     "output_type": "stream",
     "text": [
      "안녕이고하세요이다.\n"
     ]
    }
   ],
   "source": [
    "# javascript에서는 console.log(`%{a}이고 %{b}이다.`)\n",
    "print(f'{a}이고{b}이다.')"
   ]
  },
  {
   "cell_type": "code",
   "execution_count": 63,
   "id": "9d93bbe3-acd0-427a-a0d2-926353dbefe8",
   "metadata": {},
   "outputs": [
    {
     "name": "stdout",
     "output_type": "stream",
     "text": [
      "12가 크다\n"
     ]
    }
   ],
   "source": [
    "if 12 > 5 : \n",
    "    print('12가 크다')"
   ]
  },
  {
   "cell_type": "code",
   "execution_count": 64,
   "id": "b0e36d22-77e8-412c-9aa1-fb261337245b",
   "metadata": {},
   "outputs": [
    {
     "name": "stdout",
     "output_type": "stream",
     "text": [
      "값은? 1\n",
      "값은? 2\n",
      "값은? 3\n",
      "값은? 4\n",
      "값은? 5\n"
     ]
    }
   ],
   "source": [
    "for v in [1,2,3,4,5]:\n",
    "    print(f'값은? {v}')"
   ]
  },
  {
   "cell_type": "code",
   "execution_count": 15,
   "id": "7707b799-08c2-4a16-9b8c-dd1644103a00",
   "metadata": {},
   "outputs": [
    {
     "name": "stdout",
     "output_type": "stream",
     "text": [
      "1\n",
      "2\n",
      "3\n",
      "4\n",
      "5\n"
     ]
    }
   ],
   "source": [
    "i=0\n",
    "while i < 5:\n",
    "    i+=1\n",
    "    print(i)"
   ]
  },
  {
   "cell_type": "code",
   "execution_count": 17,
   "id": "07fa6ce2-7c5c-4ac9-9ac7-4a08cf7327d2",
   "metadata": {},
   "outputs": [],
   "source": [
    "def add(a,b):\n",
    "    return a+b"
   ]
  },
  {
   "cell_type": "code",
   "execution_count": 18,
   "id": "9b011d78-f30e-4915-b13b-ee454573ab9b",
   "metadata": {},
   "outputs": [
    {
     "data": {
      "text/plain": [
       "44"
      ]
     },
     "execution_count": 18,
     "metadata": {},
     "output_type": "execute_result"
    }
   ],
   "source": [
    "add(11,33)"
   ]
  },
  {
   "cell_type": "markdown",
   "id": "d1a1a118-e636-43cc-ae2e-4355d4886e68",
   "metadata": {},
   "source": [
    "# 기초, 자료형 p45"
   ]
  },
  {
   "cell_type": "markdown",
   "id": "35bcaa3c-ffed-4ac1-a002-eba50f435324",
   "metadata": {},
   "source": [
    "## 숫자형"
   ]
  },
  {
   "cell_type": "markdown",
   "id": "bbeecba7-ffb2-4ea8-b8a7-f9cafcca8927",
   "metadata": {},
   "source": [
    "### 정수형 "
   ]
  },
  {
   "cell_type": "code",
   "execution_count": 14,
   "id": "53367203-42c5-4edb-8b1e-433f94baa1f2",
   "metadata": {},
   "outputs": [],
   "source": [
    "a = 123\n",
    "b = -123\n",
    "c = 0"
   ]
  },
  {
   "cell_type": "code",
   "execution_count": 13,
   "id": "4c579272-4430-4181-9ff1-25eda75a32f2",
   "metadata": {},
   "outputs": [
    {
     "name": "stdout",
     "output_type": "stream",
     "text": [
      "123 -123 0\n"
     ]
    }
   ],
   "source": [
    "print(a,b,c)"
   ]
  },
  {
   "cell_type": "code",
   "execution_count": 17,
   "id": "3f336573-79ed-48cd-808c-c64eff29cd7f",
   "metadata": {},
   "outputs": [],
   "source": [
    "aa = 1.23\n",
    "bb = -3.3415\n",
    "cc = 3.14e2"
   ]
  },
  {
   "cell_type": "code",
   "execution_count": 18,
   "id": "e6a07a99-c645-417c-833e-31459e2403e9",
   "metadata": {},
   "outputs": [
    {
     "name": "stdout",
     "output_type": "stream",
     "text": [
      "1.23 -3.3415 314.0\n"
     ]
    }
   ],
   "source": [
    "print(aa,bb,cc)"
   ]
  },
  {
   "cell_type": "markdown",
   "id": "fa779968-c798-4e19-95c8-f8b37e65ca62",
   "metadata": {},
   "source": [
    "### 8진수와 16진수\n",
    "    8진수 0o17, 16진수 0x17"
   ]
  },
  {
   "cell_type": "code",
   "execution_count": 20,
   "id": "bfb65b87-4f6a-47db-87ec-ba6de84e8951",
   "metadata": {},
   "outputs": [
    {
     "name": "stdout",
     "output_type": "stream",
     "text": [
      "15\n",
      "23\n"
     ]
    }
   ],
   "source": [
    "a = 0o17\n",
    "b= 0x17\n",
    "print(a)\n",
    "print(b)"
   ]
  },
  {
   "cell_type": "markdown",
   "id": "c90ee455-c9d9-4eae-a422-19fec5210e7b",
   "metadata": {},
   "source": [
    "### 숫자형을 활용하기 위한 연산자"
   ]
  },
  {
   "cell_type": "markdown",
   "id": "3a5d5535-d225-4334-b0a4-921d0a5d6c28",
   "metadata": {},
   "source": [
    "#### 사칙연산"
   ]
  },
  {
   "cell_type": "code",
   "execution_count": 25,
   "id": "4f1da4cc-e551-4a44-b699-c5c497218e2b",
   "metadata": {},
   "outputs": [
    {
     "name": "stdout",
     "output_type": "stream",
     "text": [
      "6912\n",
      "-4444\n",
      "7006652\n",
      "0.2173300457907714\n",
      "411.3333333333333\n",
      "411\n",
      "0\n",
      "1522756\n",
      "32239684\n"
     ]
    }
   ],
   "source": [
    "a = 1234\n",
    "b = 5678\n",
    "print(a+b)\n",
    "print(a-b)\n",
    "print(a*b)\n",
    "print(a/b)\n",
    "print(a/3)\n",
    "print(a//3)\n",
    "print(a%2)\n",
    "print(a**2)\n",
    "print(b**2)"
   ]
  },
  {
   "cell_type": "markdown",
   "id": "518055c5-3785-4859-bdc5-266a30028949",
   "metadata": {},
   "source": [
    "## 문자열 자료형"
   ]
  },
  {
   "cell_type": "markdown",
   "id": "416a0b97-dad5-4e3c-aabf-b424f7abf563",
   "metadata": {},
   "source": [
    "### 문자열 만드는 법"
   ]
  },
  {
   "cell_type": "markdown",
   "id": "cf23842a-eba9-4ed1-b0e7-72daa7a743dc",
   "metadata": {},
   "source": [
    "#### 큰따옴표 양쪽 둘러싸기"
   ]
  },
  {
   "cell_type": "code",
   "execution_count": 26,
   "id": "bd894dee-c06b-4209-b1c5-9d4c6a9d76f7",
   "metadata": {},
   "outputs": [
    {
     "data": {
      "text/plain": [
       "'안녕'"
      ]
     },
     "execution_count": 26,
     "metadata": {},
     "output_type": "execute_result"
    }
   ],
   "source": [
    "\"안녕\""
   ]
  },
  {
   "cell_type": "markdown",
   "id": "eae8ea8c-7195-47af-8ff7-b819d5652240",
   "metadata": {},
   "source": [
    "#### 작은따옴표 양쪽 둘러싸기"
   ]
  },
  {
   "cell_type": "code",
   "execution_count": 27,
   "id": "a26cd079-f082-48e8-bba5-0ce0aba429d6",
   "metadata": {},
   "outputs": [
    {
     "data": {
      "text/plain": [
       "'반가워'"
      ]
     },
     "execution_count": 27,
     "metadata": {},
     "output_type": "execute_result"
    }
   ],
   "source": [
    "'반가워'"
   ]
  },
  {
   "cell_type": "markdown",
   "id": "e9d0b9ca-c187-438d-b4f5-424290ab93cb",
   "metadata": {},
   "source": [
    "#### 큰따옴표 3개를 연속으로 스기"
   ]
  },
  {
   "cell_type": "raw",
   "id": "fa2ac68e-74f0-4ba1-a3ed-71576d85eca3",
   "metadata": {},
   "source": [
    "\"\"\"\n",
    "반갑다\n",
    "친구야\n",
    "\"\"\""
   ]
  },
  {
   "cell_type": "markdown",
   "id": "c6b94d1d-605c-42d2-b224-7fd63c2c877c",
   "metadata": {},
   "source": [
    "#### 작은따옴표 3개를 연속으로 쓰기"
   ]
  },
  {
   "cell_type": "code",
   "execution_count": 29,
   "id": "fdcdd780-95b9-4cf3-a96f-0f43b2f81921",
   "metadata": {},
   "outputs": [
    {
     "data": {
      "text/plain": [
       "'고마워\\n친구야'"
      ]
     },
     "execution_count": 29,
     "metadata": {},
     "output_type": "execute_result"
    }
   ],
   "source": [
    "'''고마워\n",
    "친구야'''"
   ]
  },
  {
   "cell_type": "markdown",
   "id": "dcf85673-309b-4abe-9b36-29f88da09e48",
   "metadata": {},
   "source": [
    "### 문자열 안에 작은 따옴표 또는 큰따옴표"
   ]
  },
  {
   "cell_type": "markdown",
   "id": "6e8ef725-d936-4253-9dea-e48db3211c13",
   "metadata": {},
   "source": [
    "#### 문자열에 작은따옴표 포함하기"
   ]
  },
  {
   "cell_type": "code",
   "execution_count": 39,
   "id": "6bcb0029-0642-4430-af72-06443b656506",
   "metadata": {},
   "outputs": [
    {
     "name": "stdout",
     "output_type": "stream",
     "text": [
      "그가 '안녕하세요'라고 말했다.\n"
     ]
    }
   ],
   "source": [
    "say = \"그가 '안녕하세요'라고 말했다.\"\n",
    "print(say)"
   ]
  },
  {
   "cell_type": "markdown",
   "id": "5ece291a-069d-4ae9-9335-b3699a3b79a5",
   "metadata": {},
   "source": [
    "#### 문자열에 큰따옴표 포함하기"
   ]
  },
  {
   "cell_type": "code",
   "execution_count": 38,
   "id": "ce30fa0f-df78-49f6-b1f1-e261c2d21031",
   "metadata": {},
   "outputs": [
    {
     "name": "stdout",
     "output_type": "stream",
     "text": [
      "그가 \"안녕하세요\"라고 말했다.\n"
     ]
    }
   ],
   "source": [
    "say = '그가 \"안녕하세요\"라고 말했다.'\n",
    "print(say)"
   ]
  },
  {
   "cell_type": "markdown",
   "id": "a6de2290-bd9c-4e23-9ed3-18060a50f932",
   "metadata": {},
   "source": [
    "#### 역슬래시로 이스케이프 문자 표현"
   ]
  },
  {
   "cell_type": "code",
   "execution_count": 35,
   "id": "4be719ea-7b27-4bb8-80d5-38080e997832",
   "metadata": {},
   "outputs": [
    {
     "name": "stdout",
     "output_type": "stream",
     "text": [
      "그가 \"안녕하세요\"라고 말했다.\n"
     ]
    }
   ],
   "source": [
    "say = \"그가 \\\"안녕하세요\\\"라고 말했다.\"\n",
    "print(say)"
   ]
  },
  {
   "cell_type": "markdown",
   "id": "b43000b2-2ff3-41bf-b948-8bf9699be733",
   "metadata": {},
   "source": [
    "### 여러 줄인 문자열을 변수에 대입하고 싶을때"
   ]
  },
  {
   "cell_type": "markdown",
   "id": "d6524873-09f0-4eec-9781-d6627db4054e",
   "metadata": {},
   "source": [
    "### 문자열 연산하기"
   ]
  },
  {
   "cell_type": "markdown",
   "id": "1a3790da-50ab-4550-8682-41595ba4b0ad",
   "metadata": {},
   "source": [
    "#### 문자열 더하기"
   ]
  },
  {
   "cell_type": "code",
   "execution_count": 40,
   "id": "8248f77c-62f9-4945-8d36-be8b41e4f517",
   "metadata": {},
   "outputs": [
    {
     "name": "stdout",
     "output_type": "stream",
     "text": [
      "파이썬은 재밌다\n"
     ]
    }
   ],
   "source": [
    "a = '파이썬은'\n",
    "b = ' 재밌다'\n",
    "print(a+b)"
   ]
  },
  {
   "cell_type": "markdown",
   "id": "a2f22768-85cf-47af-9387-de8608976311",
   "metadata": {},
   "source": [
    "#### 문자열 곱하기(*중요하다 카더라)"
   ]
  },
  {
   "cell_type": "code",
   "execution_count": 43,
   "id": "39b0e4a8-618f-4271-8b8d-587a0cd33f64",
   "metadata": {},
   "outputs": [
    {
     "name": "stdout",
     "output_type": "stream",
     "text": [
      "모레는거냐?모레는거냐?모레는거냐?모레는거냐?모레는거냐?모레는거냐?모레는거냐?모레는거냐?모레는거냐?모레는거냐?\n"
     ]
    }
   ],
   "source": [
    "aa = '모레는거냐?'\n",
    "print(aa*10)"
   ]
  },
  {
   "cell_type": "markdown",
   "id": "8b93aa8f-0da7-407f-adb6-2fcda258576e",
   "metadata": {},
   "source": [
    "#### 문자열 곱하기(응용)"
   ]
  },
  {
   "cell_type": "code",
   "execution_count": 45,
   "id": "06176d06-9b2f-46d8-9869-bfabc6b36792",
   "metadata": {},
   "outputs": [
    {
     "name": "stdout",
     "output_type": "stream",
     "text": [
      "==================================================\n",
      "나의 프로그램\n",
      "==================================================\n"
     ]
    }
   ],
   "source": [
    "print('='*50)\n",
    "print('나의 프로그램')\n",
    "print('='*50)"
   ]
  },
  {
   "cell_type": "markdown",
   "id": "be5563d7-9792-4563-917a-03713d658d56",
   "metadata": {},
   "source": [
    "#### 문자열 길이 구하기"
   ]
  },
  {
   "cell_type": "code",
   "execution_count": 46,
   "id": "4b94417c-520e-4273-a966-4638a0c508b9",
   "metadata": {},
   "outputs": [
    {
     "data": {
      "text/plain": [
       "17"
      ]
     },
     "execution_count": 46,
     "metadata": {},
     "output_type": "execute_result"
    }
   ],
   "source": [
    "a = 'Life is too short'\n",
    "len(a)"
   ]
  },
  {
   "cell_type": "markdown",
   "id": "198d975f-a167-456b-924d-fd87bea28e34",
   "metadata": {},
   "source": [
    "### 문자열 인덱싱과 슬라이싱"
   ]
  },
  {
   "cell_type": "markdown",
   "id": "cfdaddf2-ade6-4606-bbe9-ab5dc9932609",
   "metadata": {},
   "source": [
    "#### 문자열 인덱싱"
   ]
  },
  {
   "cell_type": "code",
   "execution_count": 54,
   "id": "f9259b8f-746e-43c1-9c50-40d135b3cc04",
   "metadata": {},
   "outputs": [
    {
     "data": {
      "text/plain": [
       "'e'"
      ]
     },
     "execution_count": 54,
     "metadata": {},
     "output_type": "execute_result"
    }
   ],
   "source": [
    "a = \"Life is too short, You need Python\"\n",
    "a[3]"
   ]
  },
  {
   "cell_type": "markdown",
   "id": "07f80a6b-42ad-4480-ae02-baa7443f0b0d",
   "metadata": {},
   "source": [
    "#### 문자열 인덱싱 활용하기"
   ]
  },
  {
   "cell_type": "code",
   "execution_count": 53,
   "id": "ee1d0313-5ded-4128-8f16-81d5d1783190",
   "metadata": {},
   "outputs": [
    {
     "name": "stdout",
     "output_type": "stream",
     "text": [
      "L L\n",
      "s\n",
      "n o y\n"
     ]
    }
   ],
   "source": [
    "a = \"Life is too short, You need Python\"\n",
    "print(a[0],a[-0])\n",
    "print(a[12])\n",
    "print(a[-1],a[-2],a[-5])"
   ]
  },
  {
   "cell_type": "markdown",
   "id": "4abd3e68-2a70-4cea-88c5-64a42d137f9e",
   "metadata": {},
   "source": [
    "#### 문자열 슬라이싱"
   ]
  },
  {
   "cell_type": "code",
   "execution_count": 52,
   "id": "65b3450c-d89a-4351-b66e-e369e1404ca3",
   "metadata": {},
   "outputs": [
    {
     "name": "stdout",
     "output_type": "stream",
     "text": [
      "Life\n"
     ]
    }
   ],
   "source": [
    "a = \"Life is too short, You need Python\"\n",
    "b = a[0] + a[1] + a[2] + a[3]\n",
    "print(b)"
   ]
  },
  {
   "cell_type": "code",
   "execution_count": 56,
   "id": "ff90b041-6385-4774-b4f9-ae3859decd75",
   "metadata": {},
   "outputs": [
    {
     "data": {
      "text/plain": [
       "'Life'"
      ]
     },
     "execution_count": 56,
     "metadata": {},
     "output_type": "execute_result"
    }
   ],
   "source": [
    "a = \"Life is too short, You need Python\"\n",
    "a[0:4] # a[시작번호:끝번호], #js의 여 for(Let i = 0; i < 10; i++)"
   ]
  },
  {
   "cell_type": "markdown",
   "id": "e1641876-34b5-45e2-87dd-de0de333533e",
   "metadata": {},
   "source": [
    "#### 문자열을 슬라이싱하는 방법"
   ]
  },
  {
   "cell_type": "code",
   "execution_count": 66,
   "id": "6435d1fc-2f40-457f-81ee-d18ef0144fe1",
   "metadata": {},
   "outputs": [
    {
     "name": "stdout",
     "output_type": "stream",
     "text": [
      "is\n",
      "You need Python\n",
      "Life is too short\n",
      "Life is too short, You need Python\n",
      "You need\n"
     ]
    }
   ],
   "source": [
    "a = \"Life is too short, You need Python\"\n",
    "print(a[5:7])\n",
    "print(a[19:])\n",
    "print(a[:17])\n",
    "print(a[:])\n",
    "print(a[19:-7])"
   ]
  },
  {
   "cell_type": "markdown",
   "id": "9a9bc74b-2f51-48c4-9ab9-6103732301f9",
   "metadata": {
    "jp-MarkdownHeadingCollapsed": true
   },
   "source": [
    "#### 슬라이싱으로 문자 나누기"
   ]
  },
  {
   "cell_type": "markdown",
   "id": "a6e77fc2-7eec-4086-8660-52db68ae2874",
   "metadata": {},
   "source": [
    "#### 슬라이싱과 대입"
   ]
  },
  {
   "cell_type": "code",
   "execution_count": 72,
   "id": "5e60e0e1-abb2-4333-a061-deac6652670f",
   "metadata": {},
   "outputs": [
    {
     "name": "stdout",
     "output_type": "stream",
     "text": [
      "Pithon => Python\n"
     ]
    }
   ],
   "source": [
    "a = \"Pithon\"\n",
    "# a[1] = 'y' #문자열은 변경 불가능한 자료형\n",
    "t = a[:1] + 'y' + a[2:]\n",
    "print(a,'=>',t)"
   ]
  },
  {
   "attachments": {
    "4b536ebb-518e-4dfc-9c87-10735420e19e.png": {
     "image/png": "[encoded data removed]"
    }
   },
   "cell_type": "markdown",
   "id": "b4c54ac1-5c11-4239-a8da-b4ece5d42668",
   "metadata": {},
   "source": [
    "### 문자열 포매팅\n",
    "![image.png](attachment:4b536ebb-518e-4dfc-9c87-10735420e19e.png)"
   ]
  },
  {
   "cell_type": "markdown",
   "id": "73ef3519-573f-4616-8599-b4ea19010af1",
   "metadata": {},
   "source": [
    "#### 숫자 바로 대입"
   ]
  },
  {
   "cell_type": "code",
   "execution_count": 84,
   "id": "cfbfc072-3b77-4e79-8154-89824d59e5a7",
   "metadata": {},
   "outputs": [
    {
     "name": "stdout",
     "output_type": "stream",
     "text": [
      "I eat 3 apples.\n",
      "I eat five apples.\n",
      "1234의 값은 8진수로 2322이고, 16진수는 4d2이다.\n",
      "%f는 3.141500처럼 소숫점을 담을 수 있는데, 단순히 %s는 3.1415처럼 문자열로 바꾸어 대립하기 때문에 복잡하게 생각 안해도 된다.\n"
     ]
    }
   ],
   "source": [
    "print(\"I eat %d apples.\"% 3)\n",
    "print(\"I eat %s apples.\"% \"five\")\n",
    "num = 1234\n",
    "print(\"%d의 값은 8진수로 %o이고, 16진수는 %x이다.\" %(num,num,num))\n",
    "pi = 3.1415\n",
    "print(\"%%f는 %f처럼 소숫점을 담을 수 있는데, 단순히 %%s는 %s처럼 문자열로 바꾸어 대립하기 때문에 복잡하게 생각 안해도 된다.\" %(pi,pi))"
   ]
  },
  {
   "cell_type": "markdown",
   "id": "63622283-0931-4dd9-ba2d-cbc2e50aed52",
   "metadata": {},
   "source": [
    "### 포멧코드와 숫자 함께 사용하기"
   ]
  },
  {
   "attachments": {},
   "cell_type": "markdown",
   "id": "ce42be01-b161-4650-982c-460f228f88b2",
   "metadata": {},
   "source": [
    "#### 정렬과 공백"
   ]
  },
  {
   "cell_type": "code",
   "execution_count": 85,
   "id": "86703068-0ce3-40c0-84be-100b973886fb",
   "metadata": {},
   "outputs": [
    {
     "name": "stdout",
     "output_type": "stream",
     "text": [
      "        hi\n"
     ]
    }
   ],
   "source": [
    "print(\"%10s\" % \"hi\")"
   ]
  },
  {
   "cell_type": "code",
   "execution_count": 89,
   "id": "5a48defb-7edf-4d4c-bf23-2f062cd64ddd",
   "metadata": {},
   "outputs": [
    {
     "name": "stdout",
     "output_type": "stream",
     "text": [
      "hi        jane\n"
     ]
    }
   ],
   "source": [
    "print(\"%-10sjane\" % \"hi\")"
   ]
  },
  {
   "cell_type": "markdown",
   "id": "ed1e8633-3d48-4660-92fe-e5279889e02f",
   "metadata": {},
   "source": [
    "#### 소숫점 표현하기"
   ]
  },
  {
   "cell_type": "code",
   "execution_count": 93,
   "id": "90467fc6-53ce-4be7-ab6a-9bfc0fbf6557",
   "metadata": {},
   "outputs": [
    {
     "name": "stdout",
     "output_type": "stream",
     "text": [
      "3.1416\n",
      "    3.1416\n"
     ]
    }
   ],
   "source": [
    "pi = 3.141592\n",
    "print(\"%0.4f\" % pi)\n",
    "print(\"%10.4f\" % pi)"
   ]
  },
  {
   "cell_type": "markdown",
   "id": "25f15e63-d829-494e-8403-8d2a332dde13",
   "metadata": {},
   "source": [
    "### format 함수를 사용한 포메팅"
   ]
  },
  {
   "cell_type": "markdown",
   "id": "95464ecb-67d9-4a4b-b835-83331a1610fa",
   "metadata": {},
   "source": [
    "#### 숫자 바로 대입하기"
   ]
  },
  {
   "cell_type": "code",
   "execution_count": 14,
   "id": "882759c8-0896-4054-8f2a-9ea30e374ca2",
   "metadata": {},
   "outputs": [
    {
     "name": "stdout",
     "output_type": "stream",
     "text": [
      "I eat 1004's 777apples\n"
     ]
    }
   ],
   "source": [
    "a = \"I eat {0}'s {1}apples\".format(1004,777)\n",
    "print(a)"
   ]
  },
  {
   "cell_type": "code",
   "execution_count": 13,
   "id": "2ad7c5b2-f00f-4357-956b-7e11234aaaef",
   "metadata": {},
   "outputs": [
    {
     "name": "stdout",
     "output_type": "stream",
     "text": [
      "I eat 1004's 777apples\n"
     ]
    }
   ],
   "source": [
    "a = 1004\n",
    "b = 777\n",
    "c =\"I eat {0}'s {1}apples\".format(a,b)\n",
    "print(c)"
   ]
  },
  {
   "cell_type": "code",
   "execution_count": 12,
   "id": "507c78b0-7c29-496a-89ad-983ae398d316",
   "metadata": {},
   "outputs": [
    {
     "data": {
      "text/plain": [
       "'I ate 10 apples. so I was sick for three days.'"
      ]
     },
     "execution_count": 12,
     "metadata": {},
     "output_type": "execute_result"
    }
   ],
   "source": [
    "number = 10\n",
    "day = 'three'\n",
    "\"I ate {0} apples. so I was sick for {1} days.\".format(number,day)"
   ]
  },
  {
   "cell_type": "markdown",
   "id": "4b2f1d15-bf81-4535-bdbb-2c368ca8d2f0",
   "metadata": {},
   "source": [
    "#### 이름으로 넣기"
   ]
  },
  {
   "cell_type": "code",
   "execution_count": 18,
   "id": "d678094e-75f4-4c2c-95f3-7f066caa6302",
   "metadata": {},
   "outputs": [
    {
     "name": "stdout",
     "output_type": "stream",
     "text": [
      "I ate 10 apples. so I was sick for 3 days.\n"
     ]
    }
   ],
   "source": [
    "a = \"I ate {number} apples. so I was sick for {day} days.\".format(number=10,day=3)\n",
    "print(a)"
   ]
  },
  {
   "cell_type": "markdown",
   "id": "499a42f0-4ac6-470b-97cd-8b3cfd12184c",
   "metadata": {},
   "source": [
    "#### 인덱스와 이름을 혼용해서 넣기"
   ]
  },
  {
   "cell_type": "code",
   "execution_count": 19,
   "id": "84949ae9-515e-49b3-8ec7-bc3f72f66fe4",
   "metadata": {},
   "outputs": [
    {
     "name": "stdout",
     "output_type": "stream",
     "text": [
      "I ate 10 apples. so I was sick for 3 days.\n"
     ]
    }
   ],
   "source": [
    "a = \"I ate {0} apples. so I was sick for {day} days.\".format(10,day=3)\n",
    "print(a)"
   ]
  },
  {
   "cell_type": "markdown",
   "id": "5b34195c-449d-4cbd-96dd-3ba53e6f930d",
   "metadata": {},
   "source": [
    "#### 왼쪽정렬"
   ]
  },
  {
   "cell_type": "code",
   "execution_count": 24,
   "id": "afc1777c-a0d5-4eaa-b527-9bab19199bdc",
   "metadata": {},
   "outputs": [
    {
     "name": "stdout",
     "output_type": "stream",
     "text": [
      "hi        kkkk\n"
     ]
    }
   ],
   "source": [
    "a = \"{0:<10}kkkk\".format(\"hi\")\n",
    "print(a)"
   ]
  },
  {
   "cell_type": "code",
   "execution_count": 25,
   "id": "24d6a8cf-f947-4f9f-9250-abed4cd7ee48",
   "metadata": {},
   "outputs": [
    {
     "name": "stdout",
     "output_type": "stream",
     "text": [
      "    hi    kkkk\n"
     ]
    }
   ],
   "source": [
    "a = \"{0:^10}kkkk\".format(\"hi\")\n",
    "print(a)"
   ]
  },
  {
   "cell_type": "markdown",
   "id": "d7594021-5bb5-4b7b-892a-d9c35fc23ec2",
   "metadata": {},
   "source": [
    "#### 공백 채우기"
   ]
  },
  {
   "cell_type": "code",
   "execution_count": 29,
   "id": "7d138b16-ade6-4a13-9c91-cc16926a214a",
   "metadata": {},
   "outputs": [
    {
     "name": "stdout",
     "output_type": "stream",
     "text": [
      "====hi====\n",
      "hi!!!!!!!!\n"
     ]
    }
   ],
   "source": [
    "a = \"{0:=^10}\".format(\"hi\")\n",
    "b = \"{0:!<10}\".format(\"hi\")\n",
    "print(a)\n",
    "print(b)"
   ]
  },
  {
   "cell_type": "markdown",
   "id": "baf34ba4-f209-4d96-8b22-7f5481023313",
   "metadata": {},
   "source": [
    "#### 소숫점 표현하기"
   ]
  },
  {
   "cell_type": "code",
   "execution_count": 33,
   "id": "3dfcb64b-d4f8-425b-ad9d-03d2a61b80c6",
   "metadata": {},
   "outputs": [
    {
     "name": "stdout",
     "output_type": "stream",
     "text": [
      "aaaa3.1416\n"
     ]
    }
   ],
   "source": [
    "a = 3.141592\n",
    "b = \"{0:a>10.4f}\".format(a)\n",
    "print(b)"
   ]
  },
  {
   "cell_type": "markdown",
   "id": "49a4652c-4830-4d8a-8aec-b75b4b59b98d",
   "metadata": {},
   "source": [
    "####  { 또는 } 문자 표현하기"
   ]
  },
  {
   "cell_type": "code",
   "execution_count": 34,
   "id": "ad4075d8-16aa-4237-ac24-c41ac3458da4",
   "metadata": {},
   "outputs": [
    {
     "name": "stdout",
     "output_type": "stream",
     "text": [
      "{ and }\n"
     ]
    }
   ],
   "source": [
    "a = \"{{ and }}\".format()\n",
    "print(a)"
   ]
  },
  {
   "cell_type": "markdown",
   "id": "c5c11fdc-0531-4868-8028-bea17fdc882a",
   "metadata": {},
   "source": [
    "### f 문자열 포메팅 ** \n",
    "-3.6버전 이상만 가능"
   ]
  },
  {
   "cell_type": "code",
   "execution_count": 52,
   "id": "b0ed28d7-1f46-4d28-bab9-f8203cd418b9",
   "metadata": {},
   "outputs": [
    {
     "name": "stdout",
     "output_type": "stream",
     "text": [
      "나의 이름은 홍길동 입니다. 나이는 30입니다.\n",
      "나의 이름은 홍길동 입니다. 나이는 31입니다.\n",
      "나의 이름은 슈퍼맨 입니다. 나이는 300입니다.\n",
      "====hi====\n",
      "===홍길동====\n",
      "xxxx3.1416\n",
      "{ and }\n"
     ]
    }
   ],
   "source": [
    "name = '홍길동'\n",
    "age = 30\n",
    "dic = {'name':'슈퍼맨','age':300}\n",
    "print(f'나의 이름은 {name} 입니다. 나이는 {age}입니다.')\n",
    "print(f'나의 이름은 {name} 입니다. 나이는 {age + 1}입니다.')\n",
    "print(f'나의 이름은 {dic[\"name\"]} 입니다. 나이는 {dic[\"age\"]}입니다.')\n",
    "print(f'{\"hi\":=^10}')\n",
    "print(f'{name:=^10}')\n",
    "a = 3.141592\n",
    "b = \"{ and }\"\n",
    "c = f'{a:x>10.4f}'\n",
    "d = f'{ b }'\n",
    "print(c)\n",
    "print(d)"
   ]
  },
  {
   "cell_type": "markdown",
   "id": "41f56f31-d68d-4a7e-857d-f1098f2656b4",
   "metadata": {},
   "source": [
    "## 문자열 관련 함수들"
   ]
  },
  {
   "cell_type": "markdown",
   "id": "5d2f7382-3eb8-4db2-ab4a-fad2822477bb",
   "metadata": {},
   "source": [
    "#### 문자 개수 세기 - count"
   ]
  },
  {
   "cell_type": "code",
   "execution_count": null,
   "id": "d67f67df-6259-40d6-a80e-46c7fc790110",
   "metadata": {},
   "outputs": [],
   "source": [
    "dir(str())"
   ]
  },
  {
   "cell_type": "code",
   "execution_count": 58,
   "id": "d775a495-305a-4049-b2d4-89fa416e48cf",
   "metadata": {},
   "outputs": [
    {
     "name": "stdout",
     "output_type": "stream",
     "text": [
      "2\n"
     ]
    }
   ],
   "source": [
    "a = 'coffee'\n",
    "print(a.count('f'))"
   ]
  },
  {
   "cell_type": "markdown",
   "id": "5db7a226-6bd0-48f7-8ce5-633519d2e61a",
   "metadata": {},
   "source": [
    "#### 위치 알려주기1 - find\n",
    "   문자열만 사용가능"
   ]
  },
  {
   "cell_type": "code",
   "execution_count": 60,
   "id": "896955e6-5a2e-4543-92d3-c055c210dd2a",
   "metadata": {},
   "outputs": [
    {
     "name": "stdout",
     "output_type": "stream",
     "text": [
      "20\n",
      "-1\n"
     ]
    }
   ],
   "source": [
    "a = 'icsAmericano is the best choice in winter'\n",
    "print(a.find('b'))\n",
    "print(a.find('k'))"
   ]
  },
  {
   "cell_type": "code",
   "execution_count": 64,
   "id": "960b38d2-215c-4b4e-819f-d1ef37d3c1cd",
   "metadata": {},
   "outputs": [
    {
     "name": "stdout",
     "output_type": "stream",
     "text": [
      "있어! 20 번째\n"
     ]
    }
   ],
   "source": [
    "if a.find('k') == -1:\n",
    "    print('있어!',a.find('b'),'번째')\n",
    "else:\n",
    "    print('없어!!!')"
   ]
  },
  {
   "cell_type": "markdown",
   "id": "45a7fad5-5673-45dc-b162-dcf4eb7edbc5",
   "metadata": {},
   "source": [
    "#### 위치 알려주기2 - index\n",
    "문자열 이외에 리스트와 튜플 자료에도 사용 가능하다(틱셰너리는 안됨)"
   ]
  },
  {
   "cell_type": "code",
   "execution_count": 66,
   "id": "b67e186a-78a9-44a7-9c3b-f19cba1c1d30",
   "metadata": {},
   "outputs": [
    {
     "name": "stdout",
     "output_type": "stream",
     "text": [
      "20\n"
     ]
    }
   ],
   "source": [
    "a = 'iceAmericano is the best choice in winter'\n",
    "print(a.index('b'))\n",
    "# print(a.index('k'))"
   ]
  },
  {
   "cell_type": "markdown",
   "id": "eb837b19-e93b-4e51-aa0c-65e4b25821bf",
   "metadata": {},
   "source": [
    "#### 문자열 삽입 - join"
   ]
  },
  {
   "cell_type": "code",
   "execution_count": 68,
   "id": "f02710ee-10d2-43f7-992d-d143c6592bb5",
   "metadata": {},
   "outputs": [
    {
     "name": "stdout",
     "output_type": "stream",
     "text": [
      "a,b,c,d,e,f,g\n",
      "apple-orange-kiwi-melon-pear-banana\n"
     ]
    }
   ],
   "source": [
    "str = \"abcdefg\"\n",
    "arr = ['apple','orange','kiwi','melon','pear','banana']\n",
    "result = \",\".join(str)\n",
    "result2 = \"-\".join(arr)\n",
    "print(result)\n",
    "print(result2)"
   ]
  },
  {
   "cell_type": "markdown",
   "id": "93839bf4-8d0f-4b0d-8b5c-29de2ee5d0f4",
   "metadata": {},
   "source": [
    "#### 소문자를 대문자로 바꾸기 - upper"
   ]
  },
  {
   "cell_type": "code",
   "execution_count": 69,
   "id": "c2c2b02e-84e8-47ba-93ba-e9b4221ea052",
   "metadata": {},
   "outputs": [
    {
     "name": "stdout",
     "output_type": "stream",
     "text": [
      "BANANA\n"
     ]
    }
   ],
   "source": [
    "a = 'banana'\n",
    "print(a.upper())"
   ]
  },
  {
   "cell_type": "markdown",
   "id": "5405bff8-9e19-44f0-adeb-6853bdf67266",
   "metadata": {},
   "source": [
    "#### 대문자를 소문자로 바꾸기 - lower"
   ]
  },
  {
   "cell_type": "code",
   "execution_count": 70,
   "id": "6b797190-a1ef-445e-a9b1-9772b6878ae8",
   "metadata": {},
   "outputs": [
    {
     "name": "stdout",
     "output_type": "stream",
     "text": [
      "banana\n"
     ]
    }
   ],
   "source": [
    "a = 'Banana'\n",
    "print(a.lower())"
   ]
  },
  {
   "cell_type": "markdown",
   "id": "ce105847-6183-4cd5-be84-3cb40c815e90",
   "metadata": {},
   "source": [
    "#### 왼쪽 공백 지우기"
   ]
  },
  {
   "cell_type": "code",
   "execution_count": 75,
   "id": "f2952f11-5c81-4ccf-8897-3f43f12e70d2",
   "metadata": {},
   "outputs": [
    {
     "name": "stdout",
     "output_type": "stream",
     "text": [
      "         hi         \n",
      "         hi\n"
     ]
    }
   ],
   "source": [
    "a = f'{\"hi\":^20}'\n",
    "print(a)\n",
    "print(a.rstrip())"
   ]
  },
  {
   "cell_type": "markdown",
   "id": "b40befe5-695b-4697-8b22-133436e6f276",
   "metadata": {},
   "source": [
    "#### 오른쪽 공백 치우기"
   ]
  },
  {
   "cell_type": "code",
   "execution_count": 73,
   "id": "e27825e1-3de8-4290-9d84-44ce16e1e908",
   "metadata": {},
   "outputs": [
    {
     "ename": "SyntaxError",
     "evalue": "f-string: invalid conversion character: expected 's', 'r', or 'a' (3971151502.py, line 1)",
     "output_type": "error",
     "traceback": [
      "\u001b[0;36m  Cell \u001b[0;32mIn[73], line 1\u001b[0;36m\u001b[0m\n\u001b[0;31m    b = f'{\"hi\"!^20}'\u001b[0m\n\u001b[0m                     ^\u001b[0m\n\u001b[0;31mSyntaxError\u001b[0m\u001b[0;31m:\u001b[0m f-string: invalid conversion character: expected 's', 'r', or 'a'\n"
     ]
    }
   ],
   "source": [
    "b = f'{\"hi\"!^20}'\n",
    "print(b)\n",
    "print(b.rstrip())"
   ]
  },
  {
   "cell_type": "markdown",
   "id": "7e9118a2-e8b2-4c83-a8f0-389324100c06",
   "metadata": {},
   "source": [
    "#### 양쪽 공백 지우기 - strip"
   ]
  },
  {
   "cell_type": "code",
   "execution_count": 84,
   "id": "287fa03f-a90e-4353-88d5-6428240416d4",
   "metadata": {},
   "outputs": [
    {
     "name": "stdout",
     "output_type": "stream",
     "text": [
      "         hi         \n",
      "hi\n",
      "xxxxxxxxxhixxxxxxxxx\n",
      "hi\n"
     ]
    }
   ],
   "source": [
    "c = f'{\"hi\":^20}'\n",
    "print(c)\n",
    "print(c.strip())\n",
    "d = f'{\"hi\":x^20}'\n",
    "print(d)\n",
    "print(d.strip('x'))"
   ]
  },
  {
   "cell_type": "markdown",
   "id": "cf20572d-eaff-476b-a470-870642714864",
   "metadata": {},
   "source": [
    "#### 문자열 바꾸기"
   ]
  },
  {
   "cell_type": "code",
   "execution_count": 79,
   "id": "38177b5d-b5dd-464e-8108-e3562a3522e2",
   "metadata": {},
   "outputs": [
    {
     "name": "stdout",
     "output_type": "stream",
     "text": [
      "Life is too short\n",
      "Your leg is too short\n"
     ]
    }
   ],
   "source": [
    "a = \"Life is too short\"\n",
    "print(a)\n",
    "b = a.replace(\"Life\",\"Your leg\")\n",
    "print(b)"
   ]
  },
  {
   "cell_type": "markdown",
   "id": "16bc9836-a419-4104-9d17-81228eec90ba",
   "metadata": {},
   "source": [
    "#### 문자열 나누기 -split"
   ]
  },
  {
   "cell_type": "code",
   "execution_count": 89,
   "id": "485fd7b6-b761-47e0-9525-68809ac25245",
   "metadata": {},
   "outputs": [
    {
     "name": "stdout",
     "output_type": "stream",
     "text": [
      "['Life', 'is', 'too', 'short']\n",
      "['Life', 'is', 'too', 'short']\n",
      "i*c*e*A*m*e*r*i*c*a*n*o* *i*s* *t*h*e* *b*e*s*t* *c*h*o*i*c*e* *i*n* *w*i*n*t*e*r\n",
      "iceAmericano is the best choice in winter\n",
      "['iceAmericano', 'is', 'the', 'best', 'choice', 'in', 'winter']\n"
     ]
    }
   ],
   "source": [
    "a = \"Life is too short\"\n",
    "print(a.split())\n",
    "b = \"Life/is/too/short\"\n",
    "print(b.split('/'))\n",
    "str = 'iceAmericano is the best choice in winter'\n",
    "j = \"*\".join(str)\n",
    "print(j)\n",
    "t = j.replace(\"*\",'')\n",
    "print(t)\n",
    "s = t.split(' ')\n",
    "print(s)"
   ]
  },
  {
   "cell_type": "markdown",
   "id": "87179ea4-f8bd-4e6d-9a77-f2c400e985e5",
   "metadata": {},
   "source": [
    "### 리스트 자료형"
   ]
  },
  {
   "cell_type": "markdown",
   "id": "526e5804-0b1b-43de-8a19-b7da8faa18db",
   "metadata": {},
   "source": [
    "#### 리스트 표현"
   ]
  },
  {
   "cell_type": "code",
   "execution_count": 92,
   "id": "ef763617-4c20-4e91-bfcb-236fc50f76f0",
   "metadata": {},
   "outputs": [],
   "source": [
    "odd = [1,3,5,7,9]\n",
    "even = [2,4,6,8,10]"
   ]
  },
  {
   "cell_type": "markdown",
   "id": "0b629b82-a108-4937-8b73-fe958cce5d20",
   "metadata": {},
   "source": [
    "### 리스트의 인덱싱과 슬라이싱"
   ]
  },
  {
   "cell_type": "markdown",
   "id": "08659a97-94f7-405c-8880-742114524a94",
   "metadata": {},
   "source": [
    "#### 리스트의 인덱싱"
   ]
  },
  {
   "cell_type": "code",
   "execution_count": 98,
   "id": "14615e92-537d-4b3b-9f41-6fd496f8573e",
   "metadata": {},
   "outputs": [
    {
     "name": "stdout",
     "output_type": "stream",
     "text": [
      "1\n",
      "['a', 'b', 'c']\n",
      "b\n"
     ]
    }
   ],
   "source": [
    "a = [1,2,3,['a','b','c']]\n",
    "print(a[0])\n",
    "print(a[-1])\n",
    "print(a[-1][1])"
   ]
  },
  {
   "cell_type": "markdown",
   "id": "8b2bb4a6-135d-491d-8ff9-b4d759d8fe5f",
   "metadata": {},
   "source": [
    "#### 리스트의 슬라이싱"
   ]
  },
  {
   "cell_type": "code",
   "execution_count": 104,
   "id": "1a3e6244-cd6e-4f7b-9d75-018996a698fd",
   "metadata": {},
   "outputs": [
    {
     "name": "stdout",
     "output_type": "stream",
     "text": [
      "[1, 2, 3, 4, 5, 6, 7, 8, 9]\n",
      "[1, 2, 3, 4, 5, 6, 7, 8, 9]\n",
      "[1, 2, 3]\n",
      "[4, 5, 6, 7, 8, 9]\n"
     ]
    }
   ],
   "source": [
    "a = [1,2,3,4,5,6,7,8,9]\n",
    "print(a)\n",
    "\n",
    "print(a[:])\n",
    "print(a[:3])\n",
    "print(a[3:])"
   ]
  },
  {
   "cell_type": "code",
   "execution_count": 103,
   "id": "2501d480-8621-4612-82a2-5bbc012a94fd",
   "metadata": {},
   "outputs": [
    {
     "name": "stdout",
     "output_type": "stream",
     "text": [
      "[3, ['a', 'b', 'c'], 4]\n",
      "['a', 'b']\n"
     ]
    }
   ],
   "source": [
    "b = [1,2,3,['a','b','c'],4,5]\n",
    "print(b[2:5])\n",
    "print(b[3][:2])"
   ]
  },
  {
   "cell_type": "markdown",
   "id": "15346fcc-7289-4dfe-b2bc-ccc425b7cbec",
   "metadata": {},
   "source": [
    "### 리스트 연산하기"
   ]
  },
  {
   "cell_type": "markdown",
   "id": "fcb34af1-3db8-4333-8127-07bda8b1ee73",
   "metadata": {},
   "source": [
    "#### 리스트 더하기(+)"
   ]
  },
  {
   "cell_type": "code",
   "execution_count": 105,
   "id": "6e0cab36-49ed-486b-983c-8b400d085c78",
   "metadata": {},
   "outputs": [
    {
     "name": "stdout",
     "output_type": "stream",
     "text": [
      "[1, 2, 3, 4, 5, 6]\n"
     ]
    }
   ],
   "source": [
    "a = [1,2,3]\n",
    "b = [4,5,6]\n",
    "c = a + b\n",
    "print(c)"
   ]
  },
  {
   "cell_type": "markdown",
   "id": "f200e7d9-6510-4b5f-866a-eae83761606c",
   "metadata": {},
   "source": [
    "#### 리스트 반복하기(*)"
   ]
  },
  {
   "cell_type": "code",
   "execution_count": 106,
   "id": "66bb2539-9568-449f-8770-83b1fafd5221",
   "metadata": {},
   "outputs": [
    {
     "name": "stdout",
     "output_type": "stream",
     "text": [
      "[1, 2, 3, 1, 2, 3, 1, 2, 3, 1, 2, 3, 1, 2, 3]\n"
     ]
    }
   ],
   "source": [
    "a = [1,2,3]\n",
    "b = a*5\n",
    "print(b)"
   ]
  },
  {
   "cell_type": "markdown",
   "id": "0ba57b8e-0d96-4a33-86a2-59aa1782c68f",
   "metadata": {},
   "source": [
    "#### 리스트 길이 구하기"
   ]
  },
  {
   "cell_type": "code",
   "execution_count": 110,
   "id": "f402f3eb-8511-442c-bcbe-31a790d9edb8",
   "metadata": {},
   "outputs": [
    {
     "name": "stdout",
     "output_type": "stream",
     "text": [
      "7 91\n",
      "4개\n",
      "A개\n"
     ]
    }
   ],
   "source": [
    "a = [1,2,3,4,5,6,7]\n",
    "b = a*13\n",
    "print(len(a),len(b))\n",
    "print(f'{a[3]}개')\n",
    "print(str[3]+'개') #에러"
   ]
  },
  {
   "cell_type": "markdown",
   "id": "bb7c1c93-db6d-42c3-a84e-2f8fd915dfdc",
   "metadata": {},
   "source": [
    "### 리스트의 수정과 삭제"
   ]
  },
  {
   "cell_type": "markdown",
   "id": "3a09d26d-5feb-4c91-a447-0f313f20cd98",
   "metadata": {},
   "source": [
    "#### 리스트의 값 수정"
   ]
  },
  {
   "cell_type": "code",
   "execution_count": 111,
   "id": "a4d54ac4-ed30-4daa-955a-ae4372f416c4",
   "metadata": {},
   "outputs": [
    {
     "name": "stdout",
     "output_type": "stream",
     "text": [
      "[1, 2, 4]\n"
     ]
    }
   ],
   "source": [
    "a = [1,2,3]\n",
    "a[2] = 4\n",
    "print(a)"
   ]
  },
  {
   "cell_type": "markdown",
   "id": "6dae1c8e-3cff-4e2b-b0a9-f35eb379972f",
   "metadata": {},
   "source": [
    "#### del 리스트 요소삭제"
   ]
  },
  {
   "cell_type": "code",
   "execution_count": 114,
   "id": "1c3214d0-571d-4211-8b2e-750afb7844ab",
   "metadata": {},
   "outputs": [
    {
     "name": "stdout",
     "output_type": "stream",
     "text": [
      "[1]\n"
     ]
    }
   ],
   "source": [
    "a = [1,2,3,4,5]\n",
    "del a[2:]\n",
    "del a[-1]\n",
    "print(a)"
   ]
  },
  {
   "cell_type": "markdown",
   "id": "a69fb7e7-954e-4b0e-a5e0-ed77b2b8a0ef",
   "metadata": {},
   "source": [
    "### 리스트 관련 함수"
   ]
  },
  {
   "cell_type": "markdown",
   "id": "4923bec9-52ea-4e47-83f5-4d60308476a0",
   "metadata": {},
   "source": [
    "#### 요소 추가 = append"
   ]
  },
  {
   "cell_type": "code",
   "execution_count": 117,
   "id": "fc02729b-3950-43f6-af05-f5b789f21ca2",
   "metadata": {},
   "outputs": [
    {
     "name": "stdout",
     "output_type": "stream",
     "text": [
      "[1, 2, 3, 4]\n",
      "[1, 2, 3, 4, [11, 22, 33]]\n"
     ]
    }
   ],
   "source": [
    "a = [1,2,3]\n",
    "a.append(4)\n",
    "print(a)\n",
    "a.append([11,22,33])\n",
    "print(a)"
   ]
  },
  {
   "cell_type": "markdown",
   "id": "d175acc4-43e4-49b7-9f8e-07ee33f8dc1e",
   "metadata": {},
   "source": [
    "#### 정렬 - sort"
   ]
  },
  {
   "cell_type": "code",
   "execution_count": 124,
   "id": "c2608c39-a3ed-4514-a2d7-a1d6549b40d7",
   "metadata": {},
   "outputs": [
    {
     "name": "stdout",
     "output_type": "stream",
     "text": [
      "[2, 3, 4, 7, 8, 8, 12, 23]\n",
      "['a', 'b', 'e', 'z']\n",
      "[2, 7, 3, 8, 4, 23, 8, 12, 'b', 'z', 'a', 'e']\n"
     ]
    }
   ],
   "source": [
    "a = [2,7,3,8,4,23,8,12]\n",
    "b = ['b','z','a','e']\n",
    "c = a + b\n",
    "a.sort()\n",
    "b.sort()\n",
    "# c.sort() #리스트나 요소타입이 다른경우 sort 에러\n",
    "print(a)\n",
    "print(b)\n",
    "print(c)"
   ]
  },
  {
   "cell_type": "markdown",
   "id": "cc5e7a93-f946-44ad-8999-d029657792c4",
   "metadata": {},
   "source": [
    "#### 뒤집기 - reverse\n",
    "-순서랑 상관없이 있는대로 뒤집기"
   ]
  },
  {
   "cell_type": "code",
   "execution_count": 123,
   "id": "3d500833-29d4-4176-883b-cbf3a3364e30",
   "metadata": {},
   "outputs": [
    {
     "name": "stdout",
     "output_type": "stream",
     "text": [
      "[12, 8, 23, 4, 8, 3, 7, 2]\n",
      "['e', 'a', 'z', 'b']\n",
      "[2, 7, 3, 8, 4, 23, 8, 12, 'b', 'z', 'a', 'e']\n"
     ]
    }
   ],
   "source": [
    "a = [2,7,3,8,4,23,8,12]\n",
    "b = ['b','z','a','e']\n",
    "c = a + b\n",
    "#a.sort() 역순 필요시 sort와 reverse를 같이 사용할 것\n",
    "a.reverse()\n",
    "b.reverse()\n",
    "# c.reverse() #리스트나 요소타입이 다른경우 sort 에러\n",
    "print(a)\n",
    "print(b)\n",
    "print(c)"
   ]
  },
  {
   "cell_type": "markdown",
   "id": "039deff0-0a41-4f06-abb2-9e392f753293",
   "metadata": {},
   "source": [
    "#### 변환 - index"
   ]
  },
  {
   "cell_type": "code",
   "execution_count": 126,
   "id": "219d31c2-c49f-4725-98c8-fc347453a725",
   "metadata": {},
   "outputs": [
    {
     "name": "stdout",
     "output_type": "stream",
     "text": [
      "2\n",
      "1\n"
     ]
    }
   ],
   "source": [
    "a = [1,2,3,4,5]\n",
    "b = ['b','z','a','e']\n",
    "aa = a.index(3)\n",
    "print(aa)\n",
    "#ab = a.index(7)\n",
    "#print(ab)\n",
    "bb = b.index('z')\n",
    "print(bb)"
   ]
  },
  {
   "cell_type": "markdown",
   "id": "749bde57-81a6-4fb5-b7cd-94516b5921a8",
   "metadata": {},
   "source": [
    "#### 요소 삽입 - insert"
   ]
  },
  {
   "cell_type": "code",
   "execution_count": 130,
   "id": "5ebac273-e925-41ae-99c1-313192f857df",
   "metadata": {},
   "outputs": [
    {
     "name": "stdout",
     "output_type": "stream",
     "text": [
      "[4, 1, 2, 5, 3]\n"
     ]
    }
   ],
   "source": [
    "a = [1,2,3]\n",
    "a.insert(0,4)\n",
    "a.insert(3,5)\n",
    "print(a)"
   ]
  },
  {
   "cell_type": "markdown",
   "id": "c37cfc35-9736-477b-bf89-5b750dee5ea9",
   "metadata": {},
   "source": [
    "#### 요소 제거 - remove"
   ]
  },
  {
   "cell_type": "code",
   "execution_count": 133,
   "id": "cff39a88-7ac2-4984-9cb8-926c26ad6d3f",
   "metadata": {},
   "outputs": [
    {
     "name": "stdout",
     "output_type": "stream",
     "text": [
      "[1, 2, 3, 1, 2, 3, 1, 2, 3]\n",
      "[1, 2, 1, 2, 3, 1, 2, 3]\n",
      "[1, 2, 1, 2, 1, 2, 3]\n",
      "[1, 2, 1, 2, 1, 2]\n"
     ]
    }
   ],
   "source": [
    "a = [1,2,3]\n",
    "aa = a*3\n",
    "print(aa)\n",
    "aa.remove(3)\n",
    "print(aa)\n",
    "aa.remove(3)\n",
    "print(aa)\n",
    "aa.remove(3)\n",
    "print(aa)"
   ]
  },
  {
   "cell_type": "markdown",
   "id": "0ce9f83d-1851-4006-9264-94558fecbf80",
   "metadata": {},
   "source": [
    "#### 요소 꺼내기 - pop"
   ]
  },
  {
   "cell_type": "code",
   "execution_count": 138,
   "id": "dd46df83-f491-4092-b5d8-6a6063f27ad4",
   "metadata": {},
   "outputs": [
    {
     "name": "stdout",
     "output_type": "stream",
     "text": [
      "[1, 2, 3, 4]\n",
      "[1, 2, 3]\n",
      "[1, 2]\n",
      "[1]\n",
      "[]\n"
     ]
    }
   ],
   "source": [
    "a = [1,2,3,4,5]\n",
    "a.pop()\n",
    "print(a)\n",
    "a.pop()\n",
    "print(a)\n",
    "a.pop()\n",
    "print(a)\n",
    "a.pop()\n",
    "print(a)\n",
    "a.pop()\n",
    "print(a)"
   ]
  },
  {
   "cell_type": "code",
   "execution_count": 145,
   "id": "e72d67d0-8fab-42ab-bdbb-dab70981755d",
   "metadata": {},
   "outputs": [
    {
     "name": "stdin",
     "output_type": "stream",
     "text": [
      "[1, 2, 3, 4, 5]제거할 숫자의 인덱스를 입력하세요 3\n"
     ]
    },
    {
     "name": "stdout",
     "output_type": "stream",
     "text": [
      "3\n",
      "4를 꺼내면 [1, 2, 3, 5]가 된다.\n"
     ]
    }
   ],
   "source": [
    "a = [1,2,3,4,5]\n",
    "ch = input(f'{a}제거할 숫자의 인덱스를 입력하세요')\n",
    "print(ch)\n",
    "b = a.pop(int(ch))\n",
    "print(f'{b}를 꺼내면 {a}가 된다.')"
   ]
  },
  {
   "cell_type": "markdown",
   "id": "e243a8f2-1fb0-4ab8-b39a-d8d9b9eef5e6",
   "metadata": {},
   "source": [
    "#### 요소 X의 개수 세기 - count"
   ]
  },
  {
   "cell_type": "raw",
   "id": "c99c8297-46f1-45c4-af05-82610f472b4a",
   "metadata": {},
   "source": [
    "a = [1,2,3,1]\n",
    "a.count(1)"
   ]
  },
  {
   "cell_type": "markdown",
   "id": "2c3c2f7d-4825-40f3-b539-416101e3002b",
   "metadata": {},
   "source": [
    "#### 확장 = extend"
   ]
  },
  {
   "cell_type": "code",
   "execution_count": 6,
   "id": "a87a687d-06ff-4396-b55b-d0ce57aeac2a",
   "metadata": {},
   "outputs": [
    {
     "name": "stdout",
     "output_type": "stream",
     "text": [
      "[1, 2, 3, 4, 5, 6, 7]\n",
      "[1, 2, 3, 4, 5, 6, 7, 8, 9]\n"
     ]
    }
   ],
   "source": [
    "a = [1,2,3,4,5]\n",
    "b = [8,9]\n",
    "a.extend([6,7])\n",
    "print(a)\n",
    "a.extend(b)\n",
    "print(a)"
   ]
  },
  {
   "cell_type": "markdown",
   "id": "995dae16-d356-4b7a-8ed9-e63a042c8883",
   "metadata": {},
   "source": [
    "- 리스트 확장에서 문자 + 숫자 리스트 도전해보기"
   ]
  },
  {
   "cell_type": "code",
   "execution_count": 10,
   "id": "f0f62e11-1732-439a-8d4d-a4fa3b54b08d",
   "metadata": {},
   "outputs": [
    {
     "name": "stdout",
     "output_type": "stream",
     "text": [
      "[1, 2, 3, 4, 5, 'a', 'b', 'c']\n",
      "[1, 2, 3, 4, 5, 'a', 'b', 'c', 11, 22, 33, 44]\n"
     ]
    }
   ],
   "source": [
    "a = [1,2,3,4,5]\n",
    "b = ['a','b','c']\n",
    "c = [11,22,33,44]\n",
    "a.extend(b)\n",
    "print(a)\n",
    "a += c # a = a + c (extend와 기능이 같다)\n",
    "print(a)"
   ]
  },
  {
   "cell_type": "markdown",
   "id": "9c15e3df-abd5-40eb-b05a-bd3bc1cfedcb",
   "metadata": {},
   "source": [
    "## 튜플 자료형"
   ]
  },
  {
   "cell_type": "markdown",
   "id": "e1a69c45-72bb-4baa-9364-09b0bfda41fe",
   "metadata": {},
   "source": [
    "### 튜플의 형식"
   ]
  },
  {
   "cell_type": "code",
   "execution_count": 11,
   "id": "5bb77b28-915d-4dbc-b884-b8702655054a",
   "metadata": {},
   "outputs": [],
   "source": [
    "t1 = ()\n",
    "t2 = (1,) #*\n",
    "t3 = (1,2,3)\n",
    "t4 = 1,2,3 #*\n",
    "t5 = ('a','b',('ab','cd'))"
   ]
  },
  {
   "cell_type": "markdown",
   "id": "0975abc4-0c88-4b18-8bdf-ed6c456bc714",
   "metadata": {},
   "source": [
    "### 튜플요소를 삭제 하거나 변경하면?"
   ]
  },
  {
   "cell_type": "markdown",
   "id": "56326f7b-7145-4e67-80f2-9e78df8a17c9",
   "metadata": {},
   "source": [
    "#### 튜플 요소값 삭제?"
   ]
  },
  {
   "cell_type": "code",
   "execution_count": 14,
   "id": "f90fce6a-3c97-417c-b1bc-105382cfb390",
   "metadata": {},
   "outputs": [
    {
     "ename": "TypeError",
     "evalue": "'tuple' object doesn't support item deletion",
     "output_type": "error",
     "traceback": [
      "\u001b[0;31m---------------------------------------------------------------------------\u001b[0m",
      "\u001b[0;31mTypeError\u001b[0m                                 Traceback (most recent call last)",
      "Cell \u001b[0;32mIn[14], line 2\u001b[0m\n\u001b[1;32m      1\u001b[0m t1 \u001b[38;5;241m=\u001b[39m (\u001b[38;5;241m1\u001b[39m,\u001b[38;5;241m2\u001b[39m,\u001b[38;5;124m'\u001b[39m\u001b[38;5;124ma\u001b[39m\u001b[38;5;124m'\u001b[39m,\u001b[38;5;124m'\u001b[39m\u001b[38;5;124mb\u001b[39m\u001b[38;5;124m'\u001b[39m)\n\u001b[0;32m----> 2\u001b[0m \u001b[38;5;28;01mdel\u001b[39;00m \u001b[43mt1\u001b[49m\u001b[43m[\u001b[49m\u001b[38;5;241;43m0\u001b[39;49m\u001b[43m]\u001b[49m \u001b[38;5;66;03m#튜플은 요소값 변경이 안된다는 오류를 띄움\u001b[39;00m\n",
      "\u001b[0;31mTypeError\u001b[0m: 'tuple' object doesn't support item deletion"
     ]
    }
   ],
   "source": [
    "t1 = (1,2,'a','b')\n",
    "del t1[0] #튜플은 요소값 변경이 안된다는 오류를 띄움"
   ]
  },
  {
   "attachments": {
    "626d9688-1427-4f66-9a78-3a6de4ca6bc0.png": {
     "image/png": "[encoded data removed]"
    }
   },
   "cell_type": "markdown",
   "id": "bce8714a-eacc-4c3b-a463-cc3ba53c257f",
   "metadata": {},
   "source": [
    "![image.png](attachment:626d9688-1427-4f66-9a78-3a6de4ca6bc0.png)"
   ]
  },
  {
   "cell_type": "code",
   "execution_count": 15,
   "id": "0fa8997c-0580-4307-bf2e-b5465b65ddfd",
   "metadata": {},
   "outputs": [
    {
     "ename": "TypeError",
     "evalue": "'tuple' object does not support item assignment",
     "output_type": "error",
     "traceback": [
      "\u001b[0;31m---------------------------------------------------------------------------\u001b[0m",
      "\u001b[0;31mTypeError\u001b[0m                                 Traceback (most recent call last)",
      "Cell \u001b[0;32mIn[15], line 2\u001b[0m\n\u001b[1;32m      1\u001b[0m t1 \u001b[38;5;241m=\u001b[39m (\u001b[38;5;241m1\u001b[39m,\u001b[38;5;241m2\u001b[39m,\u001b[38;5;124m'\u001b[39m\u001b[38;5;124ma\u001b[39m\u001b[38;5;124m'\u001b[39m,\u001b[38;5;124m'\u001b[39m\u001b[38;5;124mb\u001b[39m\u001b[38;5;124m'\u001b[39m)\n\u001b[0;32m----> 2\u001b[0m \u001b[43mt1\u001b[49m\u001b[43m[\u001b[49m\u001b[38;5;241;43m0\u001b[39;49m\u001b[43m]\u001b[49m \u001b[38;5;241m=\u001b[39m \u001b[38;5;124m'\u001b[39m\u001b[38;5;124mc\u001b[39m\u001b[38;5;124m'\u001b[39m\n",
      "\u001b[0;31mTypeError\u001b[0m: 'tuple' object does not support item assignment"
     ]
    }
   ],
   "source": [
    "t1 = (1,2,'a','b')\n",
    "t1[0] = 'c'"
   ]
  },
  {
   "attachments": {
    "607a9526-2e76-47f0-a0f3-720441cb4420.png": {
     "image/png": "[encoded data removed]"
    }
   },
   "cell_type": "markdown",
   "id": "d00e3242-86fc-4bfd-af9a-b92cf817674b",
   "metadata": {},
   "source": [
    "![image.png](attachment:607a9526-2e76-47f0-a0f3-720441cb4420.png)"
   ]
  },
  {
   "cell_type": "markdown",
   "id": "456fedd8-7db8-4989-b764-fe239b2b97a5",
   "metadata": {},
   "source": [
    "### 튜플 다루기"
   ]
  },
  {
   "cell_type": "markdown",
   "id": "66261830-bebe-4c3e-8771-c6c6ef204bca",
   "metadata": {},
   "source": [
    "#### 인덱싱 하기"
   ]
  },
  {
   "cell_type": "code",
   "execution_count": 17,
   "id": "d7271874-a181-4355-afb7-bd6620e9f0f9",
   "metadata": {},
   "outputs": [
    {
     "name": "stdout",
     "output_type": "stream",
     "text": [
      "1\n",
      "b\n"
     ]
    }
   ],
   "source": [
    "t1 = (1,2,'a','b')\n",
    "print(t1[0])\n",
    "print(t1[3])"
   ]
  },
  {
   "cell_type": "markdown",
   "id": "cdf621e3-7a93-496f-ae4c-7032a8f3bb86",
   "metadata": {},
   "source": [
    "#### 슬라이싱하기"
   ]
  },
  {
   "cell_type": "code",
   "execution_count": 18,
   "id": "2327f63c-d0bb-47f2-8396-e80feef2b8a7",
   "metadata": {},
   "outputs": [
    {
     "name": "stdout",
     "output_type": "stream",
     "text": [
      "(2, 'a', 'b')\n"
     ]
    }
   ],
   "source": [
    "t1 = (1,2,'a','b')\n",
    "print(t1[1:])"
   ]
  },
  {
   "cell_type": "markdown",
   "id": "5c3999cd-e200-4624-abad-7c6879919167",
   "metadata": {},
   "source": [
    "#### 튜플 더하기"
   ]
  },
  {
   "cell_type": "code",
   "execution_count": 19,
   "id": "d9272dff-0bf7-45dd-a63a-c81ce4b3e8bd",
   "metadata": {},
   "outputs": [
    {
     "name": "stdout",
     "output_type": "stream",
     "text": [
      "(1, 2, 'a', 'b', 3, 4)\n"
     ]
    }
   ],
   "source": [
    "t1 = (1,2,'a','b')\n",
    "t2 = (3,4)\n",
    "t3 = t1 + t2\n",
    "print(t3)"
   ]
  },
  {
   "cell_type": "markdown",
   "id": "a196bc54-fa77-425e-b49b-08c7394cd4a9",
   "metadata": {},
   "source": [
    "#### 튜플 곱하기"
   ]
  },
  {
   "cell_type": "code",
   "execution_count": 20,
   "id": "6d91a7b7-10b0-4c37-b290-866386817506",
   "metadata": {},
   "outputs": [
    {
     "name": "stdout",
     "output_type": "stream",
     "text": [
      "(3, 4, 3, 4, 3, 4)\n"
     ]
    }
   ],
   "source": [
    "t2 = (3,4)\n",
    "t3 = t2 * 3\n",
    "print(t3)"
   ]
  },
  {
   "cell_type": "markdown",
   "id": "c20d2fea-ac0e-4631-ad77-82d383f007cb",
   "metadata": {},
   "source": [
    "#### 튜플 길이 구하기"
   ]
  },
  {
   "cell_type": "code",
   "execution_count": 21,
   "id": "0d11a35e-c67b-4ee8-bba2-ec68ae24eaea",
   "metadata": {},
   "outputs": [
    {
     "name": "stdout",
     "output_type": "stream",
     "text": [
      "6\n"
     ]
    }
   ],
   "source": [
    "t1 = (1,2,'a','b')\n",
    "t2 = (3,4)\n",
    "t3 = t1 + t2\n",
    "print(len(t3))"
   ]
  },
  {
   "cell_type": "markdown",
   "id": "731a3f3f-de84-459f-bb18-a0cb400fe728",
   "metadata": {},
   "source": [
    "- 1분 코딩 : (1,2,3)이라는 튜플에 값 4를 추가하여 (1,2,3,4)라는 새로운 튜플을 출력하기"
   ]
  },
  {
   "cell_type": "code",
   "execution_count": 25,
   "id": "eeef6ff1-9821-4490-b3e7-1fe393107168",
   "metadata": {},
   "outputs": [
    {
     "name": "stdout",
     "output_type": "stream",
     "text": [
      "(1, 2, 3, 4)\n"
     ]
    }
   ],
   "source": [
    "t1 = (1,2,3)\n",
    "print(t1+(4,))"
   ]
  },
  {
   "cell_type": "markdown",
   "id": "cf971739-643b-43f9-b010-4b4ea1e19928",
   "metadata": {},
   "source": [
    "## 딕셔너리 자료형"
   ]
  },
  {
   "cell_type": "markdown",
   "id": "47762d00-bcc2-4b59-ac2e-446d4dae36b5",
   "metadata": {},
   "source": [
    "### 딕셔너리"
   ]
  },
  {
   "cell_type": "code",
   "execution_count": 37,
   "id": "0b27ae8b-e02b-406a-8a95-37a878b1e169",
   "metadata": {},
   "outputs": [
    {
     "name": "stdout",
     "output_type": "stream",
     "text": [
      "{'name': 'pey', 'phone': '010-999-1234', 'birth': 1118}\n",
      "pey\n",
      "{0: 'ok', 1: 'hi'}\n",
      "ok\n",
      "{'a': [1, 2, 3, 4]}\n",
      "[1, 2, 3, 4]\n",
      "<class 'dict'>\n",
      "<class 'list'>\n"
     ]
    }
   ],
   "source": [
    "dic = {'name':'pey','phone':'010-999-1234','birth':1118}\n",
    "a = {0:'ok',1:'hi'}\n",
    "b = {'a':[1,2,3,4]}\n",
    "print(dic)\n",
    "print(dic['name'])\n",
    "print(a)\n",
    "print(a[0])\n",
    "print(b)\n",
    "print(b['a'])\n",
    "print(type(b))\n",
    "print(type(b['a']))"
   ]
  },
  {
   "cell_type": "markdown",
   "id": "ffa0c03b-64bd-4a39-aa1b-cf32c1afdc76",
   "metadata": {},
   "source": [
    "### 딕셔너리 쌍 추가/삭제하기"
   ]
  },
  {
   "cell_type": "markdown",
   "id": "62e2f72a-2ba3-4270-9676-51c4ea66067f",
   "metadata": {},
   "source": [
    "#### 딕셔너리 쌍 추가하기"
   ]
  },
  {
   "cell_type": "code",
   "execution_count": 40,
   "id": "c0dc8c9d-ac1a-4756-b678-bbcdbdea19d7",
   "metadata": {},
   "outputs": [
    {
     "data": {
      "text/plain": [
       "{1: 'a', 2: 'b', 'name': 'pey', 'arr': [1, 2, 3, 4]}"
      ]
     },
     "execution_count": 40,
     "metadata": {},
     "output_type": "execute_result"
    }
   ],
   "source": [
    "a = {1:'a'}\n",
    "a[2] = 'b'\n",
    "a['name'] = 'pey'\n",
    "a['arr'] = [1,2,3,4]\n",
    "a"
   ]
  },
  {
   "cell_type": "markdown",
   "id": "315ccce8-8da2-48bc-8ed4-33becb06d90f",
   "metadata": {},
   "source": [
    "#### 딕셔너리 요소 삭제하기"
   ]
  },
  {
   "cell_type": "code",
   "execution_count": 42,
   "id": "b889c0e8-7094-4735-802e-42d5cbfdb243",
   "metadata": {},
   "outputs": [
    {
     "name": "stdout",
     "output_type": "stream",
     "text": [
      "{1: 'a', 2: 'b', 'name': 'pey', 'arr': [1, 2, 3, 4]}\n"
     ]
    }
   ],
   "source": [
    "aa = {1:'a', 2:'b', 'name':'pey', 'arr':[1,2,3,4]}\n",
    "del a['name']\n",
    "print(aa)"
   ]
  },
  {
   "cell_type": "markdown",
   "id": "5edf61d8-c713-4713-b1ce-cfb2dc1866bc",
   "metadata": {},
   "source": [
    "### 딕셔너리를 사용하는 방법"
   ]
  },
  {
   "cell_type": "code",
   "execution_count": 43,
   "id": "9474ac17-0c85-4847-bee9-a435821c6dc1",
   "metadata": {},
   "outputs": [
    {
     "data": {
      "text/plain": [
       "{'김연아': '피겨스케이팅', '류현진': '야구', '손흥민': '축구', '귀도': '파이썬'}"
      ]
     },
     "execution_count": 43,
     "metadata": {},
     "output_type": "execute_result"
    }
   ],
   "source": [
    "{\"김연아\": \"피겨스케이팅\", \"류현진\": \"야구\", \"손흥민\": \"축구\", \"귀도\": \"파이썬\"}"
   ]
  },
  {
   "cell_type": "markdown",
   "id": "8297104d-b632-4ecf-8706-94b1104d56ca",
   "metadata": {},
   "source": [
    "#### 딕셔너리에서 Key를 사용해 Value 얻기"
   ]
  },
  {
   "cell_type": "code",
   "execution_count": 48,
   "id": "1ac17a12-0185-44e6-aeae-20d399524555",
   "metadata": {},
   "outputs": [
    {
     "name": "stdout",
     "output_type": "stream",
     "text": [
      "10\n",
      "pey\n",
      "010-9999-1234\n",
      "1118\n"
     ]
    }
   ],
   "source": [
    "grade = {'pey':10, 'julliet':99}\n",
    "print(grade['pey'])\n",
    "dic = {'name':'pey', 'phone':'010-9999-1234', 'birth': '1118'}\n",
    "print(dic['name'])\n",
    "print(dic['phone'])\n",
    "print(dic['birth'])"
   ]
  },
  {
   "cell_type": "markdown",
   "id": "460d01cc-8863-48d1-82f6-44f3d37f28d2",
   "metadata": {},
   "source": [
    "#### 딕셔너리 만들때 주의사항"
   ]
  },
  {
   "cell_type": "markdown",
   "id": "8aef43d2-3617-488c-a39d-9c5190089082",
   "metadata": {},
   "source": [
    "- a = {1:'a', 1:'b'} <- 1이라는 key값이 중복으로 사용되면 그 결과 중 1:'a' 쌍이 무시된다.\n",
    "- 키 값을 리스트로 하지말것: a = {[1,2]:'hi'} <- 리스트를 키로 사용하면 오류 발생"
   ]
  },
  {
   "cell_type": "markdown",
   "id": "90e36ffd-b6b2-49e8-afe3-cbf2128c6823",
   "metadata": {},
   "source": [
    "### 딕셔너리 관련 함수"
   ]
  },
  {
   "cell_type": "markdown",
   "id": "96e34207-68f0-4b50-8b3b-9a4672c305c0",
   "metadata": {},
   "source": [
    "#### Key 리스트 만들기 - Keys"
   ]
  },
  {
   "cell_type": "code",
   "execution_count": 56,
   "id": "7fa14a0c-7def-4215-bf51-267aaa7f0b8f",
   "metadata": {},
   "outputs": [
    {
     "name": "stdout",
     "output_type": "stream",
     "text": [
      "1: dict_keys([(1, 2, 3), 'phone', 'birth']) <class 'dict_keys'>\n",
      "[(1, 2, 3), 'phone', 'birth'] <class 'list'>\n",
      "((1, 2, 3), 'phone', 'birth') <class 'tuple'>\n"
     ]
    }
   ],
   "source": [
    "a = {(1,2,3):'pey', 'phone':'010-9999-1234', 'birth':'1118'} #튜플로 키가 가능\n",
    "print('1:',a.keys(),type(a.keys()))\n",
    "\n",
    "list_keys = list(a.keys())\n",
    "print(list_keys,type(list_keys))\n",
    "\n",
    "t_keys = tuple(list_keys)\n",
    "print(t_keys,type(t_keys))"
   ]
  },
  {
   "cell_type": "code",
   "execution_count": 58,
   "id": "23d67f89-8b2f-4e65-82e1-b5af960c35c1",
   "metadata": {},
   "outputs": [
    {
     "name": "stdout",
     "output_type": "stream",
     "text": [
      "(1, 2, 3)\n",
      "phone\n",
      "birth\n"
     ]
    }
   ],
   "source": [
    "''' dict_keys 객체는 리스트를 사용하는 것과 별 차이는 없지만, 리스트 고유의\n",
    "append, insert, pop, remove, sort함수는 수행할 수 없다.'''\n",
    "for k in a.keys():\n",
    "    print(k)"
   ]
  },
  {
   "cell_type": "markdown",
   "id": "4676656e-6317-47aa-a120-82f32b61871e",
   "metadata": {},
   "source": [
    "#### Value 리스트 만들기 - values"
   ]
  },
  {
   "cell_type": "code",
   "execution_count": 59,
   "id": "0e1df980-43eb-49f4-8348-7726e7977504",
   "metadata": {
    "editable": true,
    "slideshow": {
     "slide_type": ""
    },
    "tags": []
   },
   "outputs": [
    {
     "name": "stdout",
     "output_type": "stream",
     "text": [
      "1: dict_values(['pey', '010-9999-1234', '1118']) <class 'dict_values'>\n",
      "['pey', '010-9999-1234', '1118'] <class 'list'>\n",
      "('pey', '010-9999-1234', '1118') <class 'tuple'>\n"
     ]
    }
   ],
   "source": [
    "a = {(1,2,3):'pey', 'phone':'010-9999-1234', 'birth':'1118'}\n",
    "print('1:',a.values(),type(a.values()))\n",
    "\n",
    "list_values = list(a.values())\n",
    "print(list_values,type(list_values))\n",
    "\n",
    "t_values = tuple(list_values)\n",
    "print(t_values,type(t_values))"
   ]
  },
  {
   "cell_type": "markdown",
   "id": "6f10467c-ba2a-4b5e-a4bb-99ecdc030d67",
   "metadata": {},
   "source": [
    "#### key, value 창 열기 - items"
   ]
  },
  {
   "cell_type": "code",
   "execution_count": 60,
   "id": "061b74dc-bee7-4851-bc49-1d4035e04667",
   "metadata": {},
   "outputs": [
    {
     "name": "stdout",
     "output_type": "stream",
     "text": [
      "1: dict_items([((1, 2, 3), 'pey'), ('phone', '010-9999-1234'), ('birth', '1118')]) <class 'dict_items'>\n",
      "[((1, 2, 3), 'pey'), ('phone', '010-9999-1234'), ('birth', '1118')] <class 'list'>\n",
      "(((1, 2, 3), 'pey'), ('phone', '010-9999-1234'), ('birth', '1118')) <class 'tuple'>\n"
     ]
    }
   ],
   "source": [
    "a = {(1,2,3):'pey', 'phone':'010-9999-1234', 'birth':'1118'}\n",
    "print('1:',a.items(),type(a.items()))\n",
    "\n",
    "list_items = list(a.items())\n",
    "print(list_items,type(list_items))\n",
    "\n",
    "t_items = tuple(list_items)\n",
    "print(t_items,type(t_items))"
   ]
  },
  {
   "cell_type": "markdown",
   "id": "883a2579-ee47-4e18-ab9f-182b156c9241",
   "metadata": {},
   "source": [
    "#### KeyValue 쌍 모두 지우기 - clear"
   ]
  },
  {
   "cell_type": "code",
   "execution_count": 62,
   "id": "a2adf4d7-3025-4eda-af67-d0a0d95b1115",
   "metadata": {},
   "outputs": [
    {
     "name": "stdout",
     "output_type": "stream",
     "text": [
      "전 {(1, 2, 3): 'pey', 'phone': '010-9999-1234', 'birth': '1118'}\n",
      "후 ()\n",
      "전 {(1, 2, 3): 'pey', 'phone': '010-9999-1234', 'birth': '1118'}\n",
      "후 {}\n"
     ]
    }
   ],
   "source": [
    "a = {(1,2,3):'pey', 'phone':'010-9999-1234', 'birth':'1118'}\n",
    "print('전',a)\n",
    "a=()\n",
    "print('후',a)\n",
    "b = {(1,2,3):'pey', 'phone':'010-9999-1234', 'birth':'1118'}\n",
    "print('전',b)\n",
    "b.clear()\n",
    "print('후',b)"
   ]
  },
  {
   "cell_type": "markdown",
   "id": "79d77f36-5fa5-4c0f-8f68-f031d5a57718",
   "metadata": {},
   "source": [
    "#### Key로 Value 열기 - get"
   ]
  },
  {
   "cell_type": "code",
   "execution_count": 67,
   "id": "d2c2ef46-fc07-499c-91d4-220918c019e6",
   "metadata": {},
   "outputs": [
    {
     "name": "stdout",
     "output_type": "stream",
     "text": [
      "None\n",
      "없어요\n"
     ]
    }
   ],
   "source": [
    "a = {(1,2,3):'pey', 'phone':'010-9999-1234', 'birth':'1118'}\n",
    "print(a.get('hi'))\n",
    "if not a.get('hi'):\n",
    "     print('없어요')"
   ]
  },
  {
   "cell_type": "code",
   "execution_count": 70,
   "id": "a19e0270-34ac-4301-b03a-ded69d16d872",
   "metadata": {},
   "outputs": [
    {
     "name": "stdin",
     "output_type": "stream",
     "text": [
      "원하는 값을 찾을 키를 입력하세요. phone\n"
     ]
    },
    {
     "name": "stdout",
     "output_type": "stream",
     "text": [
      "010-9999-1234\n"
     ]
    }
   ],
   "source": [
    "a = {(1,2,3):'pey', 'phone':'010-9999-1234', 'birth':'1118'}\n",
    "key = input('원하는 값을 찾을 키를 입력하세요.')\n",
    "if not a.get(key):\n",
    "    print('찾는 키가 없어요')\n",
    "else:\n",
    "    print(a[key])"
   ]
  },
  {
   "cell_type": "markdown",
   "id": "a62bd726-7a7c-4b7a-bf2e-092c6466a1f3",
   "metadata": {},
   "source": [
    "#### 해당 key가 딕셔너리 안에 있는지 조사하기"
   ]
  },
  {
   "cell_type": "code",
   "execution_count": 71,
   "id": "a8fdb330-8bf3-4323-a757-a9fd2d4acbb0",
   "metadata": {},
   "outputs": [
    {
     "name": "stdout",
     "output_type": "stream",
     "text": [
      "True\n",
      "False\n"
     ]
    }
   ],
   "source": [
    "a = {(1,2,3):'pey', 'phone':'010-9999-1234', 'birth':'1118'}\n",
    "print((1,2,3) in a)\n",
    "print('hi' in a)"
   ]
  },
  {
   "cell_type": "markdown",
   "id": "13574c00-95c9-4a3a-991b-2e6945ed9c2c",
   "metadata": {},
   "source": [
    "## 집합 자료형"
   ]
  },
  {
   "cell_type": "markdown",
   "id": "66c8bea5-134e-4099-a5c5-a9462314ec08",
   "metadata": {},
   "source": [
    "### 집합 자료형 "
   ]
  },
  {
   "cell_type": "code",
   "execution_count": 73,
   "id": "b087c9d2-620d-4834-8a96-33468487d9f8",
   "metadata": {},
   "outputs": [
    {
     "name": "stdout",
     "output_type": "stream",
     "text": [
      "{1, 2, 3, 4, 5}\n",
      "{'e', 'o', 'C', 'f'}\n"
     ]
    }
   ],
   "source": [
    "s1 = set([5,1,2,3,3,2,1,4])\n",
    "s2 = set('Coffee')\n",
    "print(s1)\n",
    "print(s2)"
   ]
  },
  {
   "cell_type": "markdown",
   "id": "313cfa2e-9658-4bc2-97f7-778f0e74a66f",
   "metadata": {},
   "source": [
    "### 집합자료형의 특징\n",
    "- 중복을 허용하지 않는다.\n",
    "- 순서가 없다.(unordered)\n",
    "- 필터로 사용가능\n",
    "- 리스트나 튜플로 사용하면 요소에 접근가능"
   ]
  },
  {
   "cell_type": "code",
   "execution_count": 77,
   "id": "491416f3-ca39-4ce9-a0e7-1273549c292b",
   "metadata": {
    "editable": true,
    "slideshow": {
     "slide_type": ""
    },
    "tags": []
   },
   "outputs": [
    {
     "name": "stdout",
     "output_type": "stream",
     "text": [
      "원본 [5, 1, 2, 3, 3, 2, 1, 4]\n",
      "중복제거SET: {1, 2, 3, 4, 5}\n",
      "리스트변형: [1, 2, 3, 4, 5] 인덱스2: 3\n",
      "튜플변형: (1, 2, 3, 4, 5) 인섹스2: 3\n"
     ]
    }
   ],
   "source": [
    "s = [5,1,2,3,3,2,1,4]\n",
    "s1 = set(s)\n",
    "l1 = list(s1)\n",
    "t1 = tuple(s1)\n",
    "print('원본',s)\n",
    "print('중복제거SET:',s1)\n",
    "print('리스트변형:',l1,'인덱스2:',l1[2])\n",
    "print('튜플변형:',t1,'인섹스2:',t1[2])\n"
   ]
  },
  {
   "cell_type": "markdown",
   "id": "c521d7d4-53fe-477a-948b-4b17a31ee982",
   "metadata": {},
   "source": [
    "### 교집합, 합집합, 차집합 구하기"
   ]
  },
  {
   "cell_type": "code",
   "execution_count": 86,
   "id": "378a6773-3fa3-47f1-9679-d3f3ec087bcf",
   "metadata": {},
   "outputs": [],
   "source": [
    "s1 = set([1,2,3,4,5,6])\n",
    "s2 = set([4,5,6,7,8,9])"
   ]
  },
  {
   "cell_type": "markdown",
   "id": "6ada15f5-7df2-4e1f-b8a6-5747bf9618c2",
   "metadata": {},
   "source": [
    "#### 교집합 구하기"
   ]
  },
  {
   "cell_type": "code",
   "execution_count": 87,
   "id": "8a1f9c50-383c-44d7-9dde-803fdb24250b",
   "metadata": {},
   "outputs": [
    {
     "name": "stdout",
     "output_type": "stream",
     "text": [
      "{4, 5, 6} <class 'set'>\n"
     ]
    }
   ],
   "source": [
    "s3 = s1 & s2\n",
    "print(s3,type(s3))"
   ]
  },
  {
   "cell_type": "markdown",
   "id": "d195cf27-be9e-4c43-95d4-45a3d040fcff",
   "metadata": {},
   "source": [
    "#### 합집합 구하기"
   ]
  },
  {
   "cell_type": "code",
   "execution_count": 88,
   "id": "c6669d5b-a681-467e-8a20-1a30639e3092",
   "metadata": {},
   "outputs": [
    {
     "name": "stdout",
     "output_type": "stream",
     "text": [
      "{1, 2, 3, 4, 5, 6, 7, 8, 9} <class 'set'>\n"
     ]
    }
   ],
   "source": [
    "s4 = s1 | s2\n",
    "print(s4,type(s4))"
   ]
  },
  {
   "cell_type": "code",
   "execution_count": 89,
   "id": "2f605582-f04f-48cd-bb81-7983daa1655f",
   "metadata": {},
   "outputs": [
    {
     "name": "stdout",
     "output_type": "stream",
     "text": [
      "{1, 2, 3}\n",
      "{8, 9, 7}\n"
     ]
    }
   ],
   "source": [
    "s5 = s1 - s2 # 다음과 같은 기능 s5 = s1.difference(s2)\n",
    "s6 = s2 - s1 \n",
    "print(s5)\n",
    "print(s6)"
   ]
  },
  {
   "cell_type": "markdown",
   "id": "41e618dd-74f9-46d4-9757-645b10c8563d",
   "metadata": {},
   "source": [
    "### 집합 자료형 관련함수"
   ]
  },
  {
   "cell_type": "markdown",
   "id": "960642db-18c4-4b84-af26-7d0262ac05bf",
   "metadata": {},
   "source": [
    "#### 값 1개 추가하기 - add"
   ]
  },
  {
   "cell_type": "code",
   "execution_count": 90,
   "id": "5ea7be60-2a55-40cb-8084-086319f33744",
   "metadata": {},
   "outputs": [
    {
     "name": "stdout",
     "output_type": "stream",
     "text": [
      "{1, 2, 3, 4}\n"
     ]
    }
   ],
   "source": [
    "s1 = set([1,2,3])\n",
    "s1.add(4)\n",
    "print(s1)"
   ]
  },
  {
   "cell_type": "markdown",
   "id": "5c8ea4d6-e6a6-4437-a0ac-a45111519feb",
   "metadata": {},
   "source": [
    "#### 값 여러개 추가하기 - update"
   ]
  },
  {
   "cell_type": "code",
   "execution_count": 91,
   "id": "a5f5d03e-0280-4ca4-84d8-4480763acda5",
   "metadata": {},
   "outputs": [
    {
     "name": "stdout",
     "output_type": "stream",
     "text": [
      "{1, 2, 3, 4, 5, 6} <class 'set'>\n"
     ]
    }
   ],
   "source": [
    "s1 = set([1,2,3])\n",
    "s1.update([4,5,6])\n",
    "print(s1,type(s1))"
   ]
  },
  {
   "cell_type": "markdown",
   "id": "4a6b1292-a0ae-4d72-a6e8-1dfbc664dcc7",
   "metadata": {},
   "source": [
    "#### 특정 값 제거하기 - remove"
   ]
  },
  {
   "cell_type": "code",
   "execution_count": 93,
   "id": "7737e954-a860-438c-97bf-4781332959bb",
   "metadata": {},
   "outputs": [
    {
     "name": "stdout",
     "output_type": "stream",
     "text": [
      "{1, 3} <class 'set'>\n"
     ]
    }
   ],
   "source": [
    "s1 = set([1,2,3])\n",
    "s1.remove(2)\n",
    "print(s1,type(s1))"
   ]
  },
  {
   "cell_type": "markdown",
   "id": "7ecdcc82-5ff5-42c4-bbce-2e1267bbe82f",
   "metadata": {},
   "source": [
    "## 불 자료형"
   ]
  },
  {
   "cell_type": "markdown",
   "id": "24e498e3-f4ac-4a53-bda3-6928893198a3",
   "metadata": {},
   "source": [
    "### 불 자료형 (True, false)"
   ]
  },
  {
   "cell_type": "code",
   "execution_count": 99,
   "id": "71dc0382-1fee-41d9-a5e2-3ea8c71d0995",
   "metadata": {},
   "outputs": [
    {
     "name": "stdout",
     "output_type": "stream",
     "text": [
      "True <class 'bool'>\n",
      "True <class 'bool'>\n",
      "False <class 'bool'>\n",
      "True <class 'bool'>\n",
      "True <class 'bool'>\n",
      "True <class 'bool'>\n"
     ]
    }
   ],
   "source": [
    "b1 = 1 == 1\n",
    "b2 = 2 > 1\n",
    "b3 = 2 < 1\n",
    "b4 = bool((1,))\n",
    "b5 = bool([1,2,3])\n",
    "b6 = bool({1:2})\n",
    "print(b1,type(b1))\n",
    "print(b2,type(b2))\n",
    "print(b3,type(b3))\n",
    "print(b4,type(b4))\n",
    "print(b5,type(b5))\n",
    "print(b6,type(b6))"
   ]
  },
  {
   "cell_type": "markdown",
   "id": "85ea1b28-3359-4fa1-85f8-2217b982bf77",
   "metadata": {},
   "source": [
    "### 자료형의 참과 거짓"
   ]
  },
  {
   "cell_type": "code",
   "execution_count": 104,
   "id": "78f09945-7e16-4e75-acc6-7466ec224058",
   "metadata": {},
   "outputs": [
    {
     "name": "stdout",
     "output_type": "stream",
     "text": [
      "[1, 2, 3, 4] 5\n",
      "a가 비었습니다.\n",
      "[1, 2, 3] 4\n",
      "a가 비었습니다.\n",
      "[1, 2] 3\n",
      "a가 비었습니다.\n",
      "[1] 2\n",
      "a가 비었습니다.\n",
      "[] 1\n",
      "a가 비었습니다.\n"
     ]
    }
   ],
   "source": [
    "a = [1,2,3,4,5]\n",
    "while a:\n",
    "    print(a, a.pop())\n",
    "    print('a가 비었습니다.')"
   ]
  },
  {
   "cell_type": "markdown",
   "id": "590b7fe5-a148-4332-8375-fbcdc9061943",
   "metadata": {},
   "source": [
    "### 불 연산"
   ]
  },
  {
   "cell_type": "code",
   "execution_count": 106,
   "id": "029a59c2-56b7-4679-a949-d0ae780c3f9c",
   "metadata": {},
   "outputs": [
    {
     "name": "stdout",
     "output_type": "stream",
     "text": [
      "bool([1,2,3]):True\n",
      "bool([]):False\n",
      "bool(0):False\n",
      "bool(3):True\n"
     ]
    }
   ],
   "source": [
    "b1 = bool([1,2,3])\n",
    "b2 = bool([])\n",
    "b3 = bool(0)\n",
    "b4 = bool(3)\n",
    "print(f'bool([1,2,3]):{b1}')\n",
    "print(f'bool([]):{b2}')\n",
    "print(f'bool(0):{b3}')\n",
    "print(f'bool(3):{b4}')"
   ]
  },
  {
   "cell_type": "markdown",
   "id": "dfe67ee9-98aa-4b78-a2ad-f63af702909c",
   "metadata": {},
   "source": [
    "## 자료형의 값을 저장하는 공간, 변수"
   ]
  },
  {
   "cell_type": "markdown",
   "id": "9990b6fd-5c16-47ac-8ab5-39aa86df0ee3",
   "metadata": {},
   "source": [
    "### 변수 - variable"
   ]
  },
  {
   "cell_type": "markdown",
   "id": "a830f524-a55d-47cc-9287-d0cc06eac39b",
   "metadata": {},
   "source": [
    "- 변수 이름 = 변수에 저장할 값"
   ]
  },
  {
   "cell_type": "markdown",
   "id": "71d431af-8677-4272-9a3b-c47360c7e068",
   "metadata": {},
   "source": [
    "### 변수란?"
   ]
  },
  {
   "cell_type": "code",
   "execution_count": 109,
   "id": "ed4dca4a-0bc8-4350-91cb-add40a776b78",
   "metadata": {},
   "outputs": [
    {
     "name": "stdout",
     "output_type": "stream",
     "text": [
      "4032635272\n",
      "4032636168\n",
      "4032635272\n"
     ]
    }
   ],
   "source": [
    "a = [1,2,3]\n",
    "b = [1,2,3]\n",
    "c = a\n",
    "print(id(a))\n",
    "print(id(b))\n",
    "print(id(a))"
   ]
  },
  {
   "cell_type": "markdown",
   "id": "ccef9f22-34cd-4596-bda8-ba1fa87b9f04",
   "metadata": {},
   "source": [
    "###  리스트를 복사하고자 할 때"
   ]
  },
  {
   "cell_type": "code",
   "execution_count": 17,
   "id": "3e9324f4-7c2e-45b7-bcc1-07c0c7a5d75a",
   "metadata": {},
   "outputs": [
    {
     "name": "stdout",
     "output_type": "stream",
     "text": [
      "[1, 2, 3]\n",
      "[1, 2, 3]\n",
      "True\n",
      "True\n"
     ]
    }
   ],
   "source": [
    "a = [1,2,3]\n",
    "b = a\n",
    "print(a)\n",
    "print(b)\n",
    "print(a is b)\n",
    "print(a == b)"
   ]
  },
  {
   "cell_type": "markdown",
   "id": "3ec87284-c1c8-4010-82b8-3d2714db72f1",
   "metadata": {},
   "source": [
    "#### [:] 이용하기"
   ]
  },
  {
   "cell_type": "code",
   "execution_count": 19,
   "id": "cce4ac20-aa47-466b-bdbe-f4a1aea4b07b",
   "metadata": {},
   "outputs": [
    {
     "name": "stdout",
     "output_type": "stream",
     "text": [
      "[1, 2, 7]\n",
      "[1, 2, 3]\n",
      "False\n",
      "False\n"
     ]
    }
   ],
   "source": [
    "a = [1,2,3]\n",
    "# 깊은 복사\n",
    "c = a[:]\n",
    "a[2] = 7\n",
    "print(a)\n",
    "print(c)\n",
    "print(a is c)\n",
    "print(a == c)"
   ]
  },
  {
   "cell_type": "markdown",
   "id": "a7cb2198-7408-4684-9afd-8f5004ea1b75",
   "metadata": {},
   "source": [
    "#### copy 모듈 이용하기"
   ]
  },
  {
   "cell_type": "code",
   "execution_count": 21,
   "id": "b2399cb1-1de5-4f13-b828-53ca677c6d4c",
   "metadata": {},
   "outputs": [
    {
     "name": "stdout",
     "output_type": "stream",
     "text": [
      "[1, 2, 3]\n",
      "4047013832\n",
      "4047112040\n",
      "False\n",
      "True\n"
     ]
    }
   ],
   "source": [
    "from copy import copy # 모듈기능을 가져오기\n",
    "a = [1,2,3]\n",
    "b = copy(a)\n",
    "print(b)\n",
    "print(id(a))\n",
    "print(id(b))\n",
    "print(a is b)\n",
    "print(a == b)"
   ]
  },
  {
   "cell_type": "code",
   "execution_count": 20,
   "id": "ffb05f24-237d-4889-b5f0-a8ffa4b55122",
   "metadata": {},
   "outputs": [
    {
     "name": "stdout",
     "output_type": "stream",
     "text": [
      "[1, 2, 3]\n",
      "4047111080\n",
      "4047038728\n",
      "False\n",
      "True\n"
     ]
    }
   ],
   "source": [
    "# 내장 함수를 사용하는 방법\n",
    "aa = [1,2,3]\n",
    "bb = aa.copy()\n",
    "print(bb)\n",
    "print(id(aa))\n",
    "print(id(bb))\n",
    "print(aa is bb)\n",
    "print(aa == bb)"
   ]
  },
  {
   "cell_type": "code",
   "execution_count": 12,
   "id": "ab92526c-1f39-4363-9d38-65408e960a37",
   "metadata": {},
   "outputs": [
    {
     "name": "stdout",
     "output_type": "stream",
     "text": [
      "4046741928\n",
      "4046741928\n",
      "4046741928\n"
     ]
    }
   ],
   "source": [
    "# 모듈기능을 가져오기, string 복사 테스트\n",
    "from copy import copy\n",
    "s1 = '감사합니다.'\n",
    "s2 = s1\n",
    "print(id(s1))\n",
    "print(id(s2))\n",
    "s3 = copy(s1)\n",
    "print(id(s3))"
   ]
  },
  {
   "cell_type": "code",
   "execution_count": 22,
   "id": "2b51aaa9-1bc3-4908-b836-5c11251841d0",
   "metadata": {},
   "outputs": [
    {
     "name": "stdout",
     "output_type": "stream",
     "text": [
      "4047222856\n",
      "4047222856\n",
      "4047222856\n",
      "True\n",
      "True\n"
     ]
    }
   ],
   "source": [
    "# 모듈기능을 가져오기, tuple 복사 테스트\n",
    "from copy import copy\n",
    "t1 = (1,2,3,4)\n",
    "t2 = t1\n",
    "print(id(t1))\n",
    "print(id(t2))\n",
    "t3 = copy(t1) # 튜플 복사를 해도 아이디가 변경되지 않음\n",
    "print(id(t3))\n",
    "print(t1 is t2) # 값과 저장공간도 같은지 확인, 속도가 조금 더 빠름\n",
    "print(t1 == t2) # 값만 같은지 확인"
   ]
  },
  {
   "cell_type": "markdown",
   "id": "66036c6b-e720-403b-ab7a-d7ef206db9b6",
   "metadata": {},
   "source": [
    "### 변수를 만드는 여러가지 방법"
   ]
  },
  {
   "cell_type": "code",
   "execution_count": 25,
   "id": "ce020923-94f6-4828-a6f2-1e39782b3b82",
   "metadata": {},
   "outputs": [
    {
     "name": "stdout",
     "output_type": "stream",
     "text": [
      "python life\n",
      "python life\n",
      "python life\n"
     ]
    }
   ],
   "source": [
    "a1, b1 = 'python', 'life'\n",
    "a2, b2 = ('python', 'life')\n",
    "(a3, b3) = 'python', 'life'\n",
    "print(a1,b1)\n",
    "print(a2,b2)\n",
    "print(a3,b3)"
   ]
  },
  {
   "cell_type": "code",
   "execution_count": 27,
   "id": "17912277-3526-4d96-bb04-03996fd15a15",
   "metadata": {},
   "outputs": [
    {
     "name": "stdout",
     "output_type": "stream",
     "text": [
      "python life\n",
      "python life\n",
      "python life\n",
      "python life\n"
     ]
    }
   ],
   "source": [
    "# 리스트 복사\n",
    "a0, b0 = ['python', 'life']\n",
    "[a1, b1] = ['python', 'life']\n",
    "[a2, b2] = 'python', 'life'\n",
    "[a3, b3] = ['python', 'life']\n",
    "print(a0, b0)\n",
    "print(a1, b1)\n",
    "print(a2, b2)\n",
    "print(a3, b3)"
   ]
  },
  {
   "cell_type": "code",
   "execution_count": 37,
   "id": "78c29cd8-ae55-433b-915b-18fd0d08f467",
   "metadata": {},
   "outputs": [
    {
     "name": "stdout",
     "output_type": "stream",
     "text": [
      "python python python python\n",
      "python\n"
     ]
    }
   ],
   "source": [
    "# 여러개의 변수값 대입\n",
    "a = b = c = ㅋ = 'python'\n",
    "print(a,b,c,ㅋ)\n",
    "print(ㅋ)"
   ]
  },
  {
   "cell_type": "code",
   "execution_count": 36,
   "id": "ab9a84f5-5cf6-453b-b635-3ccd4b337c94",
   "metadata": {},
   "outputs": [
    {
     "name": "stdout",
     "output_type": "stream",
     "text": [
      "a:3 b:5\n",
      "a:0 b:1\n",
      "a:5 b:3\n"
     ]
    }
   ],
   "source": [
    "a = 3\n",
    "b = 5\n",
    "print('a:%d b:%d'%(a,b)) # 1\n",
    "a, b = b, a\n",
    "print(f'a:{0} b:{1}'.format(a,b))\n",
    "print(f'a:{a} b:{b}') # 3"
   ]
  },
  {
   "cell_type": "markdown",
   "id": "a6c10e21-eb78-4e3c-ac4b-6d1ed8a3c0d8",
   "metadata": {},
   "source": [
    "# 제어문"
   ]
  },
  {
   "cell_type": "markdown",
   "id": "2423d7ca-f5fa-4b13-9441-0650115c33f1",
   "metadata": {},
   "source": [
    "## if문"
   ]
  },
  {
   "cell_type": "markdown",
   "id": "257cbe15-41a3-4be6-ac66-123bc43ae53b",
   "metadata": {},
   "source": [
    "### 조건문이란?"
   ]
  },
  {
   "cell_type": "code",
   "execution_count": 38,
   "id": "cc652e2a-9e7e-4de7-91f6-d018cbce5cdb",
   "metadata": {},
   "outputs": [
    {
     "name": "stdout",
     "output_type": "stream",
     "text": [
      "조건문 가동\n"
     ]
    }
   ],
   "source": [
    "if True:\n",
    "    print('조건문 가동')"
   ]
  },
  {
   "cell_type": "markdown",
   "id": "9c2b6017-a185-4d8f-b61b-d74551cb8d64",
   "metadata": {},
   "source": [
    "#### 비교 연산자"
   ]
  },
  {
   "cell_type": "code",
   "execution_count": 45,
   "id": "0ec103de-a3b6-450d-b157-1beb7b7acf34",
   "metadata": {},
   "outputs": [
    {
     "name": "stdout",
     "output_type": "stream",
     "text": [
      "x=3 y=2일때\n",
      "x<y False\n",
      "x>y True\n",
      "x==y False\n",
      "x!=y True\n",
      "x>=y True\n",
      "x<=y False\n"
     ]
    }
   ],
   "source": [
    "x,y = 3,2\n",
    "print(f'x={x} y={y}일때')\n",
    "print('x<y',x<y)\n",
    "print('x>y',x>y)\n",
    "print('x==y',x==y)\n",
    "print('x!=y',x!=y)\n",
    "print('x>=y',x>=y)\n",
    "print('x<=y',x<=y)"
   ]
  },
  {
   "cell_type": "code",
   "execution_count": 46,
   "id": "b13009e1-3a3b-44ba-929b-09dc9091c36e",
   "metadata": {},
   "outputs": [
    {
     "name": "stdout",
     "output_type": "stream",
     "text": [
      "걸어가라\n"
     ]
    }
   ],
   "source": [
    "# 만약 3000원 이상의 돈을 가지고 있으면 택시를 타고 가고, 그렇지 않으면 걸어가라.\n",
    "money = int(input('얼마 가지고 있어?')2000\n",
    "if money >= 3000:\n",
    "    print('택시타고 가라')\n",
    "else:\n",
    "    print('걸어가라')"
   ]
  },
  {
   "cell_type": "markdown",
   "id": "878c4af9-3dda-467f-955f-c459bb833438",
   "metadata": {},
   "source": [
    "#### and, or, not"
   ]
  },
  {
   "cell_type": "code",
   "execution_count": 48,
   "id": "d8d6fa92-cda0-4f30-b741-0f70e25cc0bc",
   "metadata": {},
   "outputs": [
    {
     "name": "stdout",
     "output_type": "stream",
     "text": [
      "택시타고 가세요\n"
     ]
    }
   ],
   "source": [
    "money = 2008\n",
    "card = True\n",
    "if money >= 30000 or card: # 무조건 실행됨\n",
    "    print(\"택시타고 가세요\")\n",
    "else:\n",
    "    print(\"응 걸어가\")"
   ]
  },
  {
   "cell_type": "markdown",
   "id": "8bbbd5d8-29a7-4db8-946f-1e15e505ffa6",
   "metadata": {},
   "source": [
    "#### in, not in"
   ]
  },
  {
   "cell_type": "code",
   "execution_count": 51,
   "id": "3e10fe3b-ab48-4e0f-afef-4415811a46f8",
   "metadata": {},
   "outputs": [
    {
     "name": "stdout",
     "output_type": "stream",
     "text": [
      "True\n",
      "False\n",
      "True\n",
      "True\n"
     ]
    }
   ],
   "source": [
    "print(1 in [1,2,3,4,5])\n",
    "print(1 not in [1,2,3,4,5])\n",
    "print('a' in ('a','b','c'))\n",
    "print('j' not in 'python')"
   ]
  },
  {
   "cell_type": "code",
   "execution_count": 52,
   "id": "c92906fb-6096-492c-ac8e-4e217cd63c3c",
   "metadata": {},
   "outputs": [
    {
     "name": "stdout",
     "output_type": "stream",
     "text": [
      "택시타고 가\n"
     ]
    }
   ],
   "source": [
    "pocket = 'paper','celphone','money'\n",
    "if 'money' in pocket:\n",
    "    print(\"택시타고 가\")\n",
    "else:\n",
    "    print(\"응 걸어가\")"
   ]
  },
  {
   "cell_type": "code",
   "execution_count": 54,
   "id": "8e78b254-3611-47ff-becd-642ee254a3fc",
   "metadata": {},
   "outputs": [],
   "source": [
    "pocket = 'paper','cellphone','money'\n",
    "if 'money' in pocket:\n",
    "    pass\n",
    "else:\n",
    "    print(\"카드 꺼내\")"
   ]
  },
  {
   "cell_type": "code",
   "execution_count": 62,
   "id": "867eaf17-881a-4a01-bfbd-c847133d4825",
   "metadata": {},
   "outputs": [
    {
     "name": "stdout",
     "output_type": "stream",
     "text": [
      "택시타고 가\n"
     ]
    }
   ],
   "source": [
    "# pocket = ['paper','cellphone']\n",
    "mypocket = {'paper':'영수증','cellphone':'할부남음','key':'집열쇠'}\n",
    "pocket = mypocket.keys() #dict_keys 형태로 나온다.\n",
    "card = True\n",
    "if 'money' in pocket:\n",
    "    print('택시타고 가라')\n",
    "else:\n",
    "    if card:\n",
    "        print(\"택시타고 가\")\n",
    "    else:\n",
    "        print(\"걸어가라\")"
   ]
  },
  {
   "cell_type": "code",
   "execution_count": 64,
   "id": "68466d30-d6ea-49b7-8bc2-b53171688497",
   "metadata": {},
   "outputs": [
    {
     "name": "stdout",
     "output_type": "stream",
     "text": [
      "카드 꺼내라\n"
     ]
    }
   ],
   "source": [
    "pocket = ['money','paper','cellphone']\n",
    "if 'money' not in pocket: pass\n",
    "else:print(\"카드 꺼내라\")"
   ]
  },
  {
   "cell_type": "markdown",
   "id": "2d3765a9-efea-46ca-9760-fc95685e9c0d",
   "metadata": {},
   "source": [
    "### 조건부 표현식"
   ]
  },
  {
   "cell_type": "code",
   "execution_count": 66,
   "id": "c7a0cdd5-0bd7-468a-8346-418c9fd30d53",
   "metadata": {},
   "outputs": [
    {
     "name": "stdin",
     "output_type": "stream",
     "text": [
      "점수를 입력하시오 33\n"
     ]
    },
    {
     "name": "stdout",
     "output_type": "stream",
     "text": [
      "failure\n"
     ]
    }
   ],
   "source": [
    "'''\n",
    "if score >= 60:\n",
    "    message = \"success\"\n",
    "else:\n",
    "    message = \"failure\"\n",
    "'''\n",
    "# 조건부 표현식으로 변경\n",
    "score = int(input('점수를 입력하시오'))\n",
    "message = \"success\" if score >= 60 else \"failure\"\n",
    "print(message)"
   ]
  },
  {
   "cell_type": "markdown",
   "id": "c259c7a8-8030-4fce-9b08-d6f47bb78d0e",
   "metadata": {},
   "source": [
    "## While문"
   ]
  },
  {
   "cell_type": "markdown",
   "id": "dff13a55-d33c-4225-8222-02bf44b121f0",
   "metadata": {},
   "source": [
    "### While문의 기본 구조"
   ]
  },
  {
   "cell_type": "code",
   "execution_count": 68,
   "id": "4115a281-3664-445a-9441-c176086b0dd4",
   "metadata": {},
   "outputs": [
    {
     "name": "stdout",
     "output_type": "stream",
     "text": [
      "나무를 1번 찍었습니다.\n",
      "나무를 2번 찍었습니다.\n",
      "나무를 3번 찍었습니다.\n",
      "나무를 4번 찍었습니다.\n",
      "나무를 5번 찍었습니다.\n",
      "나무를 6번 찍었습니다.\n",
      "나무를 7번 찍었습니다.\n",
      "나무를 8번 찍었습니다.\n",
      "나무를 9번 찍었습니다.\n",
      "나무를 10번 찍었습니다.\n",
      "나무가 넘어갑니다.\n"
     ]
    }
   ],
   "source": [
    "treeHit = 0\n",
    "while treeHit < 10:\n",
    "    treeHit += 1\n",
    "    print(\"나무를 {0}번 찍었습니다.\".format(treeHit))\n",
    "    if treeHit == 10:\n",
    "        print(\"나무가 넘어갑니다.\")"
   ]
  },
  {
   "cell_type": "code",
   "execution_count": 69,
   "id": "e3676e2c-5960-428d-8d87-d08530019aec",
   "metadata": {},
   "outputs": [
    {
     "name": "stdout",
     "output_type": "stream",
     "text": [
      "\n",
      "1. Add\n",
      "2. Del\n",
      "3. List\n",
      "4. Quit\n",
      "\n",
      "Enter number: \n"
     ]
    },
    {
     "name": "stdin",
     "output_type": "stream",
     "text": [
      " 11\n"
     ]
    },
    {
     "name": "stdout",
     "output_type": "stream",
     "text": [
      "입력하신 숫자는 11입니다.\n",
      "\n",
      "1. Add\n",
      "2. Del\n",
      "3. List\n",
      "4. Quit\n",
      "\n",
      "Enter number: \n"
     ]
    },
    {
     "name": "stdin",
     "output_type": "stream",
     "text": [
      " 22\n"
     ]
    },
    {
     "name": "stdout",
     "output_type": "stream",
     "text": [
      "입력하신 숫자는 22입니다.\n",
      "\n",
      "1. Add\n",
      "2. Del\n",
      "3. List\n",
      "4. Quit\n",
      "\n",
      "Enter number: \n"
     ]
    },
    {
     "name": "stdin",
     "output_type": "stream",
     "text": [
      " 4\n"
     ]
    },
    {
     "name": "stdout",
     "output_type": "stream",
     "text": [
      "입력하신 숫자는 4입니다.\n"
     ]
    }
   ],
   "source": [
    "prompt = \"\"\"\n",
    "1. Add\n",
    "2. Del\n",
    "3. List\n",
    "4. Quit\n",
    "\n",
    "Enter number: \"\"\"\n",
    "number = 0\n",
    "while number != 4:\n",
    "    print(prompt)\n",
    "    number = int(input())\n",
    "    print(f'입력하신 숫자는 {number}입니다.')"
   ]
  },
  {
   "cell_type": "markdown",
   "id": "1ea936b3-6127-4f35-b925-94e19983c4c4",
   "metadata": {},
   "source": [
    "### while문 강제로 빠져나가기"
   ]
  },
  {
   "cell_type": "code",
   "execution_count": 83,
   "id": "78448e0b-0dc1-4f25-9559-afbe3522df4c",
   "metadata": {},
   "outputs": [
    {
     "name": "stdin",
     "output_type": "stream",
     "text": [
      "돈 주세요:  444\n"
     ]
    },
    {
     "name": "stdout",
     "output_type": "stream",
     "text": [
      "거스름돈 144랑 커피 드릴게요.\n",
      "남은 커피는 2개임\n"
     ]
    },
    {
     "name": "stdin",
     "output_type": "stream",
     "text": [
      "돈 주세요:  444\n"
     ]
    },
    {
     "name": "stdout",
     "output_type": "stream",
     "text": [
      "거스름돈 144랑 커피 드릴게요.\n",
      "남은 커피는 1개임\n"
     ]
    },
    {
     "name": "stdin",
     "output_type": "stream",
     "text": [
      "돈 주세요:  444\n"
     ]
    },
    {
     "name": "stdout",
     "output_type": "stream",
     "text": [
      "거스름돈 144랑 커피 드릴게요.\n",
      "남은 커피는 0개임\n",
      "커피 없음 ㅅㄱ\n"
     ]
    }
   ],
   "source": [
    "coffee = 3\n",
    "while 1:\n",
    "    money = int(input('돈 주세요: '))\n",
    "    if money == 300:\n",
    "        coffee -= 1\n",
    "        print(f'커피 드릴게요. 남은 커피 개수:{coffee}')\n",
    "        print(\"남은 커피는 %d개임\"%coffee)\n",
    "    elif money > 300:\n",
    "        coffee -= 1\n",
    "        print('거스름돈 %d랑 커피 드릴게요.' % (money - 300))\n",
    "        print(\"남은 커피는 %d개임\"%coffee)\n",
    "    else:\n",
    "        print(\"돈이나 먹고 떨어져.\")\n",
    "    if coffee == 0:\n",
    "        print(\"커피 없음 ㅅㄱ\")\n",
    "        break"
   ]
  },
  {
   "cell_type": "markdown",
   "id": "45729b2c-e045-4c1b-be0a-9c77d52bb89c",
   "metadata": {},
   "source": [
    "### while문 continue"
   ]
  },
  {
   "cell_type": "code",
   "execution_count": 81,
   "id": "00069a5d-d686-4a4b-88a7-57e65923f3ca",
   "metadata": {},
   "outputs": [
    {
     "name": "stdout",
     "output_type": "stream",
     "text": [
      "1\n",
      "..라고 말하고 싶었는데...\n",
      "3\n",
      "..라고 말하고 싶었는데...\n",
      "5\n",
      "..라고 말하고 싶었는데...\n",
      "7\n",
      "..라고 말하고 싶었는데...\n",
      "9\n",
      "..라고 말하고 싶었는데...\n"
     ]
    }
   ],
   "source": [
    "a = 0\n",
    "while a < 10:\n",
    "    a += 1\n",
    "    if a % 2 == 0:\n",
    "        print(f'..라고 말하고 싶었는데...')\n",
    "        continue\n",
    "    print(a)"
   ]
  },
  {
   "cell_type": "markdown",
   "id": "31be7262-0382-4ca8-ba69-29af3654acf4",
   "metadata": {},
   "source": [
    "### 무한루프"
   ]
  },
  {
   "cell_type": "markdown",
   "id": "24305f06-7575-4419-b04a-faf8ca73623a",
   "metadata": {},
   "source": [
    "## for문"
   ]
  },
  {
   "cell_type": "markdown",
   "id": "cd7701a3-a8c9-4d56-9fda-c190c61f86a4",
   "metadata": {},
   "source": [
    "### for 구문\n",
    "- for 변수 in 리스트(또는 튜플, 문자열)"
   ]
  },
  {
   "cell_type": "code",
   "execution_count": 1,
   "id": "76939811-d241-40a2-931b-d5d5b0484f5f",
   "metadata": {},
   "outputs": [
    {
     "name": "stdout",
     "output_type": "stream",
     "text": [
      "1\n",
      "2\n",
      "3\n",
      "4\n",
      "5\n",
      "6\n",
      "7\n",
      "8\n",
      "9\n"
     ]
    }
   ],
   "source": [
    "for i in [1,2,3,4,5,6,7,8,9]:\n",
    "    print(i)"
   ]
  },
  {
   "cell_type": "markdown",
   "id": "caba91ea-b36c-4b53-8fbd-780951256cef",
   "metadata": {},
   "source": [
    "#### 다양한 for문의 사용"
   ]
  },
  {
   "cell_type": "code",
   "execution_count": 2,
   "id": "f041334b-609a-4260-8048-580566b7468b",
   "metadata": {},
   "outputs": [
    {
     "name": "stdout",
     "output_type": "stream",
     "text": [
      "1 + 2 = 3\n",
      "3 + 4 = 7\n",
      "5 + 6 = 11\n"
     ]
    }
   ],
   "source": [
    "a = [(1,2),(3,4),(5,6)]\n",
    "for (f,r) in a:\n",
    "    print(f'{f} + {r} = {f + r}')"
   ]
  },
  {
   "cell_type": "code",
   "execution_count": 3,
   "id": "6c3bdbfd-ac8a-4aed-80d0-6bcc3e574bcf",
   "metadata": {},
   "outputs": [
    {
     "name": "stdout",
     "output_type": "stream",
     "text": [
      "1 + 11 = 12 / 9\n",
      "2 + 22 = 24 / 8\n",
      "3 + 33 = 36 / 7\n",
      "4 + 44 = 48 / 6\n",
      "5 + 55 = 60 / 5\n",
      "6 + 66 = 72 / 4\n",
      "7 + 77 = 84 / 3\n",
      "8 + 88 = 96 / 2\n",
      "9 + 99 = 108 / 1\n"
     ]
    }
   ],
   "source": [
    "a = [1,2,3,4,5,6,7,8,9]\n",
    "b = [11,22,33,44,55,66,77,88,99]\n",
    "c = [9,8,7,6,5,4,3,2,1]\n",
    "for(i,j,k) in zip(a,b,c):\n",
    "    print(f'{i} + {j} = {i + j} / {k}')"
   ]
  },
  {
   "cell_type": "markdown",
   "id": "a8416920-e91f-4ba4-88b9-02d26e763a5b",
   "metadata": {},
   "source": [
    "### for문과 continue문"
   ]
  },
  {
   "cell_type": "code",
   "execution_count": 145,
   "id": "e625f67f-2e3a-4aa7-8684-6b510059cbd6",
   "metadata": {},
   "outputs": [
    {
     "name": "stdout",
     "output_type": "stream",
     "text": [
      "1번 학생 90점으로 합격입니다.\n",
      "3번 학생 67점으로 합격입니다.\n",
      "5번 학생 80점으로 합격입니다.\n"
     ]
    }
   ],
   "source": [
    "marks = [90, 25, 67, 45, 80]\n",
    "for number in range(len(marks)):\n",
    "    if marks[number] < 60:\n",
    "        continue\n",
    "    print(\"%d번 학생 %d점으로 합격입니다.\" % (number + 1, marks[number]))"
   ]
  },
  {
   "cell_type": "code",
   "execution_count": 141,
   "id": "c66f7a9e-b3c1-4dcb-8d33-defec08de717",
   "metadata": {},
   "outputs": [
    {
     "name": "stdout",
     "output_type": "stream",
     "text": [
      "1번 학생 90점으로 합격입니다.\n",
      "3번 학생 67점으로 합격입니다.\n",
      "5번 학생 80점으로 합격입니다.\n"
     ]
    }
   ],
   "source": [
    "# range 응용1 (index 와 value 구하기)\n",
    "marks = [90, 25, 67, 45, 80]\n",
    "for index in range(len(marks)):\n",
    "    if marks[index] < 60:\n",
    "        continue\n",
    "    print(\"%d번 학생 %d점으로 합격입니다.\" % (index + 1, marks[index]))"
   ]
  },
  {
   "cell_type": "code",
   "execution_count": 60,
   "id": "f55ff13c-c188-4967-8bf1-69bf7f24cd45",
   "metadata": {},
   "outputs": [
    {
     "name": "stdout",
     "output_type": "stream",
     "text": [
      "[0, 1, 2, 3, 4, 5, 6, 7, 8, 9]\n",
      "[0, 1, 2, 3, 4, 5, 6, 7, 8, 9]\n",
      "True\n",
      "[4, 6, 8, 10, 12, 14, 16, 18]\n",
      "[10, 9, 8, 7, 6, 5, 4, 3, 2, 1]\n"
     ]
    }
   ],
   "source": [
    "# range 응용2\n",
    "a = range(0,10,1)\n",
    "b = range(10)\n",
    "print(list(a))\n",
    "print(list(b))\n",
    "print(a==b)\n",
    "print(list(range(4, 20, 2)))\n",
    "print(list(range(10, 0, -1)))"
   ]
  },
  {
   "cell_type": "markdown",
   "id": "9d5ce71a-6aed-4dda-862e-c507ad404079",
   "metadata": {},
   "source": [
    "### for 과 range 함수"
   ]
  },
  {
   "cell_type": "code",
   "execution_count": 15,
   "id": "72dc865c-9506-49c9-a98a-7e62e2b4be54",
   "metadata": {},
   "outputs": [
    {
     "name": "stdout",
     "output_type": "stream",
     "text": [
      "range(0, 10)\n",
      "[0, 1, 2, 3, 4, 5, 6, 7, 8, 9]\n",
      "(0, 1, 2, 3, 4, 5, 6, 7, 8, 9)\n",
      "{0, 1, 2, 3, 4, 5, 6, 7, 8, 9}\n"
     ]
    }
   ],
   "source": [
    "a = range(10) # 0 <= a < 10, ex) js 경우 for(let i = 0; i < 10; i++)\n",
    "print(a)\n",
    "print(list(a))\n",
    "print(tuple(a))\n",
    "print(set(a))"
   ]
  },
  {
   "cell_type": "markdown",
   "id": "29bc93f0-4bfe-4910-a48f-1d4adef19d7c",
   "metadata": {},
   "source": [
    "#### range 함수의 예시 보기"
   ]
  },
  {
   "cell_type": "code",
   "execution_count": 18,
   "id": "0582f925-4a00-40ad-a212-cc2634d0e667",
   "metadata": {},
   "outputs": [
    {
     "name": "stdout",
     "output_type": "stream",
     "text": [
      "55\n"
     ]
    }
   ],
   "source": [
    "add = 0\n",
    "for i in range(1,11):\n",
    "    add = add + i\n",
    "print(add)"
   ]
  },
  {
   "cell_type": "code",
   "execution_count": 58,
   "id": "9afb2e16-e2f0-4617-928c-6f1d0d7f90f4",
   "metadata": {},
   "outputs": [
    {
     "name": "stdout",
     "output_type": "stream",
     "text": [
      "1 90\n",
      "2 25\n",
      "3 67\n",
      "4 45\n",
      "5 80\n"
     ]
    }
   ],
   "source": [
    "# range 응용3 (index 와 value 구하기)\n",
    "marks = [90, 25, 67, 45, 80]\n",
    "for i , v in enumerate(marks, 1):\n",
    "    print(i, v)"
   ]
  },
  {
   "cell_type": "markdown",
   "id": "3af8d873-cdf4-4eba-8784-b0030b64bc40",
   "metadata": {},
   "source": [
    "#### for와 range를 이용한 구구단"
   ]
  },
  {
   "cell_type": "code",
   "execution_count": 96,
   "id": "94c4853c-8574-472d-96f9-f0330b445898",
   "metadata": {},
   "outputs": [
    {
     "name": "stdout",
     "output_type": "stream",
     "text": [
      "\n",
      "====2단====\n",
      "2 x 1 = 2\n",
      "2 x 2 = 4\n",
      "2 x 3 = 6\n",
      "2 x 4 = 8\n",
      "2 x 5 = 10\n",
      "2 x 6 = 12\n",
      "2 x 7 = 14\n",
      "2 x 8 = 16\n",
      "2 x 9 = 18\n",
      "          \n",
      "\n",
      "====3단====\n",
      "3 x 1 = 3\n",
      "3 x 2 = 6\n",
      "3 x 3 = 9\n",
      "3 x 4 = 12\n",
      "3 x 5 = 15\n",
      "3 x 6 = 18\n",
      "3 x 7 = 21\n",
      "3 x 8 = 24\n",
      "3 x 9 = 27\n",
      "          \n",
      "\n",
      "====4단====\n",
      "4 x 1 = 4\n",
      "4 x 2 = 8\n",
      "4 x 3 = 12\n",
      "4 x 4 = 16\n",
      "4 x 5 = 20\n",
      "4 x 6 = 24\n",
      "4 x 7 = 28\n",
      "4 x 8 = 32\n",
      "4 x 9 = 36\n",
      "          \n",
      "\n",
      "====5단====\n",
      "5 x 1 = 5\n",
      "5 x 2 = 10\n",
      "5 x 3 = 15\n",
      "5 x 4 = 20\n",
      "5 x 5 = 25\n",
      "5 x 6 = 30\n",
      "5 x 7 = 35\n",
      "5 x 8 = 40\n",
      "5 x 9 = 45\n",
      "          \n",
      "\n",
      "====6단====\n",
      "6 x 1 = 6\n",
      "6 x 2 = 12\n",
      "6 x 3 = 18\n",
      "6 x 4 = 24\n",
      "6 x 5 = 30\n",
      "6 x 6 = 36\n",
      "6 x 7 = 42\n",
      "6 x 8 = 48\n",
      "6 x 9 = 54\n",
      "          \n",
      "\n",
      "====7단====\n",
      "7 x 1 = 7\n",
      "7 x 2 = 14\n",
      "7 x 3 = 21\n",
      "7 x 4 = 28\n",
      "7 x 5 = 35\n",
      "7 x 6 = 42\n",
      "7 x 7 = 49\n",
      "7 x 8 = 56\n",
      "7 x 9 = 63\n",
      "          \n",
      "\n",
      "====8단====\n",
      "8 x 1 = 8\n",
      "8 x 2 = 16\n",
      "8 x 3 = 24\n",
      "8 x 4 = 32\n",
      "8 x 5 = 40\n",
      "8 x 6 = 48\n",
      "8 x 7 = 56\n",
      "8 x 8 = 64\n",
      "8 x 9 = 72\n",
      "          \n",
      "\n",
      "====9단====\n",
      "9 x 1 = 9\n",
      "9 x 2 = 18\n",
      "9 x 3 = 27\n",
      "9 x 4 = 36\n",
      "9 x 5 = 45\n",
      "9 x 6 = 54\n",
      "9 x 7 = 63\n",
      "9 x 8 = 72\n",
      "9 x 9 = 81\n",
      "          \n"
     ]
    }
   ],
   "source": [
    "for a in range(2,10):\n",
    "    print(\"\")\n",
    "    print(f'{str(a) + \"단\":=^10}')\n",
    "    for b in range(1,10):\n",
    "        print('%d x %d = %d' % (a, b, a*b))\n",
    "    print('{0:10}'.format(''))"
   ]
  },
  {
   "cell_type": "markdown",
   "id": "8f3ec87d-5830-404e-8cd8-22dc313fecf4",
   "metadata": {},
   "source": [
    "### 리스트 컴프리헨션"
   ]
  },
  {
   "cell_type": "code",
   "execution_count": 97,
   "id": "1fb1ebc8-4b16-444d-b0c3-670952716ca5",
   "metadata": {},
   "outputs": [
    {
     "name": "stdout",
     "output_type": "stream",
     "text": [
      "[3, 6, 9, 12, 15]\n"
     ]
    }
   ],
   "source": [
    "# 일반적\n",
    "a = [1,2,3,4,5]\n",
    "result = []\n",
    "for num in a:\n",
    "    result.append(num * 3)\n",
    "print(result)"
   ]
  },
  {
   "cell_type": "code",
   "execution_count": 99,
   "id": "d21eb014-2def-4f93-b807-f01857f9db26",
   "metadata": {},
   "outputs": [
    {
     "name": "stdout",
     "output_type": "stream",
     "text": [
      "[3, 6, 9, 12, 15]\n"
     ]
    }
   ],
   "source": [
    "# 리스트 컴프리헨션\n",
    "a = [1,2,3,4,5]\n",
    "result = [num*3 for num in a]\n",
    "print(result)"
   ]
  },
  {
   "cell_type": "code",
   "execution_count": 100,
   "id": "47589f6d-348d-4566-b56c-1bea4323c001",
   "metadata": {},
   "outputs": [
    {
     "name": "stdout",
     "output_type": "stream",
     "text": [
      "[6, 12]\n"
     ]
    }
   ],
   "source": [
    "# 리스트 컴프리헨션2(if와 함께 사용할때)\n",
    "a = [1,2,3,4,5]\n",
    "result = [num*3 for num in a if num%2 == 0]\n",
    "print(result)"
   ]
  },
  {
   "cell_type": "code",
   "execution_count": 102,
   "id": "c77010c7-7174-4230-a0e1-7b6f77cafac1",
   "metadata": {},
   "outputs": [
    {
     "name": "stdout",
     "output_type": "stream",
     "text": [
      "[2, 4, 6, 8, 10, 12, 14, 16, 18, 3, 6, 9, 12, 15, 18, 21, 24, 27, 4, 8, 12, 16, 20, 24, 28, 32, 36, 5, 10, 15, 20, 25, 30, 35, 40, 45, 6, 12, 18, 24, 30, 36, 42, 48, 54, 7, 14, 21, 28, 35, 42, 49, 56, 63, 8, 16, 24, 32, 40, 48, 56, 64, 72, 9, 18, 27, 36, 45, 54, 63, 72, 81]\n"
     ]
    }
   ],
   "source": [
    "# 구구단의 값을 넣기\n",
    "result = [ i*j for i in range(2,10)\n",
    "               for j in range(1,10)]\n",
    "\n",
    "   # print(f'{str(i) + \"단\":=^10} # 다른 표현1\n",
    "   # print('{0:10}'.format('')) # 다른 표현3\n",
    "print(result)\n",
    "   # print('%d x %d = %d' % (result[0], result[1], result)) # 다른 표현2"
   ]
  },
  {
   "cell_type": "markdown",
   "id": "664be4c7-3741-4a1d-b863-480ca270920b",
   "metadata": {},
   "source": [
    "### 해결해보기"
   ]
  },
  {
   "cell_type": "raw",
   "id": "4b6fdc08-139b-409f-8f71-0a8b1234fedc",
   "metadata": {},
   "source": [
    "1.자판기를 만들어보기\n",
    "2.a) 물건 값을 입력받고, b) 지불할 값을 입력하면\n",
    "3.거스름돈을 계산해준다. 단, 1000원짜리 몇 장 500원짜리 몇 개 등으로 잔돈을 구비하여 출력한다.\n",
    "4.예) 물건 값: 3200원 / 지불한 돈: 10000원 미만\n",
    "  거스름돈 6800원이\n",
    "           10000원 x 0개\n",
    "            5000원 x 1개\n",
    "            1000원 x 1개\n",
    "             500원 x 1개\n",
    "             100원 x 3개\n",
    "              50원 x 0개...\n",
    "    등의 표현으로 출력되게 하라."
   ]
  },
  {
   "cell_type": "code",
   "execution_count": 132,
   "id": "8a2e4e57-5f54-4822-8e31-b0ba29eef052",
   "metadata": {},
   "outputs": [
    {
     "ename": "SyntaxError",
     "evalue": "invalid syntax (1501936693.py, line 10)",
     "output_type": "error",
     "traceback": [
      "\u001b[0;36m  Cell \u001b[0;32mIn[132], line 10\u001b[0;36m\u001b[0m\n\u001b[0;31m    result = [for num in a]\u001b[0m\n\u001b[0m              ^\u001b[0m\n\u001b[0;31mSyntaxError\u001b[0m\u001b[0;31m:\u001b[0m invalid syntax\n"
     ]
    }
   ],
   "source": [
    "price = int(input(\"구매할 물건의 값은 얼마입니까?\"))\n",
    "pay = int(input(\"얼마를 지불하시겠습니까?\"))\n",
    "a = [10000, 5000, 1000, 500, 100, 50]\n",
    "if pay >= price:\n",
    "    print('잔액은 %d원 입니다.' % (pay - price))\n",
    "\n",
    "else:\n",
    "    print(\"지불할 금액이 부족합니다.\")\n",
    "    \n",
    "if price >= num:\n",
    "    price = price - num\n",
    "print(result)"
   ]
  },
  {
   "cell_type": "code",
   "execution_count": 148,
   "id": "5b6eda1e-3bfb-419c-bd96-0cd4038a9083",
   "metadata": {},
   "outputs": [
    {
     "name": "stdin",
     "output_type": "stream",
     "text": [
      "돈 내 1\n"
     ]
    },
    {
     "name": "stdout",
     "output_type": "stream",
     "text": [
      "[2.0, 4.0, 20.0, 40.0, 200.0, 400.0]\n"
     ]
    }
   ],
   "source": [
    "price = int(input(\"돈 내\"))\n",
    "marks = [10000, 5000, 1000, 500, 100, 50]\n",
    "if\n",
    "print(result)"
   ]
  },
  {
   "cell_type": "markdown",
   "id": "efb6b52a-1879-46ca-85aa-e36910168865",
   "metadata": {},
   "source": [
    "# 파이썬 입출력"
   ]
  },
  {
   "cell_type": "markdown",
   "id": "c038562f-acf2-4ca6-a2eb-8791a97f84bf",
   "metadata": {},
   "source": [
    "## 함수"
   ]
  },
  {
   "cell_type": "markdown",
   "id": "74c37cd9-cdcc-4dd6-b2c7-9abd3b9e1f33",
   "metadata": {},
   "source": [
    "### 파이썬 함수"
   ]
  },
  {
   "cell_type": "code",
   "execution_count": 7,
   "id": "bc1f8a71-e3cc-49ff-8dd7-f6a6d40334ac",
   "metadata": {},
   "outputs": [],
   "source": [
    "def add(a,b):\n",
    "    print('입력하신{0}과 {1}을 더하면 {2}입니다.'.format(a,b,a+b))\n",
    "    return a+b"
   ]
  },
  {
   "cell_type": "code",
   "execution_count": 8,
   "id": "0f2fe1fb-8fc1-45d8-aad8-e8b19b8fe28d",
   "metadata": {},
   "outputs": [
    {
     "name": "stdout",
     "output_type": "stream",
     "text": [
      "입력하신3과 4을 더하면 7입니다.\n",
      "입력하신3과 4을 더하면 7입니다.\n",
      "7\n"
     ]
    }
   ],
   "source": [
    "add(3,4)\n",
    "c = add(3,4)\n",
    "print(c)"
   ]
  },
  {
   "cell_type": "markdown",
   "id": "71953745-de35-421d-b936-c33569cd7abc",
   "metadata": {},
   "source": [
    "### 매개변수와 인수\n",
    "- 매개변수(parameter)와 인수(arguments)의 혼용"
   ]
  },
  {
   "attachments": {
    "ea4484da-dd4d-45c2-97e2-59625dd3b879.png": {
     "image/png": "[encoded data removed]"
    }
   },
   "cell_type": "markdown",
   "id": "5c5dadb5-2f2f-4b77-b350-b8bdfedfa40c",
   "metadata": {},
   "source": [
    "### 입력값과 리턴값에 따른 함수의 형태\n",
    "![image.png](attachment:ea4484da-dd4d-45c2-97e2-59625dd3b879.png)"
   ]
  },
  {
   "cell_type": "markdown",
   "id": "6dc9783d-cb63-44af-aa2e-a3c4ac461f08",
   "metadata": {},
   "source": [
    "#### 일반적인 함수"
   ]
  },
  {
   "cell_type": "code",
   "execution_count": 10,
   "id": "b0bdf010-411a-4058-ac14-a78dce9e8d7e",
   "metadata": {},
   "outputs": [],
   "source": [
    "def mul(a,b):\n",
    "    return a*b"
   ]
  },
  {
   "cell_type": "markdown",
   "id": "a9da4bba-1bc5-4d74-b599-9b803de02eb9",
   "metadata": {},
   "source": [
    "#### 입력값이 없는 함수"
   ]
  },
  {
   "cell_type": "code",
   "execution_count": 11,
   "id": "c2bc0e37-235f-4996-8005-3109c2da7160",
   "metadata": {},
   "outputs": [],
   "source": [
    "def say():\n",
    "    print('하이라고 말할겁니다.')\n",
    "    return 'Hi'"
   ]
  },
  {
   "cell_type": "code",
   "execution_count": 19,
   "id": "a6cb6214-dcb9-457c-8b5f-405f5880d834",
   "metadata": {},
   "outputs": [],
   "source": [
    "a = say #함수의 복사이며, 실행은 안됨"
   ]
  },
  {
   "cell_type": "code",
   "execution_count": 18,
   "id": "1ad06e33-50cf-4ad4-9aaf-7bf23f45d49f",
   "metadata": {},
   "outputs": [
    {
     "name": "stdout",
     "output_type": "stream",
     "text": [
      "<function say at 0xf17553e8>\n",
      "하이라고 말할겁니다.\n",
      "Hi\n"
     ]
    }
   ],
   "source": [
    "print(a)\n",
    "print(a())"
   ]
  },
  {
   "cell_type": "markdown",
   "id": "4ed8d0ea-3de6-4764-9b45-22de8b233ac4",
   "metadata": {},
   "source": [
    "#### 리턴값이 없는 함수"
   ]
  },
  {
   "cell_type": "code",
   "execution_count": 20,
   "id": "e53f3159-6067-4400-bf01-db523f5f9fc5",
   "metadata": {},
   "outputs": [],
   "source": [
    "def add(a, b):\n",
    "    print(\"%d, %d의 합은 %d입니다.\" % (a, b, a+b))"
   ]
  },
  {
   "cell_type": "code",
   "execution_count": 21,
   "id": "85049fa3-78ca-4e61-9e8f-fa13c29e0ba8",
   "metadata": {},
   "outputs": [
    {
     "name": "stdout",
     "output_type": "stream",
     "text": [
      "3, 4의 합은 7입니다.\n"
     ]
    }
   ],
   "source": [
    "a = add(3,4)"
   ]
  },
  {
   "cell_type": "code",
   "execution_count": 22,
   "id": "6842b0dc-be39-4bff-8f39-cce808a80900",
   "metadata": {},
   "outputs": [
    {
     "name": "stdout",
     "output_type": "stream",
     "text": [
      "None\n"
     ]
    }
   ],
   "source": [
    "print(a)"
   ]
  },
  {
   "cell_type": "markdown",
   "id": "95ac8663-7fac-4e7a-95fa-2e5f561365da",
   "metadata": {},
   "source": [
    "#### 입력값도, 리턴값도 없는 함수"
   ]
  },
  {
   "cell_type": "code",
   "execution_count": 23,
   "id": "56f7b5db-1a63-41ad-a8f4-b99217ba3517",
   "metadata": {},
   "outputs": [],
   "source": [
    "def say():\n",
    "    print('hi')\n",
    "    #return 없음"
   ]
  },
  {
   "cell_type": "code",
   "execution_count": 24,
   "id": "aa9be80d-0de5-4beb-907b-93abad7e0191",
   "metadata": {},
   "outputs": [
    {
     "name": "stdout",
     "output_type": "stream",
     "text": [
      "hi\n"
     ]
    }
   ],
   "source": [
    "say()"
   ]
  },
  {
   "cell_type": "markdown",
   "id": "bbec293f-6397-404b-b6be-2d19136c67df",
   "metadata": {},
   "source": [
    "### 매개변수를 지정하여 호출하기(초기값)"
   ]
  },
  {
   "cell_type": "code",
   "execution_count": 29,
   "id": "d791c74e-e790-45be-b7fe-a5d3162aae77",
   "metadata": {},
   "outputs": [],
   "source": [
    "def sub(a=7,b=3): #순서와 상관없음(b=5, a=3)\n",
    "    return a - b"
   ]
  },
  {
   "cell_type": "code",
   "execution_count": 30,
   "id": "11347e27-e572-4a36-8291-43243d2febfb",
   "metadata": {},
   "outputs": [
    {
     "name": "stdout",
     "output_type": "stream",
     "text": [
      "4\n"
     ]
    }
   ],
   "source": [
    "result = sub()\n",
    "print(result)"
   ]
  },
  {
   "cell_type": "markdown",
   "id": "8a6f9de8-96ea-4f4c-ae50-c0b5fdb4e67f",
   "metadata": {},
   "source": [
    "### 입력값이 몇 개가 될 지 모를때"
   ]
  },
  {
   "cell_type": "markdown",
   "id": "82f3bf10-f8b0-425f-b687-1778342b338d",
   "metadata": {},
   "source": [
    "#### 여러개의 입력값을 받는 함수 만들기"
   ]
  },
  {
   "cell_type": "code",
   "execution_count": 58,
   "id": "03508e89-8be8-49c6-af39-b28093d17575",
   "metadata": {},
   "outputs": [],
   "source": [
    "def add_mul(choice, *args):\n",
    "    result = 0\n",
    "    print(type(args),args)\n",
    "    for i in args:\n",
    "        result += i\n",
    "    return result"
   ]
  },
  {
   "cell_type": "code",
   "execution_count": 59,
   "id": "aa712f2f-74c5-4191-bd4e-9e31187e3f7c",
   "metadata": {},
   "outputs": [
    {
     "name": "stdout",
     "output_type": "stream",
     "text": [
      "<class 'tuple'> (2, 3, 4, 5, 6, 7, 8, 9, 10)\n",
      "54\n"
     ]
    }
   ],
   "source": [
    "\n",
    "result = add_mul(1,2,3,4,5,6,7,8,9,10)\n",
    "print(result)"
   ]
  },
  {
   "cell_type": "code",
   "execution_count": 60,
   "id": "140a9558-945b-4f52-9c70-339995de0b7b",
   "metadata": {},
   "outputs": [],
   "source": [
    "def add(choice, *args):\n",
    "    if choice == 'add':\n",
    "        result = 0\n",
    "        for i in args:\n",
    "            result += i\n",
    "    elif choice == 'mul':\n",
    "        result = i\n",
    "        for i in args:\n",
    "            result = i\n",
    "    return result"
   ]
  },
  {
   "cell_type": "code",
   "execution_count": 61,
   "id": "60bbfce3-193a-4b3b-931f-0caaed1e1822",
   "metadata": {},
   "outputs": [
    {
     "name": "stdout",
     "output_type": "stream",
     "text": [
      "<class 'tuple'> (1, 2, 3, 4, 5)\n",
      "<class 'tuple'> (1, 2, 3, 4, 5)\n",
      "15\n",
      "15\n"
     ]
    }
   ],
   "source": [
    "result = add_mul('add',1,2,3,4,5)\n",
    "result2 = add_mul('mul',1,2,3,4,5)\n",
    "print(result)\n",
    "print(result2)"
   ]
  },
  {
   "cell_type": "code",
   "execution_count": 62,
   "id": "ac33254c-566d-4fd6-a600-525deaf5945e",
   "metadata": {},
   "outputs": [
    {
     "name": "stdout",
     "output_type": "stream",
     "text": [
      "<class 'tuple'> (1, 2, 3, 4, 5, 6, 7, 8, 9, 0)\n",
      "45\n"
     ]
    }
   ],
   "source": [
    "rp = 1,2,3,4,5,6,7,8,9,0\n",
    "result3 = add_mul('add', *rp)\n",
    "print(result3)"
   ]
  },
  {
   "cell_type": "markdown",
   "id": "8b962a70-90d7-466e-b3ef-2f71dd583488",
   "metadata": {},
   "source": [
    "- 응용1 변수에 튜플을 담고 매개변수에 * 붙임"
   ]
  },
  {
   "cell_type": "code",
   "execution_count": 65,
   "id": "a66500f4-88ad-40c9-bba5-f6d64be5e959",
   "metadata": {},
   "outputs": [
    {
     "name": "stdout",
     "output_type": "stream",
     "text": [
      "<class 'tuple'> (1, 2, 3, 4, 5, 6, 7, 8, 9, 0)\n",
      "<class 'tuple'> (1, 2, 3, 4, 5, 6, 7, 8, 9, 10)\n",
      "45\n",
      "55\n"
     ]
    }
   ],
   "source": [
    "rp = 1,2,3,4,5,6,7,8,9,0\n",
    "lt = [1,2,3,4,5,6,7,8,9,10]\n",
    "result3 = add_mul('add', *rp)\n",
    "result4 = add_mul('add', *lt)\n",
    "print(result3)\n",
    "print(result4)"
   ]
  },
  {
   "cell_type": "markdown",
   "id": "af2e2708-0323-49d3-983f-e2749170d7ac",
   "metadata": {},
   "source": [
    "- 응용2 args의 요소에 접근하기"
   ]
  },
  {
   "cell_type": "code",
   "execution_count": 72,
   "id": "7c6039f8-6ec3-4d1e-859b-f50ee90a89f1",
   "metadata": {},
   "outputs": [],
   "source": [
    "def add_new(*args):\n",
    "    if args[0][0] == 'add':\n",
    "        result = 0\n",
    "        arr = args [0][1:]\n",
    "        for i in arr:\n",
    "            result += i\n",
    "    elif args[0][0] == 'mul':\n",
    "        result = i\n",
    "        for i in arr:\n",
    "            result *= i \n",
    "    return result"
   ]
  },
  {
   "cell_type": "code",
   "execution_count": 73,
   "id": "9793aca5-13eb-4857-a70f-111644e85049",
   "metadata": {},
   "outputs": [
    {
     "name": "stdout",
     "output_type": "stream",
     "text": [
      "('add', 1, 2, 3, 4, 5, 6, 7, 8, 9)\n"
     ]
    },
    {
     "data": {
      "text/plain": [
       "45"
      ]
     },
     "execution_count": 73,
     "metadata": {},
     "output_type": "execute_result"
    }
   ],
   "source": [
    "ar = 'add',1,2,3,4,5,6,7,8,9\n",
    "print(ar)\n",
    "add_new(ar)\n",
    "# add_new('add',1,2,3)"
   ]
  },
  {
   "cell_type": "markdown",
   "id": "e5baaf58-806d-4b75-9ad0-05e9138b31c8",
   "metadata": {},
   "source": [
    "#### 키워드 매개변수.kwangs\n",
    "- 키워드 매개변수를 사용할 때는 매개변수 앞에 별 2개(*)를 붙인다."
   ]
  },
  {
   "cell_type": "code",
   "execution_count": 80,
   "id": "ce81d658-5b8a-4579-adfa-679d34a5d9b6",
   "metadata": {},
   "outputs": [
    {
     "name": "stdout",
     "output_type": "stream",
     "text": [
      "{'a': 1, 'b': 2}로 딕셔너리 형태로 출력\n",
      "{'a': 1, 'b': 2}\n"
     ]
    }
   ],
   "source": [
    "def dic_maker(**kwangs):\n",
    "    print(f'{kwangs}로 딕셔너리 형태로 출력')\n",
    "    return kwangs\n",
    "print(dic_maker(a=1,b=2))"
   ]
  },
  {
   "cell_type": "markdown",
   "id": "9a5e4828-b315-4df9-9e62-e633aebe4104",
   "metadata": {},
   "source": [
    "### 함수의 리턴값은 언제나 하나이다."
   ]
  },
  {
   "cell_type": "code",
   "execution_count": 82,
   "id": "66ea2a84-7383-4dfc-bcdb-d6ba0d6f0863",
   "metadata": {},
   "outputs": [],
   "source": [
    "def add2(a,b):\n",
    "    print(f'{a+b},{a*b}의 결과')\n",
    "    return a+b, a*b"
   ]
  },
  {
   "cell_type": "code",
   "execution_count": 85,
   "id": "f4845366-0580-44e7-88eb-be6f9e112eeb",
   "metadata": {},
   "outputs": [
    {
     "name": "stdout",
     "output_type": "stream",
     "text": [
      "7,12의 결과\n",
      "(7, 12) <class 'tuple'>\n"
     ]
    }
   ],
   "source": [
    "result = add2(3,4)\n",
    "print(result, type(result))"
   ]
  },
  {
   "cell_type": "code",
   "execution_count": 94,
   "id": "82f25337-c035-47c1-9252-1e09e40007f5",
   "metadata": {},
   "outputs": [],
   "source": [
    "def add3(a,b):\n",
    "    if a == 0:return \n",
    "    print(f'1:{a+b},{a*b}의 결과')\n",
    "    return a+b\n",
    "    print(f'2:{a+b}의 결과')\n",
    "    return a*b\n",
    "    print(f'3:{a*b}의 결과')"
   ]
  },
  {
   "cell_type": "code",
   "execution_count": 96,
   "id": "4250ced9-0ee3-4fd3-a4f8-16be0659679a",
   "metadata": {},
   "outputs": [
    {
     "name": "stdout",
     "output_type": "stream",
     "text": [
      "1:7,12의 결과\n",
      "7\n",
      "None\n"
     ]
    }
   ],
   "source": [
    "result = add3(3,4)\n",
    "print(result)\n",
    "result2 = add3(0,1234)\n",
    "print(result2)"
   ]
  },
  {
   "cell_type": "markdown",
   "id": "4a0def2f-9443-40a5-a710-9d3ca2678f6e",
   "metadata": {},
   "source": [
    "### 매개변수에 초기값 미리 설정하기"
   ]
  },
  {
   "cell_type": "code",
   "execution_count": 97,
   "id": "bb450c43-82c5-4126-bbdf-9a27bca66fee",
   "metadata": {},
   "outputs": [],
   "source": [
    "def say_myself(name, age, man=True):\n",
    "    print(\"나의 이름은 %s입니다.\" % name)\n",
    "    print(\"나이는 %d입니다.\" % age)\n",
    "    if man:\n",
    "        print(\"남자입니다.\")\n",
    "    else:\n",
    "        print(\"여자입니다.\")"
   ]
  },
  {
   "cell_type": "code",
   "execution_count": 98,
   "id": "3351119a-7212-4eab-855d-c0804632a303",
   "metadata": {},
   "outputs": [
    {
     "name": "stdout",
     "output_type": "stream",
     "text": [
      "나의 이름은 박응용입니다.\n",
      "나이는 27입니다.\n",
      "남자입니다.\n",
      "나의 이름은 박응용입니다.\n",
      "나이는 27입니다.\n",
      "남자입니다.\n"
     ]
    }
   ],
   "source": [
    "say_myself(\"박응용\", 27)\n",
    "say_myself(\"박응용\", 27, True)"
   ]
  },
  {
   "cell_type": "markdown",
   "id": "a7ac1842-2481-4a85-82a1-e6b31854cd6c",
   "metadata": {},
   "source": [
    "### 함수 안에서 선언한 변수의 효력 범위"
   ]
  },
  {
   "cell_type": "code",
   "execution_count": 99,
   "id": "0463779c-0582-4860-a5b1-883d2a91b286",
   "metadata": {},
   "outputs": [
    {
     "name": "stdout",
     "output_type": "stream",
     "text": [
      "1\n"
     ]
    }
   ],
   "source": [
    "a = 1\n",
    "def vartest(a):\n",
    "    a = a + 1\n",
    "vartest(a)\n",
    "print(a)"
   ]
  },
  {
   "cell_type": "markdown",
   "id": "f1ec38de-cf25-4d23-ab87-1a1c1c17413b",
   "metadata": {},
   "source": [
    "### 함수 안에서 함수 밖의 변수를 변경하는 방법"
   ]
  },
  {
   "cell_type": "markdown",
   "id": "40c62ac8-05dc-4200-850d-fa01485c8197",
   "metadata": {},
   "source": [
    "#### 1) return 사용하기"
   ]
  },
  {
   "cell_type": "code",
   "execution_count": 100,
   "id": "e63f36e6-0768-4f14-9ae3-72018f639ebd",
   "metadata": {},
   "outputs": [
    {
     "name": "stdout",
     "output_type": "stream",
     "text": [
      "2\n"
     ]
    }
   ],
   "source": [
    "a = 1\n",
    "def vartest(a):\n",
    "    a = a + 1\n",
    "    return a\n",
    "a = vartest(a)\n",
    "print(a)"
   ]
  },
  {
   "cell_type": "markdown",
   "id": "69fa65c9-06ef-49ab-8626-c298f9dc98d6",
   "metadata": {},
   "source": [
    "#### 2) global 명령어 사용하기"
   ]
  },
  {
   "cell_type": "code",
   "execution_count": 105,
   "id": "38818e45-652a-4cfe-9b6e-67cc4c97dd9d",
   "metadata": {},
   "outputs": [
    {
     "name": "stdout",
     "output_type": "stream",
     "text": [
      "2\n",
      "2\n"
     ]
    }
   ],
   "source": [
    "a = 1\n",
    "def vartest():\n",
    "    '''global함수는 자제하고 return 값으로 대체할 것'''\n",
    "    global a\n",
    "    a = a + 1\n",
    "    print(a)\n",
    "vartest()\n",
    "print(a)"
   ]
  },
  {
   "cell_type": "code",
   "execution_count": 106,
   "id": "abb49906-72cd-4fec-a0d9-b632675378b4",
   "metadata": {},
   "outputs": [
    {
     "data": {
      "text/plain": [
       "'global함수는 자제하고 return 값으로 대체할 것'"
      ]
     },
     "execution_count": 106,
     "metadata": {},
     "output_type": "execute_result"
    }
   ],
   "source": [
    "vartest.__doc__"
   ]
  },
  {
   "cell_type": "markdown",
   "id": "797bfa5b-6415-426b-b127-8784c42af72a",
   "metadata": {},
   "source": [
    "### lambda 예약어\n",
    "- 함수_이름 = lambda 매개변수1, 매개변수2, _ : 매개변수를_이용한_표현식"
   ]
  },
  {
   "cell_type": "code",
   "execution_count": 102,
   "id": "b5ab0f19-2d8c-457c-8817-989cd8e1acfb",
   "metadata": {},
   "outputs": [
    {
     "name": "stdout",
     "output_type": "stream",
     "text": [
      "7\n"
     ]
    }
   ],
   "source": [
    "add = lambda a, b: a+b\n",
    "result = add(3,4)\n",
    "print(result)"
   ]
  },
  {
   "attachments": {
    "1e0d93ae-e80d-462e-8530-02c3f0465be5.png": {
     "image/png": "[encoded data removed]"
    }
   },
   "cell_type": "markdown",
   "id": "b7c1a82b-4713-4414-bec8-bf573447942c",
   "metadata": {},
   "source": [
    "## 사용자 입출력\n",
    "![image.png](attachment:1e0d93ae-e80d-462e-8530-02c3f0465be5.png)"
   ]
  },
  {
   "cell_type": "markdown",
   "id": "3a0374e3-a76a-461f-bd1a-2b360b93b2a4",
   "metadata": {},
   "source": [
    "### 사용자 입력 활용하기"
   ]
  },
  {
   "cell_type": "markdown",
   "id": "77d3d7cf-0f3c-4d08-9177-c7380ba312b0",
   "metadata": {},
   "source": [
    "#### input 사용하기\n",
    "- input은 사용자가 키보드로 입력한 모든 것을 문자열로 저장한다."
   ]
  },
  {
   "cell_type": "code",
   "execution_count": 108,
   "id": "7a08ddeb-a2b9-46e2-bd66-f03ced29501e",
   "metadata": {},
   "outputs": [
    {
     "name": "stdin",
     "output_type": "stream",
     "text": [
      "안내문구 12345\n"
     ]
    }
   ],
   "source": [
    "a = input('안내문구') # 숫자를 입력받기 원할때는 int() 사용"
   ]
  },
  {
   "cell_type": "markdown",
   "id": "f95db186-415e-4b89-ae50-c2542644740f",
   "metadata": {},
   "source": [
    "#### 프롬프트를 띄워 사용자 입력받기"
   ]
  },
  {
   "cell_type": "code",
   "execution_count": 111,
   "id": "0f2f4489-b708-4df4-8f44-c8c5ec3c388c",
   "metadata": {},
   "outputs": [
    {
     "name": "stdin",
     "output_type": "stream",
     "text": [
      "숫자를 입력하세요. 123\n"
     ]
    },
    {
     "name": "stdout",
     "output_type": "stream",
     "text": [
      "123 <class 'int'>\n"
     ]
    }
   ],
   "source": [
    "a = int(input('숫자를 입력하세요.')or 1234) \n",
    "print(a,type(a))"
   ]
  },
  {
   "cell_type": "markdown",
   "id": "ae1aaf8a-d477-446a-a7cf-544f08a8df2e",
   "metadata": {},
   "source": [
    "### print 자세히 알기"
   ]
  },
  {
   "cell_type": "markdown",
   "id": "6ade6eb9-2dbd-49f5-baaa-20c59fa30341",
   "metadata": {},
   "source": [
    "#### 큰따옴표로 둘러싸인 문자열은 * 연산과 동일하다."
   ]
  },
  {
   "cell_type": "code",
   "execution_count": 116,
   "id": "c562c85d-a9d8-402c-a567-2ae4a84a4ce0",
   "metadata": {},
   "outputs": [
    {
     "name": "stdout",
     "output_type": "stream",
     "text": [
      "lifeistoo short\n",
      "lifeistoo short\n",
      "life is too short\n"
     ]
    }
   ],
   "source": [
    "print(\"life\" \"is\" \"too short\")\n",
    "print(\"life\"+\"is\"+\"too short\")\n",
    "print(\"life\",\"is\",\"too short\") # , 가 사실상 한 칸 띄워쓰는 효과"
   ]
  },
  {
   "cell_type": "code",
   "execution_count": 125,
   "id": "d3f10cc7-15f0-4d11-82a0-e9c44ae5ff7a",
   "metadata": {},
   "outputs": [
    {
     "name": "stdout",
     "output_type": "stream",
     "text": [
      "0 1 2 3 4 5 6 7 8 9 \n",
      "====================\n",
      "9\r"
     ]
    }
   ],
   "source": [
    "for i in range(10):\n",
    "    print(i, end=\" \") # 띄어쓰기\n",
    "print(f'\\n{\"=\"*20}') # 기본 end 값은 in 기준\n",
    "for j in range(10):\n",
    "    print(i, end=\"\\r\") # 덮어쓰기"
   ]
  },
  {
   "cell_type": "markdown",
   "id": "e925596a-f944-47c7-97e7-20b511a60c5e",
   "metadata": {},
   "source": [
    "## 파일 읽고 쓰기\n",
    "<table>\r\n",
    "<thead>\r\n",
    "<tr>\r\n",
    "<th>파일열기모드</th>\r\n",
    "<th>설명</th>\r\n",
    "</tr>\r\n",
    "</thead>\r\n",
    "<tbody>\r\n",
    "<tr>\r\n",
    "<td>r</td>\r\n",
    "<td>읽기 모드: 파일을 읽기만 할 때 사용한다.</td>\r\n",
    "</tr>\r\n",
    "<tr>\r\n",
    "<td>w</td>\r\n",
    "<td>쓰기 모드: 파일에 내용을 쓸 때 사용한다.</td>\r\n",
    "</tr>\r\n",
    "<tr>\r\n",
    "<td>a</td>\r\n",
    "<td>추가 모드: 파일의 마지막에 새로운 내용을 추가할 때 사용한다.</td>\r\n",
    "</tr\n",
    "<pre>\n",
    "<strong>파일 경로와 슬래시(/)</strong>\r",
    "<p>\n",
    "파이썬 코드에서 파일 경로를 표시할 때 \"C:/doit/새파일.txt\"처럼 슬래시(/)를 사용할 수 있다. 만약 역슬래시(\\)를 사용한다면 \"C:\\\\doit\\\\새파일.txt\"처럼 역슬래시를 2개 사용하거나 r\"C:\\doit\\새파일.txt\"와 같이 문자열 앞에 r 문자(raw string)를 덧붙여 사용해야 한다. 왜냐하면 \"C:\\note\\test.txt\"처럼 파일 경로에 \\n과 같은 이스케이프 문자가 있을 경우, 줄바꿈 문자로 해석되어 의도했던 파일 경로와 달라지기 때문이다</p>.\n",
    "</pre>>\r\n",
    "</tbody>\r\n",
    "</table>"
   ]
  },
  {
   "cell_type": "markdown",
   "id": "05af7cbd-b5aa-4dd4-abfe-685721bc5733",
   "metadata": {},
   "source": [
    "### 파일 생성하기"
   ]
  },
  {
   "cell_type": "code",
   "execution_count": 126,
   "id": "d81902b4-9ff6-4e1d-8e22-4ed35eb44b64",
   "metadata": {},
   "outputs": [],
   "source": [
    "f = open(\"새 파일.txt\",'w')\n",
    "f.close()"
   ]
  },
  {
   "cell_type": "markdown",
   "id": "cc9bc988-fb88-44d5-8280-f78ffc3c770e",
   "metadata": {},
   "source": [
    "### 파일을 쓰기 모드로 열어 내용 쓰기"
   ]
  },
  {
   "cell_type": "code",
   "execution_count": 138,
   "id": "81548608-342d-4612-bc70-eddc11187374",
   "metadata": {},
   "outputs": [
    {
     "name": "stdout",
     "output_type": "stream",
     "text": [
      "1번째 줄 입니다.\n",
      "\n",
      "2번째 줄 입니다.\n",
      "\n",
      "3번째 줄 입니다.\n",
      "\n",
      "4번째 줄 입니다.\n",
      "\n",
      "5번째 줄 입니다.\n",
      "\n",
      "6번째 줄 입니다.\n",
      "\n",
      "7번째 줄 입니다.\n",
      "\n",
      "8번째 줄 입니다.\n",
      "\n",
      "9번째 줄 입니다.\n",
      "\n",
      "10번째 줄 입니다.\n",
      "\n"
     ]
    }
   ],
   "source": [
    "f = open(\"새 파일.txt\",\"w\")\n",
    "for i in range(1,11):\n",
    "    data = f'{i}번째 줄 입니다.\\n'\n",
    "    f.write(data)\n",
    "    print(data)\n",
    "f.close()"
   ]
  },
  {
   "cell_type": "markdown",
   "id": "8c1c3ad8-2871-400b-a9a5-ac1953da2df3",
   "metadata": {},
   "source": [
    "### 파일을 읽는 여러가지 방법"
   ]
  },
  {
   "cell_type": "markdown",
   "id": "1d3af930-2bc7-4dc7-8440-ee94b9b48747",
   "metadata": {},
   "source": [
    "#### readline 함수 이용하기"
   ]
  },
  {
   "cell_type": "code",
   "execution_count": 133,
   "id": "ca6f864e-6f2f-44e2-bebd-c3b894c04915",
   "metadata": {},
   "outputs": [
    {
     "name": "stdout",
     "output_type": "stream",
     "text": [
      "1번째 줄 입니다.\n",
      "\n",
      "2번째 줄 입니다.\n",
      "\n",
      "3번째 줄 입니다.\n",
      "\n",
      "4번째 줄 입니다.\n",
      "\n",
      "5번째 줄 입니다.\n",
      "\n",
      "6번째 줄 입니다.\n",
      "\n",
      "7번째 줄 입니다.\n",
      "\n",
      "8번째 줄 입니다.\n",
      "\n",
      "9번째 줄 입니다.\n",
      "\n",
      "10번째 줄 입니다.\n",
      "\n"
     ]
    }
   ],
   "source": [
    "f = open(\"새 파일.txt\",\"r\")\n",
    "while i:    \n",
    "    line = f.readline()\n",
    "    if not line: break\n",
    "    print(line)\n",
    "f.close()"
   ]
  },
  {
   "cell_type": "markdown",
   "id": "05bb9ce9-9c05-4d53-8de5-d90f46c4e658",
   "metadata": {},
   "source": [
    "#### readlines 항수 이용하기"
   ]
  },
  {
   "cell_type": "code",
   "execution_count": 135,
   "id": "2eba69d4-4faa-41a5-a7c7-b11f666ce671",
   "metadata": {},
   "outputs": [
    {
     "name": "stdout",
     "output_type": "stream",
     "text": [
      "1번째 줄 입니다.\n",
      "2번째 줄 입니다.\n",
      "3번째 줄 입니다.\n",
      "4번째 줄 입니다.\n",
      "5번째 줄 입니다.\n",
      "6번째 줄 입니다.\n",
      "7번째 줄 입니다.\n",
      "8번째 줄 입니다.\n",
      "9번째 줄 입니다.\n",
      "10번째 줄 입니다.\n"
     ]
    },
    {
     "data": {
      "text/plain": [
       "<function TextIOWrapper.close()>"
      ]
     },
     "execution_count": 135,
     "metadata": {},
     "output_type": "execute_result"
    }
   ],
   "source": [
    "f = open(\"새 파일.txt\",\"r\")\n",
    "lines = f.readlines()\n",
    "for line in lines:\n",
    "    line = line.strip()\n",
    "    print(line)a\n",
    "f.close"
   ]
  },
  {
   "cell_type": "markdown",
   "id": "8673edf7-21e7-475e-9161-2ac18be412fc",
   "metadata": {},
   "source": [
    "#### read함수 사용하기"
   ]
  },
  {
   "cell_type": "code",
   "execution_count": 8,
   "id": "4181b87c-7797-43a8-be00-6f3770ac4d04",
   "metadata": {},
   "outputs": [
    {
     "name": "stdout",
     "output_type": "stream",
     "text": [
      "11번째 줄입니다.12번째 줄입니다.13번째 줄입니다.14번째 줄입니다.15번째 줄입니다.16번째 줄입니다.17번째 줄입니다.18번째 줄입니다.19번째 줄입니다.20번째 줄입니다.\n"
     ]
    }
   ],
   "source": [
    "f = open(\"새파일.txt\",'r')\n",
    "data = f.read()\n",
    "print(data)\n",
    "f.close()"
   ]
  },
  {
   "cell_type": "markdown",
   "id": "77260fa1-ddf6-46aa-974e-facb4d1c86ef",
   "metadata": {},
   "source": [
    "#### 파일 객체를 for문과 함께 사용하기"
   ]
  },
  {
   "cell_type": "code",
   "execution_count": 7,
   "id": "bb7fa4e2-2688-4fe3-b4b0-2a38187fca69",
   "metadata": {},
   "outputs": [
    {
     "name": "stdout",
     "output_type": "stream",
     "text": [
      "<_io.TextIOWrapper name='새파일.txt' mode='r' encoding='UTF-8'>\n",
      "11번째 줄입니다.12번째 줄입니다.13번째 줄입니다.14번째 줄입니다.15번째 줄입니다.16번째 줄입니다.17번째 줄입니다.18번째 줄입니다.19번째 줄입니다.20번째 줄입니다.\n"
     ]
    }
   ],
   "source": [
    "f = open(\"새파일.txt\",'r')\n",
    "print(f)\n",
    "for line in f:\n",
    "    print(line)\n",
    "f.close()"
   ]
  },
  {
   "cell_type": "markdown",
   "id": "72ad6b8b-d2ad-4fce-a43a-a22cad3353d8",
   "metadata": {},
   "source": [
    "### 파일에 새로운 내용 추가하기"
   ]
  },
  {
   "cell_type": "code",
   "execution_count": 6,
   "id": "04a5c90e-44c5-4934-9e7e-aedd939a48b6",
   "metadata": {},
   "outputs": [
    {
     "name": "stdout",
     "output_type": "stream",
     "text": [
      "11번째 줄입니다.12번째 줄입니다.13번째 줄입니다.14번째 줄입니다.15번째 줄입니다.16번째 줄입니다.17번째 줄입니다.18번째 줄입니다.19번째 줄입니다.20번째 줄입니다.\n"
     ]
    }
   ],
   "source": [
    "f = open(\"새파일.txt\",\"a\")\n",
    "for i in range(11,21):\n",
    "    data = \"{0}번째 줄입니다.\".format(i)\n",
    "    f.write(data)\n",
    "f.close()\n",
    "fr = open(\"새파일.txt\",\"r\")\n",
    "print(fr.read())\n",
    "fr.close()"
   ]
  },
  {
   "cell_type": "code",
   "execution_count": 25,
   "id": "dff57b75-01cc-440f-960f-1db2316a2a35",
   "metadata": {},
   "outputs": [
    {
     "name": "stdout",
     "output_type": "stream",
     "text": [
      "==============================\n"
     ]
    },
    {
     "ename": "UnsupportedOperation",
     "evalue": "not readable",
     "output_type": "error",
     "traceback": [
      "\u001b[0;31m---------------------------------------------------------------------------\u001b[0m",
      "\u001b[0;31mUnsupportedOperation\u001b[0m                      Traceback (most recent call last)",
      "Cell \u001b[0;32mIn[25], line 9\u001b[0m\n\u001b[1;32m      7\u001b[0m fa\u001b[38;5;241m.\u001b[39mclose()\n\u001b[1;32m      8\u001b[0m fr \u001b[38;5;241m=\u001b[39m \u001b[38;5;28mopen\u001b[39m(\u001b[38;5;124m\"\u001b[39m\u001b[38;5;124m새파일.txt\u001b[39m\u001b[38;5;124m\"\u001b[39m,\u001b[38;5;124m\"\u001b[39m\u001b[38;5;124ma\u001b[39m\u001b[38;5;124m\"\u001b[39m)\n\u001b[0;32m----> 9\u001b[0m \u001b[38;5;28mprint\u001b[39m(\u001b[43mfr\u001b[49m\u001b[38;5;241;43m.\u001b[39;49m\u001b[43mread\u001b[49m\u001b[43m(\u001b[49m\u001b[43m)\u001b[49m)\n\u001b[1;32m     10\u001b[0m fr\u001b[38;5;241m.\u001b[39mclose()\n",
      "\u001b[0;31mUnsupportedOperation\u001b[0m: not readable"
     ]
    }
   ],
   "source": [
    "f = open(\"새파일.txt\",\"a\")\n",
    "print(f'{\"=\"*30}')\n",
    "fa = open(\"새파일.txt\",\"a\")\n",
    "for i in range(11,21):\n",
    "    data = \"{0}번째 줄입니다.\\n\".format(i)\n",
    "    fa.write(data)\n",
    "fa.close()\n",
    "fr = open(\"새파일.txt\",\"a\")\n",
    "print(fr.read())\n",
    "fr.close()"
   ]
  },
  {
   "cell_type": "code",
   "execution_count": 21,
   "id": "368c756e-dddb-4fc9-8d36-46a8dc456ff9",
   "metadata": {},
   "outputs": [
    {
     "name": "stdout",
     "output_type": "stream",
     "text": [
      "<_io.TextIOWrapper name='새파일.txt' mode='r' encoding='UTF-8'>\n",
      "11번째 줄입니다.12번째 줄입니다.13번째 줄입니다.14번째 줄입니다.15번째 줄입니다.16번째 줄입니다.17번째 줄입니다.18번째 줄입니다.19번째 줄입니다.20번째 줄입니다.11번째 줄입니다.\n",
      "\n",
      "12번째 줄입니다.\n",
      "\n",
      "13번째 줄입니다.\n",
      "\n",
      "14번째 줄입니다.\n",
      "\n",
      "15번째 줄입니다.\n",
      "\n",
      "16번째 줄입니다.\n",
      "\n",
      "17번째 줄입니다.\n",
      "\n",
      "18번째 줄입니다.\n",
      "\n",
      "19번째 줄입니다.\n",
      "\n",
      "20번째 줄입니다.\n",
      "\n",
      "11번째 줄입니다.\n",
      "\n",
      "12번째 줄입니다.\n",
      "\n",
      "13번째 줄입니다.\n",
      "\n",
      "14번째 줄입니다.\n",
      "\n",
      "15번째 줄입니다.\n",
      "\n",
      "16번째 줄입니다.\n",
      "\n",
      "17번째 줄입니다.\n",
      "\n",
      "18번째 줄입니다.\n",
      "\n",
      "19번째 줄입니다.\n",
      "\n",
      "20번째 줄입니다.\n",
      "\n",
      "11번째 줄입니다.\n",
      "\n",
      "12번째 줄입니다.\n",
      "\n",
      "13번째 줄입니다.\n",
      "\n",
      "14번째 줄입니다.\n",
      "\n",
      "15번째 줄입니다.\n",
      "\n",
      "16번째 줄입니다.\n",
      "\n",
      "17번째 줄입니다.\n",
      "\n",
      "18번째 줄입니다.\n",
      "\n",
      "19번째 줄입니다.\n",
      "\n",
      "20번째 줄입니다.\n",
      "\n",
      "11번째 줄입니다.\n",
      "\n",
      "12번째 줄입니다.\n",
      "\n",
      "13번째 줄입니다.\n",
      "\n",
      "14번째 줄입니다.\n",
      "\n",
      "15번째 줄입니다.\n",
      "\n",
      "16번째 줄입니다.\n",
      "\n",
      "17번째 줄입니다.\n",
      "\n",
      "18번째 줄입니다.\n",
      "\n",
      "19번째 줄입니다.\n",
      "\n",
      "20번째 줄입니다.\n",
      "\n"
     ]
    }
   ],
   "source": [
    "with open(\"새파일.txt\",'r') as f:\n",
    "# f = open(\"새파일.txt\",'r')\n",
    "   print(f)\n",
    "   for line in f:\n",
    "       print(line)\n",
    "# f.close()"
   ]
  },
  {
   "cell_type": "markdown",
   "id": "a6bdbde7-0a47-4d0f-b9be-5b9e0bfa379c",
   "metadata": {},
   "source": [
    "## 프로그램 입출력"
   ]
  },
  {
   "cell_type": "code",
   "execution_count": 27,
   "id": "53878247-bda7-4dbe-99fd-66aa3b3acf51",
   "metadata": {},
   "outputs": [
    {
     "name": "stdout",
     "output_type": "stream",
     "text": [
      "['/home/pi03/venv/lib/python3.11/site-packages/ipykernel_launcher.py', '-f', '/home/pi03/.local/share/jupyter/runtime/kernel-b723afb5-9324-4a88-926a-de27e5bcc6a6.json']\n"
     ]
    }
   ],
   "source": [
    "import sys\n",
    "args = sys.argv\n",
    "print(args)"
   ]
  },
  {
   "cell_type": "code",
   "execution_count": 34,
   "id": "0b85ff51-d0fe-4378-8167-42a838d4f401",
   "metadata": {},
   "outputs": [
    {
     "name": "stdout",
     "output_type": "stream",
     "text": [
      "생성완료\n"
     ]
    }
   ],
   "source": [
    "with open(\"sys1.py\",\"w\") as f:\n",
    "    data = '''import sys\n",
    "args = sys.argv\n",
    "print(args)\n",
    "for i in args:\n",
    "    print(i)'''\n",
    "    f.write(data)\n",
    "print('생성완료')"
   ]
  },
  {
   "cell_type": "code",
   "execution_count": 35,
   "id": "99b362e1-0dfa-4a28-9946-07584df7ec45",
   "metadata": {},
   "outputs": [
    {
     "name": "stdout",
     "output_type": "stream",
     "text": [
      "['sys1.py', 'aa', 'bb', 'cc']\n",
      "sys1.py\n",
      "aa\n",
      "bb\n",
      "cc\n"
     ]
    }
   ],
   "source": [
    "!python sys1.py aa bb cc"
   ]
  },
  {
   "cell_type": "code",
   "execution_count": 37,
   "id": "0c8465f3-909c-492e-8c91-13568daf144f",
   "metadata": {},
   "outputs": [
    {
     "name": "stdout",
     "output_type": "stream",
     "text": [
      "생성완료\n"
     ]
    }
   ],
   "source": [
    "with open(\"sys2.py\",\"w\") as f:\n",
    "    data = '''import sys\n",
    "args = sys.argv\n",
    "print(args)\n",
    "for i in args:\n",
    "    print(i.upper(), end=' ')\n",
    "'''\n",
    "    f.write(data)\n",
    "print('생성완료')"
   ]
  },
  {
   "cell_type": "code",
   "execution_count": 38,
   "id": "ccc81881-854b-4223-bf15-9efc6b9cc4ec",
   "metadata": {},
   "outputs": [
    {
     "name": "stdout",
     "output_type": "stream",
     "text": [
      "['sys2.py', 'life', 'is', 'too', 'short,', 'you', 'need', 'python!']\n",
      "SYS2.PY LIFE IS TOO SHORT, YOU NEED PYTHON! "
     ]
    }
   ],
   "source": [
    "!python sys2.py life is too short, you need python!"
   ]
  },
  {
   "cell_type": "markdown",
   "id": "e4aa3ad6-35b2-4576-a561-56d0827f0551",
   "metadata": {},
   "source": [
    "# 파이썬의 확장"
   ]
  },
  {
   "cell_type": "markdown",
   "id": "4a68c7f1-5f61-493f-8784-49a5c41d343e",
   "metadata": {},
   "source": [
    "## 클래스"
   ]
  },
  {
   "cell_type": "markdown",
   "id": "7749a1a2-a5bf-4bc0-9bf3-dd187128f156",
   "metadata": {},
   "source": [
    "### 클래스와 객체\n",
    "- 과자틀 = 클래스\n",
    "- 과자틀로 찍어낸 과자 = 객체"
   ]
  },
  {
   "cell_type": "markdown",
   "id": "8c6a1121-e8a1-477d-8612-9727223804a3",
   "metadata": {},
   "source": [
    "<fieldset><legend>점프 투 파이썬</legend>\n",
    "<strong>객체와 인스턴스의 차이</strong><p></p>\n",
    "<p>클래스로 만든 객체를 ‘인스턴스’라고도 한다. 그렇다면 객체와 인스턴스의 차이는 무엇일까? 이렇게 생각해 보자. <code>a = Cookie()</code>로 만든 a는 객체이다. 그리고 a 객체는 Cookie의 인스턴스이다. 즉, 인스턴스라는 말은 특정 객체(a)가 어떤 클래스(Cookie)의 객체인지를 관계 위주로 설명할 때 사용한다. ‘a는 인스턴스’보다 ‘a는 객체’라는 표현이 어울리며 ‘a는 Cookie의 객체’보다 ‘a는 Cookie의 인스턴스’라는 표현이 훨씬 잘 어울린다.\n",
    "</p></fieldset>"
   ]
  },
  {
   "cell_type": "code",
   "execution_count": 42,
   "id": "1cd62fa7-c014-4130-9d74-c5084b3b27a6",
   "metadata": {},
   "outputs": [],
   "source": [
    "class Cookie:\n",
    "    pass"
   ]
  },
  {
   "attachments": {},
   "cell_type": "markdown",
   "id": "5f55324f-9f42-4ed3-975c-2943f65d5a64",
   "metadata": {},
   "source": [
    "### 사칙연산 클래스 만들기\n"
   ]
  },
  {
   "attachments": {
    "5a0d3191-7be6-472d-a33f-b41f20dfbc95.png": {
     "image/png": "[encoded data removed]"
    }
   },
   "cell_type": "markdown",
   "id": "2ad5daa5-ae07-4c50-bb9b-09cf79cce1a7",
   "metadata": {},
   "source": [
    "#### 어떻게 만들지 먼저 구상하기\n",
    "![image.png](attachment:5a0d3191-7be6-472d-a33f-b41f20dfbc95.png)"
   ]
  },
  {
   "cell_type": "markdown",
   "id": "60d04219-baa0-48e5-b999-9ebb6d91e7fd",
   "metadata": {},
   "source": [
    "#### 클래스 구조 만들기"
   ]
  },
  {
   "cell_type": "code",
   "execution_count": 43,
   "id": "8b1f4661-e5d3-4dbc-9afb-65711e9bdafb",
   "metadata": {},
   "outputs": [
    {
     "name": "stdout",
     "output_type": "stream",
     "text": [
      "<class '__main__.FourCal'>\n"
     ]
    }
   ],
   "source": [
    "class FourCal:\n",
    "    pass\n",
    "a = FourCal()\n",
    "print(type(a))"
   ]
  },
  {
   "cell_type": "markdown",
   "id": "67a0b847-445d-4054-a406-7a59b8e5e5a8",
   "metadata": {},
   "source": [
    "#### 객체의 연산할 숫자 지정하기"
   ]
  },
  {
   "cell_type": "code",
   "execution_count": 44,
   "id": "e94afa35-7999-41f2-a574-16c6be95c636",
   "metadata": {},
   "outputs": [],
   "source": [
    "class FourCal:\n",
    "    def setdata(self, first, second):\n",
    "        self.first = first\n",
    "        self.second = second"
   ]
  },
  {
   "cell_type": "markdown",
   "id": "e40e5f72-f5b1-49e0-8282-a7b22b8c4ca8",
   "metadata": {},
   "source": [
    "#### 더하기 기능 만들기"
   ]
  },
  {
   "cell_type": "code",
   "execution_count": 47,
   "id": "83e423c0-f7c4-45b4-a8b0-96e81a4d33eb",
   "metadata": {},
   "outputs": [],
   "source": [
    "class FourCal:\n",
    "    def setdata(self, first, second):\n",
    "        self.first = first\n",
    "        self.second = second\n",
    "    def add(self):\n",
    "        result = self.first + self.second\n",
    "        return result"
   ]
  },
  {
   "cell_type": "code",
   "execution_count": 48,
   "id": "e676fa05-ebf9-498a-9899-fc2337c2fceb",
   "metadata": {},
   "outputs": [
    {
     "data": {
      "text/plain": [
       "6"
      ]
     },
     "execution_count": 48,
     "metadata": {},
     "output_type": "execute_result"
    }
   ],
   "source": [
    "a = FourCal()\n",
    "a.setdata(4,2)\n",
    "a.add()"
   ]
  },
  {
   "cell_type": "code",
   "execution_count": 58,
   "id": "c5d28b3e-acee-4d26-a31a-378d0358d39f",
   "metadata": {},
   "outputs": [
    {
     "name": "stdout",
     "output_type": "stream",
     "text": [
      "6\n",
      "10\n",
      "12\n"
     ]
    }
   ],
   "source": [
    "도준 = FourCal()\n",
    "도준.setdata(4,2)\n",
    "print(도준.add())\n",
    "승훈 = FourCal()\n",
    "승훈.setdata(7,3)\n",
    "print(승훈.add())\n",
    "지훈 = FourCal()\n",
    "지훈.setdata(5,7)\n",
    "print(지훈.add())"
   ]
  },
  {
   "cell_type": "code",
   "execution_count": 71,
   "id": "2f41282c-c42f-40eb-881f-8d9292a0323b",
   "metadata": {},
   "outputs": [],
   "source": [
    "class vack:\n",
    "    def my(selfID, won, ea):\n",
    "        selfID.won = won\n",
    "        selfID.ea = ea\n",
    "    def dduk(selfID):\n",
    "        result = selfID.won * selfID.ea \n",
    "        print(\"떡볶이집에서 %d원 치 먹었다.\" % result)\n",
    "        # return result\n",
    "    def man(selfID):\n",
    "        result = selfID.won + selfID.won\n",
    "        print(\"만두집에서 %d원 치 먹었다.\" % result)"
   ]
  },
  {
   "cell_type": "code",
   "execution_count": 72,
   "id": "a45a37ba-2ac5-48cb-bd88-62025e0e3d4e",
   "metadata": {},
   "outputs": [],
   "source": [
    "도준 = vack()\n",
    "승훈 = vack()\n",
    "지훈 = vack()"
   ]
  },
  {
   "cell_type": "code",
   "execution_count": 73,
   "id": "43d61776-ad46-49a7-bfca-c2e53b3223de",
   "metadata": {},
   "outputs": [],
   "source": [
    "도준.my(22000,3)\n",
    "승훈.my(8000,3)\n",
    "지훈.my(11000,5)"
   ]
  },
  {
   "cell_type": "code",
   "execution_count": 74,
   "id": "37b4defc-6e35-4357-bd6f-87913ced81be",
   "metadata": {},
   "outputs": [
    {
     "name": "stdout",
     "output_type": "stream",
     "text": [
      "떡볶이집에서 66000원 치 먹었다.\n"
     ]
    }
   ],
   "source": [
    "도준.dduk()"
   ]
  },
  {
   "cell_type": "code",
   "execution_count": 75,
   "id": "ff9d6056-5852-4c75-a9b3-042bd5159844",
   "metadata": {},
   "outputs": [
    {
     "name": "stdout",
     "output_type": "stream",
     "text": [
      "떡볶이집에서 24000원 치 먹었다.\n"
     ]
    }
   ],
   "source": [
    "승훈.dduk()"
   ]
  },
  {
   "cell_type": "code",
   "execution_count": 76,
   "id": "fe1ac7a9-98cb-4969-9fa8-a3a95015e5ab",
   "metadata": {},
   "outputs": [
    {
     "name": "stdout",
     "output_type": "stream",
     "text": [
      "떡볶이집에서 55000원 치 먹었다.\n"
     ]
    }
   ],
   "source": [
    "지훈.dduk()"
   ]
  },
  {
   "cell_type": "code",
   "execution_count": 77,
   "id": "c34fffa0-f8fc-40cd-977d-b06deb82cb85",
   "metadata": {},
   "outputs": [
    {
     "name": "stdout",
     "output_type": "stream",
     "text": [
      "만두집에서 44000원 치 먹었다.\n"
     ]
    }
   ],
   "source": [
    "도준.man()"
   ]
  },
  {
   "cell_type": "code",
   "execution_count": 78,
   "id": "3e89f383-daa0-44da-a078-fe7e46c4f201",
   "metadata": {},
   "outputs": [
    {
     "name": "stdout",
     "output_type": "stream",
     "text": [
      "만두집에서 16000원 치 먹었다.\n"
     ]
    }
   ],
   "source": [
    "승훈.man()"
   ]
  },
  {
   "cell_type": "code",
   "execution_count": 79,
   "id": "fcf2a8bb-0c9a-41e6-91ca-1719285fb53e",
   "metadata": {},
   "outputs": [
    {
     "name": "stdout",
     "output_type": "stream",
     "text": [
      "만두집에서 22000원 치 먹었다.\n"
     ]
    }
   ],
   "source": [
    "지훈.man()"
   ]
  },
  {
   "cell_type": "markdown",
   "id": "03384ca3-c09f-4322-9c06-f3c8bfb64a38",
   "metadata": {},
   "source": [
    "#### 곱하기, 빼기, 나누기 기능 만들기"
   ]
  },
  {
   "cell_type": "code",
   "execution_count": 17,
   "id": "5bc9c352-2438-4504-91b5-3bd7698141fa",
   "metadata": {},
   "outputs": [],
   "source": [
    "class FiveCal:\n",
    "    def __init__(self, first, second):\n",
    "        self.first = first\n",
    "        self.second = second\n",
    "    def setdata(self, first, second):\n",
    "        self.first = first\n",
    "        self.second = second\n",
    "        self.second = second\n",
    "    def add(self):\n",
    "        result = self.first + self.second\n",
    "        return result\n",
    "    def mul(self):\n",
    "        result = self.first * self.second\n",
    "        return result\n",
    "    def sub(self):\n",
    "        result = self.first - self.second\n",
    "        return result\n",
    "    def div(self):\n",
    "        result = self.first / self.second\n",
    "        return result\n",
    "    def mod(self):\n",
    "        result = self.first % self.second\n",
    "        return result"
   ]
  },
  {
   "cell_type": "code",
   "execution_count": 18,
   "id": "c84bed2d-135a-4cc3-894b-70a8d2ea92a6",
   "metadata": {},
   "outputs": [
    {
     "ename": "TypeError",
     "evalue": "FiveCal.__init__() missing 1 required positional argument: 'second'",
     "output_type": "error",
     "traceback": [
      "\u001b[0;31m---------------------------------------------------------------------------\u001b[0m",
      "\u001b[0;31mTypeError\u001b[0m                                 Traceback (most recent call last)",
      "Cell \u001b[0;32mIn[18], line 1\u001b[0m\n\u001b[0;32m----> 1\u001b[0m a \u001b[38;5;241m=\u001b[39m \u001b[43mFiveCal\u001b[49m\u001b[43m(\u001b[49m\u001b[38;5;241;43m5.3\u001b[39;49m\u001b[43m)\u001b[49m\n",
      "\u001b[0;31mTypeError\u001b[0m: FiveCal.__init__() missing 1 required positional argument: 'second'"
     ]
    }
   ],
   "source": [
    "a = FiveCal(5.3)"
   ]
  },
  {
   "cell_type": "code",
   "execution_count": 19,
   "id": "3fa921fe-105a-48ca-ac22-10202cb54352",
   "metadata": {},
   "outputs": [
    {
     "data": {
      "text/plain": [
       "10"
      ]
     },
     "execution_count": 19,
     "metadata": {},
     "output_type": "execute_result"
    }
   ],
   "source": [
    "a.add()"
   ]
  },
  {
   "cell_type": "code",
   "execution_count": 20,
   "id": "db0b95d7-d6e2-4432-98da-909b982902be",
   "metadata": {},
   "outputs": [
    {
     "data": {
      "text/plain": [
       "10"
      ]
     },
     "execution_count": 20,
     "metadata": {},
     "output_type": "execute_result"
    }
   ],
   "source": [
    "a.setdata(3,7)\n",
    "a.add()"
   ]
  },
  {
   "cell_type": "code",
   "execution_count": 21,
   "id": "2ea9b208-6cec-4324-a74a-d9286f9aed81",
   "metadata": {},
   "outputs": [
    {
     "ename": "TypeError",
     "evalue": "FourCal.__init__() takes exactly one argument (the instance to initialize)",
     "output_type": "error",
     "traceback": [
      "\u001b[0;31m---------------------------------------------------------------------------\u001b[0m",
      "\u001b[0;31mTypeError\u001b[0m                                 Traceback (most recent call last)",
      "Cell \u001b[0;32mIn[21], line 1\u001b[0m\n\u001b[0;32m----> 1\u001b[0m \u001b[43ma\u001b[49m\u001b[38;5;241;43m.\u001b[39;49m\u001b[38;5;21;43m__init__\u001b[39;49m\u001b[43m(\u001b[49m\u001b[38;5;241;43m4\u001b[39;49m\u001b[43m,\u001b[49m\u001b[38;5;241;43m4\u001b[39;49m\u001b[43m)\u001b[49m\n\u001b[1;32m      2\u001b[0m a\u001b[38;5;241m.\u001b[39madd()\n",
      "\u001b[0;31mTypeError\u001b[0m: FourCal.__init__() takes exactly one argument (the instance to initialize)"
     ]
    }
   ],
   "source": [
    "a.__init__(4,4)\n",
    "a.add()"
   ]
  },
  {
   "cell_type": "code",
   "execution_count": null,
   "id": "ea176801-ca03-4904-bf5a-0c3d3ff692c8",
   "metadata": {},
   "outputs": [],
   "source": []
  },
  {
   "cell_type": "code",
   "execution_count": null,
   "id": "e25454a8-b6b6-4fca-8181-aed7b0a46d09",
   "metadata": {},
   "outputs": [],
   "source": []
  },
  {
   "cell_type": "markdown",
   "id": "ee086d66-ff46-401a-9138-98eec36efd15",
   "metadata": {},
   "source": [
    "### 생성자"
   ]
  },
  {
   "cell_type": "code",
   "execution_count": 5,
   "id": "2a47dbe7-3355-4bcc-8e37-cf16f8b516bb",
   "metadata": {},
   "outputs": [
    {
     "ename": "AttributeError",
     "evalue": "'FourCal' object has no attribute 'first'",
     "output_type": "error",
     "traceback": [
      "\u001b[0;31m---------------------------------------------------------------------------\u001b[0m",
      "\u001b[0;31mAttributeError\u001b[0m                            Traceback (most recent call last)",
      "Cell \u001b[0;32mIn[5], line 2\u001b[0m\n\u001b[1;32m      1\u001b[0m a \u001b[38;5;241m=\u001b[39m FourCal()\n\u001b[0;32m----> 2\u001b[0m \u001b[43ma\u001b[49m\u001b[38;5;241;43m.\u001b[39;49m\u001b[43madd\u001b[49m\u001b[43m(\u001b[49m\u001b[43m)\u001b[49m\n",
      "Cell \u001b[0;32mIn[3], line 6\u001b[0m, in \u001b[0;36mFourCal.add\u001b[0;34m(self)\u001b[0m\n\u001b[1;32m      5\u001b[0m \u001b[38;5;28;01mdef\u001b[39;00m \u001b[38;5;21madd\u001b[39m(\u001b[38;5;28mself\u001b[39m):\n\u001b[0;32m----> 6\u001b[0m     result \u001b[38;5;241m=\u001b[39m \u001b[38;5;28;43mself\u001b[39;49m\u001b[38;5;241;43m.\u001b[39;49m\u001b[43mfirst\u001b[49m \u001b[38;5;241m+\u001b[39m \u001b[38;5;28mself\u001b[39m\u001b[38;5;241m.\u001b[39msecond\n\u001b[1;32m      7\u001b[0m     \u001b[38;5;28;01mreturn\u001b[39;00m result\n",
      "\u001b[0;31mAttributeError\u001b[0m: 'FourCal' object has no attribute 'first'"
     ]
    }
   ],
   "source": [
    "a = FourCal()\n",
    "a.add()"
   ]
  },
  {
   "cell_type": "markdown",
   "id": "0af3b514-14c9-4d6a-bd23-a942b4859026",
   "metadata": {},
   "source": [
    "### 클래스와 상속"
   ]
  },
  {
   "cell_type": "code",
   "execution_count": 24,
   "id": "87341616-e6b6-4ae9-b342-5d39de4b0901",
   "metadata": {},
   "outputs": [],
   "source": [
    "class SixCal(FiveCal):\n",
    "    pass"
   ]
  },
  {
   "cell_type": "code",
   "execution_count": 26,
   "id": "16056b34-064f-4dc1-b9f5-e80bc99257bc",
   "metadata": {},
   "outputs": [
    {
     "data": {
      "text/plain": [
       "1"
      ]
     },
     "execution_count": 26,
     "metadata": {},
     "output_type": "execute_result"
    }
   ],
   "source": [
    "aa = SixCal(7,3)\n",
    "aa.mod()"
   ]
  },
  {
   "cell_type": "code",
   "execution_count": 27,
   "id": "675a3243-a5c3-4d1c-aeff-17c033156ce3",
   "metadata": {},
   "outputs": [],
   "source": [
    "class SixCal(FiveCal):\n",
    "    def pow(self):\n",
    "        result = self.first ** self.second\n",
    "        return result"
   ]
  },
  {
   "cell_type": "code",
   "execution_count": 28,
   "id": "4adb952a-a058-42eb-90d5-36e6fa38acda",
   "metadata": {},
   "outputs": [
    {
     "data": {
      "text/plain": [
       "65536"
      ]
     },
     "execution_count": 28,
     "metadata": {},
     "output_type": "execute_result"
    }
   ],
   "source": [
    "aa = SixCal(2,16)\n",
    "aa.pow()"
   ]
  },
  {
   "cell_type": "markdown",
   "id": "06d77d10-d508-40a4-850f-fc200ef02e5b",
   "metadata": {},
   "source": [
    "### 메서드 오버라이딩\n",
    "- 이름이 같을 경우 동일한 이름으로 업데이트"
   ]
  },
  {
   "cell_type": "code",
   "execution_count": 33,
   "id": "7b5aa172-9cb2-4613-b9b3-b5549d189640",
   "metadata": {},
   "outputs": [],
   "source": [
    "class NewCal(SixCal):\n",
    "    def div(self):\n",
    "        if self.second == 0:\n",
    "            return 0\n",
    "        else:\n",
    "            return self.first / self.second"
   ]
  },
  {
   "cell_type": "markdown",
   "id": "716752a4-eaf6-4717-a09a-6bf07424da24",
   "metadata": {},
   "source": [
    "### 클래스 변수"
   ]
  },
  {
   "cell_type": "code",
   "execution_count": 34,
   "id": "b6a30071-568f-45b1-aeb5-50e4a618f461",
   "metadata": {},
   "outputs": [],
   "source": [
    "class Student:\n",
    "    name = \"지훈\""
   ]
  },
  {
   "cell_type": "code",
   "execution_count": 35,
   "id": "3d6f1edf-9813-45f8-a4d9-5be15d7b71d5",
   "metadata": {},
   "outputs": [
    {
     "data": {
      "text/plain": [
       "'지훈'"
      ]
     },
     "execution_count": 35,
     "metadata": {},
     "output_type": "execute_result"
    }
   ],
   "source": [
    "Student.name"
   ]
  },
  {
   "cell_type": "code",
   "execution_count": 36,
   "id": "897c97e6-c09f-428c-a25b-0afb04bcd061",
   "metadata": {},
   "outputs": [
    {
     "name": "stdout",
     "output_type": "stream",
     "text": [
      "지훈\n",
      "지훈\n"
     ]
    }
   ],
   "source": [
    "a = Student()\n",
    "b = Student()\n",
    "print(a.name)\n",
    "print(b.name)"
   ]
  },
  {
   "cell_type": "code",
   "execution_count": 38,
   "id": "bb104f06-6690-4833-a22e-de207da20c58",
   "metadata": {},
   "outputs": [
    {
     "name": "stdout",
     "output_type": "stream",
     "text": [
      "도준\n",
      "도준\n"
     ]
    }
   ],
   "source": [
    "Student.name = \"도준\"\n",
    "a = Student()\n",
    "b = Student()\n",
    "print(a.name)\n",
    "print(b.name)"
   ]
  },
  {
   "cell_type": "code",
   "execution_count": 39,
   "id": "0d6f58e0-a85e-4f0e-ac07-a8121caf4f32",
   "metadata": {},
   "outputs": [
    {
     "name": "stdout",
     "output_type": "stream",
     "text": [
      "승훈\n",
      "도준\n"
     ]
    }
   ],
   "source": [
    "a = Student()\n",
    "b = Student()\n",
    "a.name = \"승훈\"\n",
    "print(a.name)\n",
    "print(b.name)"
   ]
  },
  {
   "cell_type": "markdown",
   "id": "8f328179-6ae1-40bb-bff3-d63ce2976088",
   "metadata": {},
   "source": [
    "### 클래스 응용"
   ]
  },
  {
   "cell_type": "code",
   "execution_count": 50,
   "id": "8ec8fddf-ba86-4c50-afe2-1d81558022a9",
   "metadata": {},
   "outputs": [],
   "source": [
    "class Basic:\n",
    "    def __init__(self,level):\n",
    "        self.level = level\n",
    "    def eat(self):\n",
    "        print('잘먹어요')\n",
    "    def say(self):\n",
    "        print(f'레벨은 {self.level} 입니다.')\n",
    "    def move(self):\n",
    "        print('이동을 합니다.')"
   ]
  },
  {
   "cell_type": "code",
   "execution_count": 54,
   "id": "84584dd4-f6fa-42e6-bc45-49e72782919a",
   "metadata": {},
   "outputs": [],
   "source": [
    "a = Basic(1)\n",
    "b = Basic(8)\n",
    "c = Basic(20)"
   ]
  },
  {
   "cell_type": "code",
   "execution_count": 57,
   "id": "2ab6bb2b-e9e9-4bb4-9b99-ec27f3c5d05f",
   "metadata": {},
   "outputs": [
    {
     "name": "stdout",
     "output_type": "stream",
     "text": [
      "잘먹어요\n",
      "레벨은 1 입니다.\n",
      "이동을 합니다.\n",
      "잘먹어요\n",
      "레벨은 8 입니다.\n",
      "이동을 합니다.\n",
      "잘먹어요\n",
      "레벨은 20 입니다.\n",
      "이동을 합니다.\n"
     ]
    },
    {
     "data": {
      "text/plain": [
       "(None, None, None)"
      ]
     },
     "execution_count": 57,
     "metadata": {},
     "output_type": "execute_result"
    }
   ],
   "source": [
    "a.eat(), a.say(), a.move()\n",
    "b.eat(), b.say(), b.move()\n",
    "c.eat(), c.say(), c.move()"
   ]
  },
  {
   "cell_type": "code",
   "execution_count": 60,
   "id": "b4174840-98f5-46ce-8ef1-5da85be8f408",
   "metadata": {},
   "outputs": [],
   "source": [
    "class Warrior(Basic):\n",
    "    def skill(self):\n",
    "        print(f'1초에 {self.level}번 휘두릅니다.')"
   ]
  },
  {
   "cell_type": "code",
   "execution_count": 61,
   "id": "82b60727-3219-4970-868d-07063ff01687",
   "metadata": {},
   "outputs": [
    {
     "name": "stdout",
     "output_type": "stream",
     "text": [
      "레벨은 7 입니다.\n",
      "1초에 7번 휘두릅니다.\n"
     ]
    }
   ],
   "source": [
    "war = Warrior(7)\n",
    "war.say()\n",
    "war.skill()"
   ]
  },
  {
   "cell_type": "code",
   "execution_count": 66,
   "id": "93bf0b48-2fc1-418f-8f6b-2b842ac6aedb",
   "metadata": {},
   "outputs": [],
   "source": [
    "# 오버라이팅\n",
    "class Sor(Warrior):\n",
    "    def skill(self):\n",
    "        if self.level < 6:\n",
    "            print('당신의 레벨은 %d이므로, 아직 스킬레벨이 부족합니다.' % self.level)\n",
    "        else:\n",
    "            print(f'{self.level}개의 메테오를 던집니다.')"
   ]
  },
  {
   "cell_type": "code",
   "execution_count": 69,
   "id": "1e13bccd-290a-4676-8950-22e5dd74113d",
   "metadata": {},
   "outputs": [
    {
     "name": "stdout",
     "output_type": "stream",
     "text": [
      "레벨은 3 입니다.\n",
      "당신의 레벨은 3이므로, 아직 스킬레벨이 부족합니다.\n",
      "레벨은 17 입니다.\n",
      "17개의 메테오를 던집니다.\n"
     ]
    }
   ],
   "source": [
    "sor = Sor(3)\n",
    "sor2 = Sor(17)\n",
    "sor.say()\n",
    "sor.skill()\n",
    "sor2.say()\n",
    "sor2.skill()"
   ]
  },
  {
   "cell_type": "markdown",
   "id": "6d151d26-b9c7-4862-8507-54f8f40d3e30",
   "metadata": {},
   "source": [
    "- 클래스로 다음을 구현하여라\n",
    "\n",
    "phone\n",
    "전화기능\n",
    "문자기능\n",
    "화상통화\n",
    "speed => print로 \"속도가 24배 빠릅니다.\" 출력\n",
    "\n",
    "smartphone\n",
    "웹서핑\n",
    "앱설치\n",
    "인터넷뱅킹\n",
    "speed => 24번 print로 \"1부터 24까지 출력하기\"\n",
    "\n",
    "securephone\n",
    "웹서핑 x\n",
    "앱설치 x\n",
    "인터넷뱅킹\n",
    "speed = \"s20 이하는 보안으로 동작되지 않습니다.\""
   ]
  },
  {
   "cell_type": "markdown",
   "id": "644be5ff-fc84-4f8c-ae0f-761eab324a7b",
   "metadata": {},
   "source": [
    "## 모듈"
   ]
  },
  {
   "cell_type": "code",
   "execution_count": 4,
   "id": "4d42ce17-db36-47ca-b332-a44f3e70cf6f",
   "metadata": {},
   "outputs": [],
   "source": [
    "with open('mod1.py','w') as f:\n",
    "    data = '''def add(a,b):\n",
    "    return a+b\n",
    "def sub(a,b):\n",
    "    return a-b'''\n",
    "    f.write(data)"
   ]
  },
  {
   "cell_type": "code",
   "execution_count": 5,
   "id": "0275120e-9d7f-48dd-9280-7a43feb136c9",
   "metadata": {},
   "outputs": [
    {
     "name": "stdout",
     "output_type": "stream",
     "text": [
      "7\n",
      "4\n"
     ]
    }
   ],
   "source": [
    "import mod1\n",
    "print(mod1.add(3,4))\n",
    "print(mod1.sub(7,3))"
   ]
  },
  {
   "cell_type": "code",
   "execution_count": 6,
   "id": "7715cbe2-add8-4fc6-923a-33e9c1f64d5e",
   "metadata": {},
   "outputs": [
    {
     "name": "stdout",
     "output_type": "stream",
     "text": [
      "7\n",
      "4\n"
     ]
    }
   ],
   "source": [
    "from mod1 import add, sub\n",
    "print(add(3,4))\n",
    "print(sub(7,3))"
   ]
  },
  {
   "cell_type": "code",
   "execution_count": 7,
   "id": "da019091-9d47-4cc2-89b0-0f200e2478b1",
   "metadata": {},
   "outputs": [
    {
     "data": {
      "text/plain": [
       "'__main__'"
      ]
     },
     "execution_count": 7,
     "metadata": {},
     "output_type": "execute_result"
    }
   ],
   "source": [
    "__name__"
   ]
  },
  {
   "cell_type": "code",
   "execution_count": 8,
   "id": "cb43e345-69b4-4a20-a7e7-5747848d23be",
   "metadata": {},
   "outputs": [],
   "source": [
    "with open('mod1.py','a') as f:\n",
    "    data='''\n",
    "print(__name__)'''\n",
    "    f.write(data)"
   ]
  },
  {
   "cell_type": "code",
   "execution_count": 9,
   "id": "8993d6ea-4bca-4680-a9c3-2f8ebc243292",
   "metadata": {},
   "outputs": [],
   "source": [
    "import mod1"
   ]
  },
  {
   "cell_type": "code",
   "execution_count": 11,
   "id": "ba6bb233-112c-4f31-9863-e586f074fcd5",
   "metadata": {},
   "outputs": [
    {
     "name": "stdout",
     "output_type": "stream",
     "text": [
      "__main__\n"
     ]
    }
   ],
   "source": [
    "!python mod1.py"
   ]
  },
  {
   "cell_type": "markdown",
   "id": "7c7b2d8a-0fb4-48f6-ab46-ac5af20cab02",
   "metadata": {},
   "source": [
    "### 클래스나 변수 등을 포함한 모듈"
   ]
  },
  {
   "cell_type": "code",
   "execution_count": 6,
   "id": "8aad2c4b-879d-4fcd-93e2-4f7b457b588a",
   "metadata": {},
   "outputs": [],
   "source": [
    "f = open('mod2.py','w')\n",
    "data = '''PI = 3.14592\n",
    "class Math:\n",
    "    def solv(self, r):\n",
    "        return PI * {r**2}\n",
    "def add(a,b):\n",
    "    return a+b'''\n",
    "f.write(data)\n",
    "f.close()"
   ]
  },
  {
   "cell_type": "code",
   "execution_count": 7,
   "id": "9de7c0dc-b7f5-46c7-8099-f067f68e77e9",
   "metadata": {},
   "outputs": [
    {
     "name": "stdout",
     "output_type": "stream",
     "text": [
      "PI = 3.14592\n",
      "class Math:\n",
      "    def solv(self, r):\n",
      "        return PI * {r**2}\n",
      "def add(a,b):\n",
      "    return a+b\n"
     ]
    }
   ],
   "source": [
    "f = open('mod2.py','r')\n",
    "print(f.read())\n",
    "f.close()"
   ]
  },
  {
   "cell_type": "code",
   "execution_count": 8,
   "id": "3f414844-7988-45c7-8b7a-d728cb7f71ec",
   "metadata": {},
   "outputs": [
    {
     "name": "stdout",
     "output_type": "stream",
     "text": [
      "3.14592\n"
     ]
    }
   ],
   "source": [
    "import mod2\n",
    "print(mod2.PI)"
   ]
  },
  {
   "cell_type": "code",
   "execution_count": 9,
   "id": "7632aea8-583f-43e7-aa6e-6179797d09b7",
   "metadata": {},
   "outputs": [
    {
     "ename": "TypeError",
     "evalue": "unsupported operand type(s) for *: 'float' and 'set'",
     "output_type": "error",
     "traceback": [
      "\u001b[0;31m---------------------------------------------------------------------------\u001b[0m",
      "\u001b[0;31mTypeError\u001b[0m                                 Traceback (most recent call last)",
      "Cell \u001b[0;32mIn[9], line 2\u001b[0m\n\u001b[1;32m      1\u001b[0m a \u001b[38;5;241m=\u001b[39m mod2\u001b[38;5;241m.\u001b[39mMath()\n\u001b[0;32m----> 2\u001b[0m \u001b[38;5;28mprint\u001b[39m(\u001b[43ma\u001b[49m\u001b[38;5;241;43m.\u001b[39;49m\u001b[43msolv\u001b[49m\u001b[43m(\u001b[49m\u001b[38;5;241;43m2\u001b[39;49m\u001b[43m)\u001b[49m)\n",
      "File \u001b[0;32m~/py_data/mod2.py:4\u001b[0m, in \u001b[0;36mMath.solv\u001b[0;34m(self, r)\u001b[0m\n\u001b[1;32m      3\u001b[0m \u001b[38;5;28;01mdef\u001b[39;00m \u001b[38;5;21msolv\u001b[39m(\u001b[38;5;28mself\u001b[39m, r):\n\u001b[0;32m----> 4\u001b[0m     \u001b[38;5;28;01mreturn\u001b[39;00m \u001b[43mPI\u001b[49m\u001b[43m \u001b[49m\u001b[38;5;241;43m*\u001b[39;49m\u001b[43m \u001b[49m\u001b[43m{\u001b[49m\u001b[43mr\u001b[49m\u001b[38;5;241;43m*\u001b[39;49m\u001b[38;5;241;43m*\u001b[39;49m\u001b[38;5;241;43m2\u001b[39;49m\u001b[43m}\u001b[49m\n",
      "\u001b[0;31mTypeError\u001b[0m: unsupported operand type(s) for *: 'float' and 'set'"
     ]
    }
   ],
   "source": [
    "a = mod2.Math()\n",
    "print(a.solv(2))"
   ]
  },
  {
   "cell_type": "code",
   "execution_count": 10,
   "id": "c9543a4d-b9e1-43fb-97ca-acd474191ba6",
   "metadata": {},
   "outputs": [
    {
     "ename": "TypeError",
     "evalue": "add() takes 2 positional arguments but 3 were given",
     "output_type": "error",
     "traceback": [
      "\u001b[0;31m---------------------------------------------------------------------------\u001b[0m",
      "\u001b[0;31mTypeError\u001b[0m                                 Traceback (most recent call last)",
      "Cell \u001b[0;32mIn[10], line 1\u001b[0m\n\u001b[0;32m----> 1\u001b[0m \u001b[38;5;28mprint\u001b[39m(\u001b[43mmod2\u001b[49m\u001b[38;5;241;43m.\u001b[39;49m\u001b[43madd\u001b[49m\u001b[43m(\u001b[49m\u001b[43mmod2\u001b[49m\u001b[38;5;241;43m.\u001b[39;49m\u001b[43mPI\u001b[49m\u001b[43m,\u001b[49m\u001b[43m \u001b[49m\u001b[38;5;241;43m4\u001b[39;49m\u001b[43m,\u001b[49m\u001b[38;5;241;43m4\u001b[39;49m\u001b[43m)\u001b[49m)\n",
      "\u001b[0;31mTypeError\u001b[0m: add() takes 2 positional arguments but 3 were given"
     ]
    }
   ],
   "source": [
    "print(mod2.add(mod2.PI, 4,4))"
   ]
  },
  {
   "cell_type": "markdown",
   "id": "3c6faa17-5f3b-4172-9aff-a3e8b40d686c",
   "metadata": {},
   "source": [
    "### 다른 파일에서 모듈 불러오기"
   ]
  },
  {
   "cell_type": "markdown",
   "id": "b9e496db-e607-4460-84eb-a2d114233a6f",
   "metadata": {},
   "source": [
    "### 다른 디렉터리에서 있는 모듈을 불러오는 방법"
   ]
  },
  {
   "cell_type": "markdown",
   "id": "f6bf65b5-1da8-467e-8571-5df03b505398",
   "metadata": {},
   "source": [
    "#### sys.path.append 사용하기 (기록)"
   ]
  },
  {
   "cell_type": "markdown",
   "id": "902ef7aa-5432-4cd4-9009-404b2c60ade3",
   "metadata": {},
   "source": [
    "## 패키지"
   ]
  },
  {
   "cell_type": "markdown",
   "id": "3d90d93d-6f08-42dd-9feb-70e88a6cbe88",
   "metadata": {},
   "source": [
    "### 패키지 만들기"
   ]
  },
  {
   "cell_type": "code",
   "execution_count": 9,
   "id": "bd7fdffa-cebf-47e3-97a6-d5c1f2725c9e",
   "metadata": {},
   "outputs": [
    {
     "data": {
      "text/plain": [
       "'/home/pi03/py_data'"
      ]
     },
     "execution_count": 9,
     "metadata": {},
     "output_type": "execute_result"
    }
   ],
   "source": [
    "import os\n",
    "os.getcwd() #경"
   ]
  },
  {
   "cell_type": "code",
   "execution_count": 14,
   "id": "0724b0c2-db7d-4850-b6df-a9c7d69af22e",
   "metadata": {},
   "outputs": [],
   "source": [
    "os.makedirs('pkg/sound',exist_ok=True)\n",
    "os.makedirs('pkg/graphic',exist_ok=True)"
   ]
  },
  {
   "cell_type": "code",
   "execution_count": 15,
   "id": "037d8a85-57d8-4448-91a3-99040c4edfac",
   "metadata": {},
   "outputs": [],
   "source": [
    "with open('pkg/__init__.py','w'):\n",
    "    pass\n",
    "with open('pkg/sound/__init__.py','w'):\n",
    "    pass\n",
    "with open('pkg/graphic/__init__.py','w'):\n",
    "    pass"
   ]
  },
  {
   "cell_type": "code",
   "execution_count": 16,
   "id": "b700b82a-da71-4c37-9a2f-cbf5d879ca70",
   "metadata": {},
   "outputs": [],
   "source": [
    "f = open('pkg/sound/echo.py','w')\n",
    "data = '''\n",
    "def echo_test():\n",
    "    print(\"소리테스트\")'''\n",
    "f.write(data)\n",
    "f.close()\n",
    "f = open('pkg/graphic/render.py','w')\n",
    "data = '''\n",
    "def render_test():\n",
    "    print(\"화면테스트\")'''\n",
    "f.write(data)\n",
    "f.close()"
   ]
  },
  {
   "cell_type": "code",
   "execution_count": 19,
   "id": "a0ca6e80-fdb5-4df2-842a-316252d67660",
   "metadata": {},
   "outputs": [
    {
     "name": "stdout",
     "output_type": "stream",
     "text": [
      "/home/pi03/py_data\n"
     ]
    }
   ],
   "source": [
    "!pwd #현재경로"
   ]
  },
  {
   "cell_type": "code",
   "execution_count": 20,
   "id": "d21a14b6-32d8-4f78-b023-172f80ccd103",
   "metadata": {},
   "outputs": [],
   "source": [
    "!export PYTHONPATH=/home/p103/py_data #윈도우의 경우 set 사용"
   ]
  },
  {
   "cell_type": "markdown",
   "id": "277b6d72-732a-42f0-9982-13399da7b478",
   "metadata": {},
   "source": [
    "### 패키지 안의 함수 실행하기"
   ]
  },
  {
   "cell_type": "markdown",
   "id": "5f31fcd6-7fac-4396-99e9-125dfa424bca",
   "metadata": {},
   "source": [
    "#### echo 모듈을 import하여 설명"
   ]
  },
  {
   "cell_type": "code",
   "execution_count": 21,
   "id": "c17f6f3b-832e-4adb-87b7-9c60c08df424",
   "metadata": {},
   "outputs": [
    {
     "name": "stdout",
     "output_type": "stream",
     "text": [
      "소리테스트\n"
     ]
    }
   ],
   "source": [
    "import pkg.sound.echo\n",
    "pkg.sound.echo.echo_test()"
   ]
  },
  {
   "cell_type": "markdown",
   "id": "2cca0692-89ee-4e1c-81e2-26838ec337f1",
   "metadata": {},
   "source": [
    "#### echo 모듈이 있는 디렉터리까지를 from ... import하여 실행"
   ]
  },
  {
   "cell_type": "code",
   "execution_count": 2,
   "id": "8f5740c6-9686-4dbe-a7c2-251d7a85655f",
   "metadata": {},
   "outputs": [
    {
     "name": "stdout",
     "output_type": "stream",
     "text": [
      "소리테스트\n"
     ]
    }
   ],
   "source": [
    "from pkg.sound import echo\n",
    "echo.echo_test()"
   ]
  },
  {
   "cell_type": "markdown",
   "id": "fc0a3476-c0bc-4d5b-a77b-8424b16d8d63",
   "metadata": {},
   "source": [
    "#### echo 모듈의 echo_test 함수를 직접 import하여 실행"
   ]
  },
  {
   "cell_type": "code",
   "execution_count": 1,
   "id": "46d835ea-9b77-47e2-9bc7-23236b206116",
   "metadata": {},
   "outputs": [
    {
     "name": "stdout",
     "output_type": "stream",
     "text": [
      "소리테스트\n"
     ]
    }
   ],
   "source": [
    "from pkg.sound.echo import echo_test\n",
    "echo_test()"
   ]
  },
  {
   "cell_type": "markdown",
   "id": "4ea66d5d-2c11-435e-ae6c-0e722fe0450a",
   "metadata": {},
   "source": [
    "- 도트 연산자()를 사용해서 import a.b.c처럼 import할 때 가장 마지막 항목인 c는 반드시 모듈 또는 패키지여야만 한다."
   ]
  },
  {
   "cell_type": "markdown",
   "id": "4f810f34-200c-4c90-a52b-f701cbf03e39",
   "metadata": {},
   "source": [
    "### \\_\\_init\\_\\_py의 용도"
   ]
  },
  {
   "cell_type": "markdown",
   "id": "dd6aad39-5f3f-40c6-9683-b57476fbf2cf",
   "metadata": {},
   "source": [
    "- __init__.py 파일은 해당 디렉터리가 패키지의 일부임을 알려 주는 역할을 한다. 만약 game, sound, graphic 등 패키지에 포함된 디렉터리에 __init__.py 파일이 없다면 패키지로 인식되지 않는다. \n",
    "<blockquote>\r\n",
    "<p>python 3.3 버전부터는 <code>__init__.py</code> 파일이 없어도 패키지로 인식한다(<a class=\"wiki_link\" data-title=\"PEP\" data-wiki=\"/page/wiki/PEP\" href=\"javascript:void(0)\">PEP</a> 420). 하지만 하위 버전 호환을 위해 <code>__init__.py</code> 파일을 생성하는 것이 안전한 방법이다.</p>\r\n",
    "</blockquot<br>\n",
    "\n",
    "- 또한, __init__.py 파일은 패키지와 관련된 설정이나 초기화 코드를 포함할 수 있다. 다양한 방법으로 활용할 수 있는데, 몇 가지 예를 들어 살펴보자.e>"
   ]
  },
  {
   "cell_type": "markdown",
   "id": "dab20a31-9c36-47c6-8258-b541d4974cca",
   "metadata": {},
   "source": [
    "#### 패키지 변수 및 함수 정의"
   ]
  },
  {
   "cell_type": "code",
   "execution_count": 2,
   "id": "f99ac5fe-ab60-4c6e-9cae-94190874d6c1",
   "metadata": {},
   "outputs": [],
   "source": [
    "with open('pkg/__init__.py','w') as f:\n",
    "    data = '''VERSION = 3.11\n",
    "\n",
    "def print_version_info():\n",
    "    print(f'The version of this pkg is{VERSION}.')'''\n",
    "    f.write(data)"
   ]
  },
  {
   "cell_type": "code",
   "execution_count": 4,
   "id": "3e092e9d-59dc-4cdb-99fd-594a3f5a3e52",
   "metadata": {},
   "outputs": [
    {
     "name": "stdout",
     "output_type": "stream",
     "text": [
      "3.11\n",
      "The version of this pkg is3.11.\n"
     ]
    }
   ],
   "source": [
    "import pkg\n",
    "print(pkg.VERSION)\n",
    "pkg.print_version_info()"
   ]
  },
  {
   "cell_type": "markdown",
   "id": "e1bce67e-d06a-4520-a9fa-884310002799",
   "metadata": {},
   "source": [
    "#### 패키지 내 모듈을 미리 import"
   ]
  },
  {
   "cell_type": "code",
   "execution_count": 3,
   "id": "76f84e40-722d-426e-b11c-e81fa71d67ab",
   "metadata": {},
   "outputs": [],
   "source": [
    "with open('pkg/__init__.py','w') as f:\n",
    "    data = '''from .graphic.render import render_test\n",
    "VERSION = 3.11\n",
    "\n",
    "def print_version_info():\n",
    "    print(f'The version of this pkg is {VERSION}.')'''\n",
    "    f.write(data)"
   ]
  },
  {
   "cell_type": "code",
   "execution_count": 4,
   "id": "cc709ab0-f6bb-4037-beae-0bfc92de9954",
   "metadata": {},
   "outputs": [
    {
     "name": "stdout",
     "output_type": "stream",
     "text": [
      "화면테스트\n"
     ]
    }
   ],
   "source": [
    "import pkg\n",
    "pkg.render_test()"
   ]
  },
  {
   "cell_type": "markdown",
   "id": "13ca562d-f136-4b82-b364-bc2fa918dd8c",
   "metadata": {},
   "source": [
    "#### 패키지 초기화"
   ]
  },
  {
   "cell_type": "code",
   "execution_count": 5,
   "id": "3119d78a-c0eb-4051-8144-40678a58d05a",
   "metadata": {},
   "outputs": [],
   "source": [
    "with open('pkg/__init__.py','a') as f:\n",
    "    data ='''\n",
    "print(\"initializing game...\")'''\n",
    "    f.write(data)"
   ]
  },
  {
   "cell_type": "code",
   "execution_count": 2,
   "id": "7ba5c0aa-c99e-4582-ba4e-aa66a3e42b97",
   "metadata": {},
   "outputs": [
    {
     "name": "stdout",
     "output_type": "stream",
     "text": [
      "__all__ = ['echo']\n"
     ]
    }
   ],
   "source": [
    "with open('pkg/__init__.py','r') as f:\n",
    "    print(f.read())"
   ]
  },
  {
   "cell_type": "code",
   "execution_count": 3,
   "id": "6b1b6e86-f3cf-4426-8c11-59d9d2fdbf4b",
   "metadata": {},
   "outputs": [],
   "source": [
    "import pkg"
   ]
  },
  {
   "cell_type": "code",
   "execution_count": 8,
   "id": "6480a1f4-524e-48a0-8c74-55f18d8510bc",
   "metadata": {},
   "outputs": [],
   "source": [
    "from pkg.graphic.render import render_test"
   ]
  },
  {
   "cell_type": "markdown",
   "id": "488cfb82-6526-4575-964a-c97492c5f2c4",
   "metadata": {},
   "source": [
    "#### **\\_\\_all\\_\\_**"
   ]
  },
  {
   "cell_type": "code",
   "execution_count": 1,
   "id": "7043d355-36f3-465e-b830-8b380a72fcb6",
   "metadata": {},
   "outputs": [],
   "source": [
    "with open('pkg/sound/__init__.py','w') as f:\n",
    "    data ='''__all__ = ['echo']'''\n",
    "    f.write(data)"
   ]
  },
  {
   "cell_type": "code",
   "execution_count": 2,
   "id": "d0a60a6e-a9a1-4f2a-8124-fcc0e5b211cf",
   "metadata": {},
   "outputs": [],
   "source": [
    "from pkg.sound import *"
   ]
  },
  {
   "cell_type": "code",
   "execution_count": 3,
   "id": "01592941-babb-4974-bdc9-9d6ea0424cd0",
   "metadata": {},
   "outputs": [
    {
     "name": "stdout",
     "output_type": "stream",
     "text": [
      "소리테스트\n"
     ]
    }
   ],
   "source": [
    "echo.echo_test()"
   ]
  },
  {
   "cell_type": "markdown",
   "id": "b83d3735-e726-41d7-a510-5a1727f9f8d2",
   "metadata": {},
   "source": [
    "### relative 패키지"
   ]
  },
  {
   "cell_type": "code",
   "execution_count": 1,
   "id": "3c1f4736-9df3-4dcd-9dd8-ec5a8582b96a",
   "metadata": {},
   "outputs": [],
   "source": [
    "with open('pkg/graphic/render.py','w') as f:\n",
    "    data ='''from pkg.sound.echo import echo_test\n",
    "def render_test():\n",
    "    print(\"화면짱\")\n",
    "    echo_test()'''\n",
    "    f.write(data)"
   ]
  },
  {
   "cell_type": "code",
   "execution_count": 2,
   "id": "368fd951-a261-4d1b-8c76-1192edf0dcff",
   "metadata": {},
   "outputs": [
    {
     "name": "stdout",
     "output_type": "stream",
     "text": [
      "initializing game...\n",
      "화면짱\n",
      "소리테스트\n"
     ]
    }
   ],
   "source": [
    "from pkg.graphic.render import render_test\n",
    "render_test()"
   ]
  },
  {
   "cell_type": "code",
   "execution_count": 3,
   "id": "682dcb72-0b61-4309-b7e9-9831e4de9bdf",
   "metadata": {},
   "outputs": [],
   "source": [
    "with open('pkg/graphic/render.py','w') as f:\n",
    "    data ='''from pkg.sound.echo import echo_test\n",
    "def render_test():\n",
    "    print(\"화면짱\")\n",
    "    echo_test()'''\n",
    "    f.write(data)"
   ]
  },
  {
   "cell_type": "code",
   "execution_count": 4,
   "id": "1dd09bd0-466e-4fcd-91cb-493cc08a421d",
   "metadata": {},
   "outputs": [
    {
     "name": "stdout",
     "output_type": "stream",
     "text": [
      "화면짱\n",
      "소리테스트\n"
     ]
    }
   ],
   "source": [
    "from pkg.graphic.render import render_test\n",
    "render_test()"
   ]
  },
  {
   "cell_type": "markdown",
   "id": "a68014f6-f6ab-4934-98bf-11e7bf10e942",
   "metadata": {},
   "source": [
    "## 예외 처리"
   ]
  },
  {
   "cell_type": "markdown",
   "id": "6391a7e0-2752-4664-a021-c9f5a19ecf2d",
   "metadata": {},
   "source": [
    "### 오류 발생\n",
    "- 존재하지 않는 파일을 사용\n",
    "- 수학적 오류\n",
    "- 인덱스 오류"
   ]
  },
  {
   "cell_type": "markdown",
   "id": "84edfc36-e834-428b-89ac-b0ae7b8ac04a",
   "metadata": {},
   "source": [
    "### 오류 예외 처리 기법\n",
    "- try-except문\n",
    "- try-finally문\n",
    "- 여러개의 오류 처리하기\n",
    "- try-else문"
   ]
  },
  {
   "cell_type": "markdown",
   "id": "9d2ec64d-4f77-43b8-92ce-4f18f936614b",
   "metadata": {},
   "source": [
    "#### try-except문"
   ]
  },
  {
   "cell_type": "code",
   "execution_count": 18,
   "id": "d6cbb3d4-9743-47f7-a650-cc1d6caddd5d",
   "metadata": {},
   "outputs": [
    {
     "name": "stdout",
     "output_type": "stream",
     "text": [
      "3\n",
      "에러남\n"
     ]
    }
   ],
   "source": [
    "try:\n",
    "    4/0\n",
    "except:\n",
    "    a=1\n",
    "    b=2\n",
    "    print(a+b)\n",
    "    print('에러남')"
   ]
  },
  {
   "cell_type": "code",
   "execution_count": 17,
   "id": "bc1bc92b-733b-47a6-b09e-b3a231992b46",
   "metadata": {},
   "outputs": [
    {
     "name": "stdout",
     "output_type": "stream",
     "text": [
      "에러남\n"
     ]
    }
   ],
   "source": [
    "# try-except2 (발생 오류만 포함한 except)\n",
    "try:\n",
    "    4/0\n",
    "    for i in 3:\n",
    "        pass\n",
    "    print('종료되면 안돼')\n",
    "except ZeroDivisionError:\n",
    "    print('에러남')"
   ]
  },
  {
   "cell_type": "code",
   "execution_count": 17,
   "id": "8649d731-4749-49ee-82eb-1bfbba1d058a",
   "metadata": {},
   "outputs": [
    {
     "name": "stdout",
     "output_type": "stream",
     "text": [
      "에러남\n"
     ]
    }
   ],
   "source": [
    "# try-except2 (발생 오류만 포함한 except)\n",
    "try:\n",
    "    4/0\n",
    "    for i in 3:\n",
    "        pass\n",
    "    print('종료되면 안돼')\n",
    "except ZeroDivisionError:\n",
    "    print('에러남')"
   ]
  },
  {
   "cell_type": "markdown",
   "id": "6250e568-cd9f-491d-97fc-395753d3dd1d",
   "metadata": {},
   "source": [
    "#### finally문"
   ]
  },
  {
   "cell_type": "code",
   "execution_count": 20,
   "id": "8e9ab9ee-6c5f-4948-a190-4dce1f1e2f3e",
   "metadata": {},
   "outputs": [
    {
     "name": "stdout",
     "output_type": "stream",
     "text": [
      "연파일 닫음\n"
     ]
    },
    {
     "ename": "TypeError",
     "evalue": "'int' object is not iterable",
     "output_type": "error",
     "traceback": [
      "\u001b[0;31m---------------------------------------------------------------------------\u001b[0m",
      "\u001b[0;31mTypeError\u001b[0m                                 Traceback (most recent call last)",
      "Cell \u001b[0;32mIn[20], line 5\u001b[0m\n\u001b[1;32m      3\u001b[0m     f \u001b[38;5;241m=\u001b[39m \u001b[38;5;28mopen\u001b[39m(\u001b[38;5;124m'\u001b[39m\u001b[38;5;124mfoo.txt\u001b[39m\u001b[38;5;124m'\u001b[39m,\u001b[38;5;124m'\u001b[39m\u001b[38;5;124mw\u001b[39m\u001b[38;5;124m'\u001b[39m)\n\u001b[1;32m      4\u001b[0m     \u001b[38;5;66;03m#무언가 수행함\u001b[39;00m\n\u001b[0;32m----> 5\u001b[0m \u001b[43m    \u001b[49m\u001b[38;5;28;43;01mfor\u001b[39;49;00m\u001b[43m \u001b[49m\u001b[43mi\u001b[49m\u001b[43m \u001b[49m\u001b[38;5;129;43;01min\u001b[39;49;00m\u001b[43m \u001b[49m\u001b[38;5;241;43m3\u001b[39;49m\u001b[43m:\u001b[49m\n\u001b[1;32m      6\u001b[0m \u001b[43m        \u001b[49m\u001b[43mf\u001b[49m\u001b[38;5;241;43m.\u001b[39;49m\u001b[43mwrite\u001b[49m\u001b[43m(\u001b[49m\u001b[43mi\u001b[49m\u001b[43m)\u001b[49m\n\u001b[1;32m      7\u001b[0m \u001b[38;5;28;01mfinally\u001b[39;00m:\n",
      "\u001b[0;31mTypeError\u001b[0m: 'int' object is not iterable"
     ]
    }
   ],
   "source": [
    "# try-finally 구문(무조건 실행)\n",
    "try:\n",
    "    f = open('foo.txt','w')\n",
    "    #무언가 수행함\n",
    "    for i in 3:\n",
    "        f.write(i)\n",
    "finally:\n",
    "    f.close()\n",
    "    print('연파일 닫음')"
   ]
  },
  {
   "cell_type": "markdown",
   "id": "ffd9ce19-eeb2-4196-8bb8-7dc44f63dfe1",
   "metadata": {},
   "source": [
    "#### try-except문"
   ]
  },
  {
   "cell_type": "code",
   "execution_count": 23,
   "id": "629bcdec-10d4-49bd-9302-8e448c1b3d59",
   "metadata": {},
   "outputs": [
    {
     "name": "stdout",
     "output_type": "stream",
     "text": [
      "list index out of range\n"
     ]
    }
   ],
   "source": [
    "# try-except 여러개 1 (먼저발생성에러만 표현)\n",
    "try:\n",
    "    a = [1,2]\n",
    "    print(a[3])\n",
    "    4/0\n",
    "except ZeroDivisionError as e:\n",
    "    print(e)\n",
    "except IndexError as j:\n",
    "    print(j)"
   ]
  },
  {
   "cell_type": "markdown",
   "id": "f3dd8970-2f70-48ba-b8b0-419f7f09b969",
   "metadata": {},
   "source": [
    "#### try-else문"
   ]
  },
  {
   "cell_type": "code",
   "execution_count": 24,
   "id": "496a7b9f-8424-4ba2-b7b9-51ac55ec20d0",
   "metadata": {},
   "outputs": [
    {
     "name": "stdin",
     "output_type": "stream",
     "text": [
      "나이를 입력하세요:  22\n"
     ]
    },
    {
     "name": "stdout",
     "output_type": "stream",
     "text": [
      "환영합니다.\n"
     ]
    }
   ],
   "source": [
    "# try_else.py\n",
    "try:\n",
    "    age=int(input('나이를 입력하세요: '))\n",
    "except:\n",
    "    print('입력이 정확하지 않습니다.')\n",
    "else:\n",
    "    if age <= 18:\n",
    "        print('미성년자는 출입금지입니다.')\n",
    "    else:\n",
    "        print('환영합니다.')"
   ]
  },
  {
   "cell_type": "markdown",
   "id": "d5982189-8333-4864-8824-8146c2e694f6",
   "metadata": {},
   "source": [
    "### 오류 회피하기"
   ]
  },
  {
   "cell_type": "code",
   "execution_count": 26,
   "id": "c26d5e37-a51b-419c-9ab6-d5a290450cfa",
   "metadata": {},
   "outputs": [],
   "source": [
    "try:\n",
    "    f = open(\"나없는파일\", 'r')\n",
    "except FileNotFoundError:\n",
    "    pass"
   ]
  },
  {
   "cell_type": "markdown",
   "id": "ba3013bd-f0a4-430a-9a33-9caf70196194",
   "metadata": {},
   "source": [
    "### 오류 일부러 발생시키기"
   ]
  },
  {
   "cell_type": "code",
   "execution_count": 27,
   "id": "7a7ed31d-63bd-4142-ab43-ef6c751c7adc",
   "metadata": {},
   "outputs": [],
   "source": [
    "class Bird:\n",
    "    def fly(self):\n",
    "        raise NotImplementedError"
   ]
  },
  {
   "cell_type": "code",
   "execution_count": 28,
   "id": "ec35f2a3-cddf-4083-9c73-699a14ef76da",
   "metadata": {},
   "outputs": [
    {
     "name": "stdout",
     "output_type": "stream",
     "text": [
      "very fast\n"
     ]
    }
   ],
   "source": [
    "class Eagle(Bird):\n",
    "    def fly(self):\n",
    "        print(\"very fast\")\n",
    "eagle = Eagle()\n",
    "eagle.fly()"
   ]
  },
  {
   "cell_type": "code",
   "execution_count": 1,
   "id": "c2ab757a-d95d-4186-ae5e-fb134627f0b8",
   "metadata": {},
   "outputs": [
    {
     "name": "stdout",
     "output_type": "stream",
     "text": [
      "Selected Jupyter core packages...\n",
      "IPython          : 8.19.0\n",
      "ipykernel        : 6.28.0\n",
      "ipywidgets       : not installed\n",
      "jupyter_client   : 8.6.0\n",
      "jupyter_core     : 5.7.0\n",
      "jupyter_server   : 2.12.1\n",
      "jupyterlab       : 4.0.10\n",
      "nbclient         : 0.9.0\n",
      "nbconvert        : 7.14.0\n",
      "nbformat         : 5.9.2\n",
      "notebook         : not installed\n",
      "qtconsole        : not installed\n",
      "traitlets        : 5.14.1\n"
     ]
    }
   ],
   "source": [
    "!jupyter --version"
   ]
  },
  {
   "cell_type": "markdown",
   "id": "b1645ef1-51f8-4099-b440-5ec912082631",
   "metadata": {},
   "source": [
    "## 내장함수"
   ]
  },
  {
   "cell_type": "markdown",
   "id": "a49eed1a-5f9b-45df-84d9-7d3baf77f7e9",
   "metadata": {},
   "source": [
    "### all(모두가 참)"
   ]
  },
  {
   "cell_type": "code",
   "execution_count": 39,
   "id": "3c855979-c941-4ea0-946c-2719f4865bbd",
   "metadata": {},
   "outputs": [
    {
     "data": {
      "text/plain": [
       "False"
      ]
     },
     "execution_count": 39,
     "metadata": {},
     "output_type": "execute_result"
    }
   ],
   "source": [
    "all([1,2,3,0,5,6])"
   ]
  },
  {
   "cell_type": "markdown",
   "id": "06f5e877-73ae-4080-8d47-10a5d50288cb",
   "metadata": {},
   "source": [
    "### any(하나라도 참이면 참)"
   ]
  },
  {
   "cell_type": "code",
   "execution_count": 34,
   "id": "5907e533-2c4e-4f09-bf09-0da96d39d382",
   "metadata": {},
   "outputs": [
    {
     "data": {
      "text/plain": [
       "True"
      ]
     },
     "execution_count": 34,
     "metadata": {},
     "output_type": "execute_result"
    }
   ],
   "source": [
    "any([1,0,3,0,5,0,0])"
   ]
  },
  {
   "cell_type": "markdown",
   "id": "6bbcd3c3-ceb3-4369-90d7-95c24bc8b742",
   "metadata": {},
   "source": [
    "### chr(유니코드 입력받아 해당 문자리턴)"
   ]
  },
  {
   "cell_type": "code",
   "execution_count": 35,
   "id": "79db2ad2-bf19-4af2-8cf7-4c252b200851",
   "metadata": {},
   "outputs": [
    {
     "data": {
      "text/plain": [
       "'A'"
      ]
     },
     "execution_count": 35,
     "metadata": {},
     "output_type": "execute_result"
    }
   ],
   "source": [
    "chr(65)"
   ]
  },
  {
   "cell_type": "code",
   "execution_count": 36,
   "id": "201ce999-0063-4ba0-b585-5e6fef240c52",
   "metadata": {},
   "outputs": [
    {
     "name": "stdout",
     "output_type": "stream",
     "text": [
      "A,B,C,D,E,F,G,H,I,J,K,L,M,N,O,P,Q,R,S,T,U,V,W,X,Y,Z,"
     ]
    }
   ],
   "source": [
    "\n",
    "for i in range(65,91):\n",
    "    print(chr(i),end = ',')"
   ]
  },
  {
   "cell_type": "code",
   "execution_count": 37,
   "id": "4bee8688-42cb-4189-b078-341014d825f8",
   "metadata": {},
   "outputs": [],
   "source": [
    "def upp(text):\n",
    "    print(chr(ord(text)+32))"
   ]
  },
  {
   "cell_type": "code",
   "execution_count": 38,
   "id": "e23a21b0-6502-4fa6-9988-8d440dcbfbd5",
   "metadata": {},
   "outputs": [
    {
     "name": "stdout",
     "output_type": "stream",
     "text": [
      "b\n"
     ]
    }
   ],
   "source": [
    "upp('B')"
   ]
  },
  {
   "cell_type": "markdown",
   "id": "f99e79d1-4981-4775-be5d-1fd30eef783d",
   "metadata": {},
   "source": [
    "### dir(객체가 지닌 변수나 함수를 보여준다)"
   ]
  },
  {
   "cell_type": "code",
   "execution_count": 42,
   "id": "a72f9c3f-92f5-4bc1-b686-6d786d35aacd",
   "metadata": {},
   "outputs": [
    {
     "data": {
      "text/plain": [
       "['__add__',\n",
       " '__class__',\n",
       " '__class_getitem__',\n",
       " '__contains__',\n",
       " '__delattr__',\n",
       " '__delitem__',\n",
       " '__dir__',\n",
       " '__doc__',\n",
       " '__eq__',\n",
       " '__format__',\n",
       " '__ge__',\n",
       " '__getattribute__',\n",
       " '__getitem__',\n",
       " '__getstate__',\n",
       " '__gt__',\n",
       " '__hash__',\n",
       " '__iadd__',\n",
       " '__imul__',\n",
       " '__init__',\n",
       " '__init_subclass__',\n",
       " '__iter__',\n",
       " '__le__',\n",
       " '__len__',\n",
       " '__lt__',\n",
       " '__mul__',\n",
       " '__ne__',\n",
       " '__new__',\n",
       " '__reduce__',\n",
       " '__reduce_ex__',\n",
       " '__repr__',\n",
       " '__reversed__',\n",
       " '__rmul__',\n",
       " '__setattr__',\n",
       " '__setitem__',\n",
       " '__sizeof__',\n",
       " '__str__',\n",
       " '__subclasshook__',\n",
       " 'append',\n",
       " 'clear',\n",
       " 'copy',\n",
       " 'count',\n",
       " 'extend',\n",
       " 'index',\n",
       " 'insert',\n",
       " 'pop',\n",
       " 'remove',\n",
       " 'reverse',\n",
       " 'sort']"
      ]
     },
     "execution_count": 42,
     "metadata": {},
     "output_type": "execute_result"
    }
   ],
   "source": [
    "dir([])"
   ]
  },
  {
   "cell_type": "markdown",
   "id": "6c7e14fc-8d52-41af-be4e-963c7e8e7991",
   "metadata": {},
   "source": [
    "### enumerate"
   ]
  },
  {
   "cell_type": "code",
   "execution_count": 44,
   "id": "d33fc5b7-4a53-482b-9952-0c78d51fb40e",
   "metadata": {},
   "outputs": [
    {
     "name": "stdout",
     "output_type": "stream",
     "text": [
      "0 a\n",
      "1 b\n",
      "2 c\n"
     ]
    }
   ],
   "source": [
    "for i, v in enumerate(['a','b','c']):\n",
    "    print(i,v)"
   ]
  },
  {
   "cell_type": "code",
   "execution_count": 46,
   "id": "506fe7f7-6081-43b7-b3fc-1f9d8a98c799",
   "metadata": {},
   "outputs": [
    {
     "name": "stdout",
     "output_type": "stream",
     "text": [
      "a 0\n",
      "b 1\n",
      "c 2\n"
     ]
    }
   ],
   "source": [
    "arr = ['a','b','c']\n",
    "for(v,i) in zip(arr,range(len(arr))):\n",
    "    print(v,i)"
   ]
  },
  {
   "cell_type": "markdown",
   "id": "660acd74-4c22-4a6c-9cc9-9a164348aea9",
   "metadata": {},
   "source": [
    "### filter(리턴값이 참인 것만 리턴한다)"
   ]
  },
  {
   "cell_type": "code",
   "execution_count": 47,
   "id": "c79325f5-f1f6-458b-9a06-a5074c62ff8c",
   "metadata": {},
   "outputs": [
    {
     "name": "stdout",
     "output_type": "stream",
     "text": [
      "[1, 2, 6]\n"
     ]
    }
   ],
   "source": [
    "def positive(l):\n",
    "    result=[]\n",
    "    for i in l:\n",
    "        if i > 0:\n",
    "            result.append(i)\n",
    "    return result\n",
    "print(positive([1,-3,2,0,-5,6]))"
   ]
  },
  {
   "cell_type": "code",
   "execution_count": 48,
   "id": "3da52efa-8563-45c5-a0a8-837c7bb2886d",
   "metadata": {},
   "outputs": [],
   "source": [
    "def positive(x):\n",
    "    return x > 0"
   ]
  },
  {
   "cell_type": "code",
   "execution_count": 50,
   "id": "a756ad0b-9f4c-436d-b44b-46f99edd374b",
   "metadata": {},
   "outputs": [
    {
     "name": "stdout",
     "output_type": "stream",
     "text": [
      "[1, 2, 6]\n"
     ]
    }
   ],
   "source": [
    "print(list(filter(positive,[1,-3,2,0,-5,6])))"
   ]
  },
  {
   "cell_type": "code",
   "execution_count": 51,
   "id": "a8b5f3a6-c9e1-4697-9458-4494b3e5a047",
   "metadata": {},
   "outputs": [
    {
     "data": {
      "text/plain": [
       "[1, 2, 6]"
      ]
     },
     "execution_count": 51,
     "metadata": {},
     "output_type": "execute_result"
    }
   ],
   "source": [
    "list(filter(lambda x: x > 0, [1, -3, 2, 0, -5, 6]))"
   ]
  },
  {
   "cell_type": "markdown",
   "id": "a2e1ff7b-b752-4024-bbcf-83bddf6f4934",
   "metadata": {},
   "source": [
    "### map(요소에 함수 f를 적용한 결과를 리턴하는 함수)"
   ]
  },
  {
   "cell_type": "code",
   "execution_count": 52,
   "id": "5e908fe9-f4d4-47c8-b3eb-dad9258a8c0a",
   "metadata": {},
   "outputs": [
    {
     "name": "stdout",
     "output_type": "stream",
     "text": [
      "[2, 4, 6, 8]\n"
     ]
    }
   ],
   "source": [
    "# two_times.py\n",
    "def two_times(numberList):\n",
    "    result = []\n",
    "    for number in numberList:\n",
    "        result.append(number*2)\n",
    "    return result\n",
    "\n",
    "result = two_times([1, 2, 3, 4])\n",
    "print(result)"
   ]
  },
  {
   "cell_type": "code",
   "execution_count": 53,
   "id": "03cca5e1-1ac9-4c98-bb34-d5e5d5c8d9bc",
   "metadata": {},
   "outputs": [],
   "source": [
    "#사용 후"
   ]
  },
  {
   "cell_type": "code",
   "execution_count": 55,
   "id": "57187b3b-bcdd-4819-80e3-3606f900838a",
   "metadata": {},
   "outputs": [
    {
     "data": {
      "text/plain": [
       "[2, 4, 6, 8]"
      ]
     },
     "execution_count": 55,
     "metadata": {},
     "output_type": "execute_result"
    }
   ],
   "source": [
    "def two_times(x):\n",
    "    return x*2\n",
    "list(map(two_times,[1,2,3,4]))"
   ]
  },
  {
   "cell_type": "markdown",
   "id": "cb588de3-058f-4d27-95bf-005c75638f2d",
   "metadata": {},
   "source": [
    "### round (반올림)"
   ]
  },
  {
   "cell_type": "code",
   "execution_count": 57,
   "id": "aad5424c-3273-48bc-ba2c-df9f45f19923",
   "metadata": {},
   "outputs": [
    {
     "data": {
      "text/plain": [
       "3"
      ]
     },
     "execution_count": 57,
     "metadata": {},
     "output_type": "execute_result"
    }
   ],
   "source": [
    "round(3,14)"
   ]
  },
  {
   "cell_type": "markdown",
   "id": "b4aa2c63-3a39-4db0-9ab1-c405edba1873",
   "metadata": {},
   "source": [
    "### sorted (입력 데이터를 정렬한 후 그 결과를 리스트로 리턴)"
   ]
  },
  {
   "cell_type": "code",
   "execution_count": 58,
   "id": "8480317c-d35e-4e20-904f-b1ef712e425e",
   "metadata": {},
   "outputs": [
    {
     "data": {
      "text/plain": [
       "[1, 2, 2, 4, 4, 6, 7, 32, 43, 434, 312332]"
      ]
     },
     "execution_count": 58,
     "metadata": {},
     "output_type": "execute_result"
    }
   ],
   "source": [
    "sorted([4,1,2,4,6,2,32,312332,434,43,7])"
   ]
  },
  {
   "cell_type": "markdown",
   "id": "d0ec7a62-3356-4a71-9d41-02578a278040",
   "metadata": {},
   "source": [
    "## 표준 라이브러리"
   ]
  },
  {
   "cell_type": "markdown",
   "id": "8ef36178-f3f7-426d-b79c-be0a8c8b342a",
   "metadata": {},
   "source": [
    "### datetime.date"
   ]
  },
  {
   "cell_type": "code",
   "execution_count": 59,
   "id": "21e58508-9e93-46be-b377-02ffaf617668",
   "metadata": {},
   "outputs": [
    {
     "data": {
      "text/plain": [
       "124"
      ]
     },
     "execution_count": 59,
     "metadata": {},
     "output_type": "execute_result"
    }
   ],
   "source": [
    "import datetime\n",
    "day1 = datetime.date(2023,9,20)\n",
    "day2 = datetime.date(2024,1,22)\n",
    "diff = day2 - day1\n",
    "diff.days"
   ]
  },
  {
   "cell_type": "markdown",
   "id": "743a8cfa-b000-41b4-8089-8a12c3fbd842",
   "metadata": {},
   "source": [
    "### time"
   ]
  },
  {
   "cell_type": "markdown",
   "id": "f349121d-98b9-4d95-9c99-3f3000531b4b",
   "metadata": {},
   "source": [
    "#### time.time"
   ]
  },
  {
   "cell_type": "code",
   "execution_count": 63,
   "id": "957323b1-d992-463a-8728-e76f78ba5d0e",
   "metadata": {},
   "outputs": [
    {
     "data": {
      "text/plain": [
       "1705894255.1298013"
      ]
     },
     "execution_count": 63,
     "metadata": {},
     "output_type": "execute_result"
    }
   ],
   "source": [
    "import time as t\n",
    "t.time()"
   ]
  },
  {
   "cell_type": "code",
   "execution_count": 64,
   "id": "50371c02-928f-41d3-af11-3fa5a1bc9c61",
   "metadata": {},
   "outputs": [
    {
     "data": {
      "text/plain": [
       "time.struct_time(tm_year=2024, tm_mon=1, tm_mday=22, tm_hour=12, tm_min=30, tm_sec=55, tm_wday=0, tm_yday=22, tm_isdst=0)"
      ]
     },
     "execution_count": 64,
     "metadata": {},
     "output_type": "execute_result"
    }
   ],
   "source": [
    "time.localtime(time.time())"
   ]
  },
  {
   "cell_type": "code",
   "execution_count": 65,
   "id": "5948bc2e-dee4-4b29-9092-55fa7f3c83d4",
   "metadata": {},
   "outputs": [
    {
     "data": {
      "text/plain": [
       "time.struct_time(tm_year=2024, tm_mon=1, tm_mday=22, tm_hour=12, tm_min=30, tm_sec=55, tm_wday=0, tm_yday=22, tm_isdst=0)"
      ]
     },
     "execution_count": 65,
     "metadata": {},
     "output_type": "execute_result"
    }
   ],
   "source": [
    "t.localtime(time.time())"
   ]
  },
  {
   "cell_type": "code",
   "execution_count": 66,
   "id": "7e49ca0b-0e92-4dd1-982f-79bfb3fbcde5",
   "metadata": {},
   "outputs": [
    {
     "data": {
      "text/plain": [
       "1705894300.7916455"
      ]
     },
     "execution_count": 66,
     "metadata": {},
     "output_type": "execute_result"
    }
   ],
   "source": [
    "t.time()"
   ]
  },
  {
   "cell_type": "code",
   "execution_count": 68,
   "id": "fe83bcd6-fdce-43af-8779-c3be8f0b3850",
   "metadata": {},
   "outputs": [
    {
     "data": {
      "text/plain": [
       "<function time.sleep>"
      ]
     },
     "execution_count": 68,
     "metadata": {},
     "output_type": "execute_result"
    }
   ],
   "source": [
    "t.sleep"
   ]
  },
  {
   "cell_type": "code",
   "execution_count": 69,
   "id": "86b75398-940f-490b-bce3-f5c153d2f762",
   "metadata": {},
   "outputs": [
    {
     "data": {
      "text/plain": [
       "'Mon Jan 22 12:33:35 2024'"
      ]
     },
     "execution_count": 69,
     "metadata": {},
     "output_type": "execute_result"
    }
   ],
   "source": [
    "t.ctime()"
   ]
  },
  {
   "cell_type": "code",
   "execution_count": 70,
   "id": "c1090fad-6d62-4605-8100-562a8f09b30c",
   "metadata": {},
   "outputs": [
    {
     "name": "stdout",
     "output_type": "stream",
     "text": [
      "0\n",
      "1\n",
      "2\n",
      "3\n",
      "4\n",
      "5\n",
      "6\n",
      "7\n",
      "8\n",
      "9\n"
     ]
    }
   ],
   "source": [
    "for i in range(10):\n",
    "    print(i)\n",
    "    t.sleep(i)"
   ]
  },
  {
   "cell_type": "markdown",
   "id": "ed4f062a-bef4-4860-8623-955a75edcb79",
   "metadata": {},
   "source": [
    "### random (규칙이 없는 임의의 수)"
   ]
  },
  {
   "cell_type": "code",
   "execution_count": 77,
   "id": "a183663d-941d-4ffc-812e-140a4cfa3ac5",
   "metadata": {},
   "outputs": [
    {
     "name": "stdout",
     "output_type": "stream",
     "text": [
      "0.17s : [16600, 16564, 16674, 16758, 16752, 16652]\n"
     ]
    }
   ],
   "source": [
    "import random as r\n",
    "import time as t\n",
    "list = [0] * 6\n",
    "start = t.time()\n",
    "for i in range(100000):\n",
    "    ran = r.randint(1,6)\n",
    "    list[ran-1] += 1\n",
    "end = t.time() - start\n",
    "print(f'{round(end,2)}s : {list}')\n",
    "    #list[ran=1] = ran"
   ]
  },
  {
   "cell_type": "markdown",
   "id": "93e85504-523c-4d1d-8d09-d0b620e84486",
   "metadata": {},
   "source": [
    "### itertools.permutation,itertools.combination (수학적 확률) @"
   ]
  },
  {
   "cell_type": "markdown",
   "id": "1e676763-13d0-4ca7-b9b7-013d6111db4a",
   "metadata": {},
   "source": [
    "### functools.reduce @"
   ]
  },
  {
   "cell_type": "markdown",
   "id": "2b75532d-fa68-49db-a839-fafa3793bbb7",
   "metadata": {},
   "source": [
    "### operator.itemgetter @"
   ]
  },
  {
   "cell_type": "markdown",
   "id": "ef6058bc-9b72-4d67-a3d4-19125aefaaaa",
   "metadata": {},
   "source": [
    "### shutil(파일을 복사하거나 이동)"
   ]
  },
  {
   "cell_type": "markdown",
   "id": "7d7b7e9f-6cc8-4144-a3f1-d8c751575873",
   "metadata": {},
   "source": [
    "### glob"
   ]
  },
  {
   "cell_type": "markdown",
   "id": "0f80a724-4dda-44df-a938-ee9c0ade0f97",
   "metadata": {},
   "source": [
    "### pickle @"
   ]
  },
  {
   "cell_type": "markdown",
   "id": "b3f22cc3-c1b7-4e4d-b993-e888b7693111",
   "metadata": {},
   "source": [
    "### OS"
   ]
  },
  {
   "cell_type": "markdown",
   "id": "da555169-e713-4221-a4e4-a70cfcb27796",
   "metadata": {},
   "source": [
    "### zipfile @"
   ]
  },
  {
   "cell_type": "markdown",
   "id": "6e79874f-a355-4794-b617-cd1b5633537c",
   "metadata": {},
   "source": [
    "### threading @"
   ]
  },
  {
   "cell_type": "markdown",
   "id": "356a211e-efd2-4483-a2eb-9efa295c6575",
   "metadata": {},
   "source": [
    "### tempfile @"
   ]
  },
  {
   "cell_type": "markdown",
   "id": "ee20423a-8515-4a77-8b4e-efdb095ba800",
   "metadata": {},
   "source": [
    "### traceback@"
   ]
  },
  {
   "cell_type": "markdown",
   "id": "7458cb1e-1fcd-4774-8aad-efa382300b70",
   "metadata": {},
   "source": [
    "### JSON"
   ]
  },
  {
   "cell_type": "markdown",
   "id": "8ac42029-c45c-4f79-a1f5-1f13c045799d",
   "metadata": {},
   "source": [
    "### urllib@"
   ]
  },
  {
   "cell_type": "markdown",
   "id": "73293feb-0207-4d69-a75c-f0fecff2e910",
   "metadata": {},
   "source": [
    "### webbrowser@"
   ]
  },
  {
   "cell_type": "code",
   "execution_count": null,
   "id": "c758aac4-5949-470b-99bd-8e994f5ddeff",
   "metadata": {},
   "outputs": [],
   "source": []
  }
 ],
 "metadata": {
  "kernelspec": {
   "display_name": "Python 3 (ipykernel)",
   "language": "python",
   "name": "python3"
  },
  "language_info": {
   "codemirror_mode": {
    "name": "ipython",
    "version": 3
   },
   "file_extension": ".py",
   "mimetype": "text/x-python",
   "name": "python",
   "nbconvert_exporter": "python",
   "pygments_lexer": "ipython3",
   "version": "3.11.2"
  }
 },
 "nbformat": 4,
 "nbformat_minor": 5
}
